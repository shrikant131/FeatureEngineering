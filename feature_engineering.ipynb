{
  "cells": [
    {
      "cell_type": "markdown",
      "metadata": {
        "id": "uBfSO5Mds61q"
      },
      "source": [
        "# Feature Engineering on DK Housing Prices Dataset"
      ]
    },
    {
      "cell_type": "markdown",
      "metadata": {
        "id": "gJiL8swzs61w"
      },
      "source": [
        "## Identification of Attribute Types"
      ]
    },
    {
      "cell_type": "code",
      "metadata": {
        "colab": {
          "base_uri": "https://localhost:8080/",
          "height": 330
        },
        "id": "L1k4DzxOs61x",
        "outputId": "d06bc56d-78cf-4f24-9a71-f62a8179f844"
      },
      "source": [
        "# Import necessary libraries\n",
        "import pandas as pd\n",
        "import numpy as np\n",
        "import seaborn as sns\n",
        "import matplotlib.pyplot as plt\n",
        "\n",
        "# Load the dataset\n",
        "df = pd.read_csv('DKHousingPricesSample100k.csv')\n",
        "\n",
        "# Display the first few rows of the dataset\n",
        "df.head()"
      ],
      "execution_count": 22,
      "outputs": [
        {
          "data": {
            "application/vnd.google.colaboratory.intrinsic+json": {
              "summary": "{\n  \"name\": \"df\",\n  \"rows\": 100000,\n  \"fields\": [\n    {\n      \"column\": \"date\",\n      \"properties\": {\n        \"dtype\": \"object\",\n        \"num_unique_values\": 11254,\n        \"samples\": [\n          \"2003-05-29\",\n          \"2007-02-10\",\n          \"2020-10-28\"\n        ],\n        \"semantic_type\": \"\",\n        \"description\": \"\"\n      }\n    },\n    {\n      \"column\": \"quarter\",\n      \"properties\": {\n        \"dtype\": \"object\",\n        \"num_unique_values\": 130,\n        \"samples\": [\n          \"2010Q3\",\n          \"2014Q2\",\n          \"2020Q1\"\n        ],\n        \"semantic_type\": \"\",\n        \"description\": \"\"\n      }\n    },\n    {\n      \"column\": \"house_id\",\n      \"properties\": {\n        \"dtype\": \"number\",\n        \"std\": 434890,\n        \"min\": 13,\n        \"max\": 1507901,\n        \"num_unique_values\": 100000,\n        \"samples\": [\n          1135851,\n          1203442,\n          288126\n        ],\n        \"semantic_type\": \"\",\n        \"description\": \"\"\n      }\n    },\n    {\n      \"column\": \"house_type\",\n      \"properties\": {\n        \"dtype\": \"category\",\n        \"num_unique_values\": 5,\n        \"samples\": [\n          \"Apartment\",\n          \"Farm\",\n          \"Summerhouse\"\n        ],\n        \"semantic_type\": \"\",\n        \"description\": \"\"\n      }\n    },\n    {\n      \"column\": \"sales_type\",\n      \"properties\": {\n        \"dtype\": \"category\",\n        \"num_unique_values\": 4,\n        \"samples\": [\n          \"family_sale\",\n          \"auction\",\n          \"regular_sale\"\n        ],\n        \"semantic_type\": \"\",\n        \"description\": \"\"\n      }\n    },\n    {\n      \"column\": \"year_build\",\n      \"properties\": {\n        \"dtype\": \"number\",\n        \"std\": 45,\n        \"min\": 1000,\n        \"max\": 2024,\n        \"num_unique_values\": 344,\n        \"samples\": [\n          1865,\n          1871,\n          1805\n        ],\n        \"semantic_type\": \"\",\n        \"description\": \"\"\n      }\n    },\n    {\n      \"column\": \"purchase_price\",\n      \"properties\": {\n        \"dtype\": \"number\",\n        \"std\": 1777832,\n        \"min\": 250200,\n        \"max\": 45955000,\n        \"num_unique_values\": 14100,\n        \"samples\": [\n          3351000,\n          427000,\n          666250\n        ],\n        \"semantic_type\": \"\",\n        \"description\": \"\"\n      }\n    },\n    {\n      \"column\": \"%_change_between_offer_and_purchase\",\n      \"properties\": {\n        \"dtype\": \"number\",\n        \"std\": 4.852926399743535,\n        \"min\": -49.0,\n        \"max\": 49.0,\n        \"num_unique_values\": 97,\n        \"samples\": [\n          -43.0,\n          -25.0,\n          39.0\n        ],\n        \"semantic_type\": \"\",\n        \"description\": \"\"\n      }\n    },\n    {\n      \"column\": \"no_rooms\",\n      \"properties\": {\n        \"dtype\": \"number\",\n        \"std\": 1,\n        \"min\": 1,\n        \"max\": 15,\n        \"num_unique_values\": 15,\n        \"samples\": [\n          1,\n          11,\n          5\n        ],\n        \"semantic_type\": \"\",\n        \"description\": \"\"\n      }\n    },\n    {\n      \"column\": \"sqm\",\n      \"properties\": {\n        \"dtype\": \"number\",\n        \"std\": 57.17061850674465,\n        \"min\": 26.0,\n        \"max\": 984.0,\n        \"num_unique_values\": 516,\n        \"samples\": [\n          370.0,\n          961.0,\n          399.0\n        ],\n        \"semantic_type\": \"\",\n        \"description\": \"\"\n      }\n    },\n    {\n      \"column\": \"sqm_price\",\n      \"properties\": {\n        \"dtype\": \"number\",\n        \"std\": 13655.184405333444,\n        \"min\": 374.5498,\n        \"max\": 75000.0,\n        \"num_unique_values\": 50160,\n        \"samples\": [\n          15532.995,\n          26737.969,\n          11931.818\n        ],\n        \"semantic_type\": \"\",\n        \"description\": \"\"\n      }\n    },\n    {\n      \"column\": \"address\",\n      \"properties\": {\n        \"dtype\": \"string\",\n        \"num_unique_values\": 92463,\n        \"samples\": [\n          \"Linkenk\\u00e6rsvej 65\",\n          \"Gadholtvej 17\",\n          \"Ulsh\\u00f8jsvej 23\"\n        ],\n        \"semantic_type\": \"\",\n        \"description\": \"\"\n      }\n    },\n    {\n      \"column\": \"zip_code\",\n      \"properties\": {\n        \"dtype\": \"number\",\n        \"std\": 2369,\n        \"min\": 1051,\n        \"max\": 9990,\n        \"num_unique_values\": 862,\n        \"samples\": [\n          1672,\n          1800,\n          2720\n        ],\n        \"semantic_type\": \"\",\n        \"description\": \"\"\n      }\n    },\n    {\n      \"column\": \"city\",\n      \"properties\": {\n        \"dtype\": \"category\",\n        \"num_unique_values\": 607,\n        \"samples\": [\n          \"Bagenkop\",\n          \"Lundby\",\n          \"L\\u00f8sning\"\n        ],\n        \"semantic_type\": \"\",\n        \"description\": \"\"\n      }\n    },\n    {\n      \"column\": \"area\",\n      \"properties\": {\n        \"dtype\": \"category\",\n        \"num_unique_values\": 8,\n        \"samples\": [\n          \"Other islands\",\n          \"East & mid jutland\",\n          \"Capital, Copenhagen\"\n        ],\n        \"semantic_type\": \"\",\n        \"description\": \"\"\n      }\n    },\n    {\n      \"column\": \"region\",\n      \"properties\": {\n        \"dtype\": \"category\",\n        \"num_unique_values\": 4,\n        \"samples\": [\n          \"Fyn & islands\",\n          \"Bornholm\",\n          \"Zealand\"\n        ],\n        \"semantic_type\": \"\",\n        \"description\": \"\"\n      }\n    },\n    {\n      \"column\": \"nom_interest_rate%\",\n      \"properties\": {\n        \"dtype\": \"number\",\n        \"std\": 2.0480777639825294,\n        \"min\": 0.0,\n        \"max\": 9.5,\n        \"num_unique_values\": 31,\n        \"samples\": [\n          6.25,\n          4.0,\n          4.75\n        ],\n        \"semantic_type\": \"\",\n        \"description\": \"\"\n      }\n    },\n    {\n      \"column\": \"dk_ann_infl_rate%\",\n      \"properties\": {\n        \"dtype\": \"number\",\n        \"std\": 1.6384401657806427,\n        \"min\": 0.25,\n        \"max\": 7.7,\n        \"num_unique_values\": 30,\n        \"samples\": [\n          1.99,\n          1.3,\n          2.9\n        ],\n        \"semantic_type\": \"\",\n        \"description\": \"\"\n      }\n    },\n    {\n      \"column\": \"yield_on_mortgage_credit_bonds%\",\n      \"properties\": {\n        \"dtype\": \"number\",\n        \"std\": 2.1944277448691816,\n        \"min\": 1.1,\n        \"max\": 10.14,\n        \"num_unique_values\": 33,\n        \"samples\": [\n          8.16,\n          5.5,\n          6.27\n        ],\n        \"semantic_type\": \"\",\n        \"description\": \"\"\n      }\n    }\n  ]\n}",
              "type": "dataframe",
              "variable_name": "df"
            },
            "text/html": [
              "\n",
              "  <div id=\"df-2ecc1845-6412-4598-a3b9-a54566747060\" class=\"colab-df-container\">\n",
              "    <div>\n",
              "<style scoped>\n",
              "    .dataframe tbody tr th:only-of-type {\n",
              "        vertical-align: middle;\n",
              "    }\n",
              "\n",
              "    .dataframe tbody tr th {\n",
              "        vertical-align: top;\n",
              "    }\n",
              "\n",
              "    .dataframe thead th {\n",
              "        text-align: right;\n",
              "    }\n",
              "</style>\n",
              "<table border=\"1\" class=\"dataframe\">\n",
              "  <thead>\n",
              "    <tr style=\"text-align: right;\">\n",
              "      <th></th>\n",
              "      <th>date</th>\n",
              "      <th>quarter</th>\n",
              "      <th>house_id</th>\n",
              "      <th>house_type</th>\n",
              "      <th>sales_type</th>\n",
              "      <th>year_build</th>\n",
              "      <th>purchase_price</th>\n",
              "      <th>%_change_between_offer_and_purchase</th>\n",
              "      <th>no_rooms</th>\n",
              "      <th>sqm</th>\n",
              "      <th>sqm_price</th>\n",
              "      <th>address</th>\n",
              "      <th>zip_code</th>\n",
              "      <th>city</th>\n",
              "      <th>area</th>\n",
              "      <th>region</th>\n",
              "      <th>nom_interest_rate%</th>\n",
              "      <th>dk_ann_infl_rate%</th>\n",
              "      <th>yield_on_mortgage_credit_bonds%</th>\n",
              "    </tr>\n",
              "  </thead>\n",
              "  <tbody>\n",
              "    <tr>\n",
              "      <th>0</th>\n",
              "      <td>2024-10-24</td>\n",
              "      <td>2024Q4</td>\n",
              "      <td>16</td>\n",
              "      <td>Villa</td>\n",
              "      <td>regular_sale</td>\n",
              "      <td>1997</td>\n",
              "      <td>6500000</td>\n",
              "      <td>-3.0</td>\n",
              "      <td>5</td>\n",
              "      <td>142.0</td>\n",
              "      <td>45774.650</td>\n",
              "      <td>Spættevej 16</td>\n",
              "      <td>2680</td>\n",
              "      <td>Solrød Strand</td>\n",
              "      <td>Capital, Copenhagen</td>\n",
              "      <td>Zealand</td>\n",
              "      <td>3.1</td>\n",
              "      <td>NaN</td>\n",
              "      <td>NaN</td>\n",
              "    </tr>\n",
              "    <tr>\n",
              "      <th>1</th>\n",
              "      <td>2024-10-24</td>\n",
              "      <td>2024Q4</td>\n",
              "      <td>13</td>\n",
              "      <td>Apartment</td>\n",
              "      <td>regular_sale</td>\n",
              "      <td>1885</td>\n",
              "      <td>3400000</td>\n",
              "      <td>0.0</td>\n",
              "      <td>2</td>\n",
              "      <td>46.0</td>\n",
              "      <td>73913.050</td>\n",
              "      <td>Jakob Dannefærds Vej 10B, 4. th</td>\n",
              "      <td>1973</td>\n",
              "      <td>Frederiksberg C</td>\n",
              "      <td>Capital, Copenhagen</td>\n",
              "      <td>Zealand</td>\n",
              "      <td>3.1</td>\n",
              "      <td>NaN</td>\n",
              "      <td>NaN</td>\n",
              "    </tr>\n",
              "    <tr>\n",
              "      <th>2</th>\n",
              "      <td>2024-10-23</td>\n",
              "      <td>2024Q4</td>\n",
              "      <td>60</td>\n",
              "      <td>Villa</td>\n",
              "      <td>regular_sale</td>\n",
              "      <td>1949</td>\n",
              "      <td>4550000</td>\n",
              "      <td>-4.0</td>\n",
              "      <td>4</td>\n",
              "      <td>112.0</td>\n",
              "      <td>40625.000</td>\n",
              "      <td>Vestre Plantagevej 3</td>\n",
              "      <td>2680</td>\n",
              "      <td>Solrød Strand</td>\n",
              "      <td>Capital, Copenhagen</td>\n",
              "      <td>Zealand</td>\n",
              "      <td>3.1</td>\n",
              "      <td>NaN</td>\n",
              "      <td>NaN</td>\n",
              "    </tr>\n",
              "    <tr>\n",
              "      <th>3</th>\n",
              "      <td>2024-10-23</td>\n",
              "      <td>2024Q4</td>\n",
              "      <td>29</td>\n",
              "      <td>Villa</td>\n",
              "      <td>regular_sale</td>\n",
              "      <td>2001</td>\n",
              "      <td>1630000</td>\n",
              "      <td>-12.0</td>\n",
              "      <td>4</td>\n",
              "      <td>186.0</td>\n",
              "      <td>8763.440</td>\n",
              "      <td>Toftebjerg 3</td>\n",
              "      <td>4400</td>\n",
              "      <td>Kalundborg</td>\n",
              "      <td>Other islands</td>\n",
              "      <td>Zealand</td>\n",
              "      <td>3.1</td>\n",
              "      <td>NaN</td>\n",
              "      <td>NaN</td>\n",
              "    </tr>\n",
              "    <tr>\n",
              "      <th>4</th>\n",
              "      <td>2024-10-22</td>\n",
              "      <td>2024Q4</td>\n",
              "      <td>92</td>\n",
              "      <td>Apartment</td>\n",
              "      <td>regular_sale</td>\n",
              "      <td>1965</td>\n",
              "      <td>1975000</td>\n",
              "      <td>-10.0</td>\n",
              "      <td>3</td>\n",
              "      <td>82.0</td>\n",
              "      <td>24085.365</td>\n",
              "      <td>Ryttergårdsvej 20, 1. 113</td>\n",
              "      <td>3520</td>\n",
              "      <td>Farum</td>\n",
              "      <td>North Zealand</td>\n",
              "      <td>Zealand</td>\n",
              "      <td>3.1</td>\n",
              "      <td>NaN</td>\n",
              "      <td>NaN</td>\n",
              "    </tr>\n",
              "  </tbody>\n",
              "</table>\n",
              "</div>\n",
              "    <div class=\"colab-df-buttons\">\n",
              "\n",
              "  <div class=\"colab-df-container\">\n",
              "    <button class=\"colab-df-convert\" onclick=\"convertToInteractive('df-2ecc1845-6412-4598-a3b9-a54566747060')\"\n",
              "            title=\"Convert this dataframe to an interactive table.\"\n",
              "            style=\"display:none;\">\n",
              "\n",
              "  <svg xmlns=\"http://www.w3.org/2000/svg\" height=\"24px\" viewBox=\"0 -960 960 960\">\n",
              "    <path d=\"M120-120v-720h720v720H120Zm60-500h600v-160H180v160Zm220 220h160v-160H400v160Zm0 220h160v-160H400v160ZM180-400h160v-160H180v160Zm440 0h160v-160H620v160ZM180-180h160v-160H180v160Zm440 0h160v-160H620v160Z\"/>\n",
              "  </svg>\n",
              "    </button>\n",
              "\n",
              "  <style>\n",
              "    .colab-df-container {\n",
              "      display:flex;\n",
              "      gap: 12px;\n",
              "    }\n",
              "\n",
              "    .colab-df-convert {\n",
              "      background-color: #E8F0FE;\n",
              "      border: none;\n",
              "      border-radius: 50%;\n",
              "      cursor: pointer;\n",
              "      display: none;\n",
              "      fill: #1967D2;\n",
              "      height: 32px;\n",
              "      padding: 0 0 0 0;\n",
              "      width: 32px;\n",
              "    }\n",
              "\n",
              "    .colab-df-convert:hover {\n",
              "      background-color: #E2EBFA;\n",
              "      box-shadow: 0px 1px 2px rgba(60, 64, 67, 0.3), 0px 1px 3px 1px rgba(60, 64, 67, 0.15);\n",
              "      fill: #174EA6;\n",
              "    }\n",
              "\n",
              "    .colab-df-buttons div {\n",
              "      margin-bottom: 4px;\n",
              "    }\n",
              "\n",
              "    [theme=dark] .colab-df-convert {\n",
              "      background-color: #3B4455;\n",
              "      fill: #D2E3FC;\n",
              "    }\n",
              "\n",
              "    [theme=dark] .colab-df-convert:hover {\n",
              "      background-color: #434B5C;\n",
              "      box-shadow: 0px 1px 3px 1px rgba(0, 0, 0, 0.15);\n",
              "      filter: drop-shadow(0px 1px 2px rgba(0, 0, 0, 0.3));\n",
              "      fill: #FFFFFF;\n",
              "    }\n",
              "  </style>\n",
              "\n",
              "    <script>\n",
              "      const buttonEl =\n",
              "        document.querySelector('#df-2ecc1845-6412-4598-a3b9-a54566747060 button.colab-df-convert');\n",
              "      buttonEl.style.display =\n",
              "        google.colab.kernel.accessAllowed ? 'block' : 'none';\n",
              "\n",
              "      async function convertToInteractive(key) {\n",
              "        const element = document.querySelector('#df-2ecc1845-6412-4598-a3b9-a54566747060');\n",
              "        const dataTable =\n",
              "          await google.colab.kernel.invokeFunction('convertToInteractive',\n",
              "                                                    [key], {});\n",
              "        if (!dataTable) return;\n",
              "\n",
              "        const docLinkHtml = 'Like what you see? Visit the ' +\n",
              "          '<a target=\"_blank\" href=https://colab.research.google.com/notebooks/data_table.ipynb>data table notebook</a>'\n",
              "          + ' to learn more about interactive tables.';\n",
              "        element.innerHTML = '';\n",
              "        dataTable['output_type'] = 'display_data';\n",
              "        await google.colab.output.renderOutput(dataTable, element);\n",
              "        const docLink = document.createElement('div');\n",
              "        docLink.innerHTML = docLinkHtml;\n",
              "        element.appendChild(docLink);\n",
              "      }\n",
              "    </script>\n",
              "  </div>\n",
              "\n",
              "\n",
              "<div id=\"df-337cad11-036b-47e8-b998-34772c9d2d0b\">\n",
              "  <button class=\"colab-df-quickchart\" onclick=\"quickchart('df-337cad11-036b-47e8-b998-34772c9d2d0b')\"\n",
              "            title=\"Suggest charts\"\n",
              "            style=\"display:none;\">\n",
              "\n",
              "<svg xmlns=\"http://www.w3.org/2000/svg\" height=\"24px\"viewBox=\"0 0 24 24\"\n",
              "     width=\"24px\">\n",
              "    <g>\n",
              "        <path d=\"M19 3H5c-1.1 0-2 .9-2 2v14c0 1.1.9 2 2 2h14c1.1 0 2-.9 2-2V5c0-1.1-.9-2-2-2zM9 17H7v-7h2v7zm4 0h-2V7h2v10zm4 0h-2v-4h2v4z\"/>\n",
              "    </g>\n",
              "</svg>\n",
              "  </button>\n",
              "\n",
              "<style>\n",
              "  .colab-df-quickchart {\n",
              "      --bg-color: #E8F0FE;\n",
              "      --fill-color: #1967D2;\n",
              "      --hover-bg-color: #E2EBFA;\n",
              "      --hover-fill-color: #174EA6;\n",
              "      --disabled-fill-color: #AAA;\n",
              "      --disabled-bg-color: #DDD;\n",
              "  }\n",
              "\n",
              "  [theme=dark] .colab-df-quickchart {\n",
              "      --bg-color: #3B4455;\n",
              "      --fill-color: #D2E3FC;\n",
              "      --hover-bg-color: #434B5C;\n",
              "      --hover-fill-color: #FFFFFF;\n",
              "      --disabled-bg-color: #3B4455;\n",
              "      --disabled-fill-color: #666;\n",
              "  }\n",
              "\n",
              "  .colab-df-quickchart {\n",
              "    background-color: var(--bg-color);\n",
              "    border: none;\n",
              "    border-radius: 50%;\n",
              "    cursor: pointer;\n",
              "    display: none;\n",
              "    fill: var(--fill-color);\n",
              "    height: 32px;\n",
              "    padding: 0;\n",
              "    width: 32px;\n",
              "  }\n",
              "\n",
              "  .colab-df-quickchart:hover {\n",
              "    background-color: var(--hover-bg-color);\n",
              "    box-shadow: 0 1px 2px rgba(60, 64, 67, 0.3), 0 1px 3px 1px rgba(60, 64, 67, 0.15);\n",
              "    fill: var(--button-hover-fill-color);\n",
              "  }\n",
              "\n",
              "  .colab-df-quickchart-complete:disabled,\n",
              "  .colab-df-quickchart-complete:disabled:hover {\n",
              "    background-color: var(--disabled-bg-color);\n",
              "    fill: var(--disabled-fill-color);\n",
              "    box-shadow: none;\n",
              "  }\n",
              "\n",
              "  .colab-df-spinner {\n",
              "    border: 2px solid var(--fill-color);\n",
              "    border-color: transparent;\n",
              "    border-bottom-color: var(--fill-color);\n",
              "    animation:\n",
              "      spin 1s steps(1) infinite;\n",
              "  }\n",
              "\n",
              "  @keyframes spin {\n",
              "    0% {\n",
              "      border-color: transparent;\n",
              "      border-bottom-color: var(--fill-color);\n",
              "      border-left-color: var(--fill-color);\n",
              "    }\n",
              "    20% {\n",
              "      border-color: transparent;\n",
              "      border-left-color: var(--fill-color);\n",
              "      border-top-color: var(--fill-color);\n",
              "    }\n",
              "    30% {\n",
              "      border-color: transparent;\n",
              "      border-left-color: var(--fill-color);\n",
              "      border-top-color: var(--fill-color);\n",
              "      border-right-color: var(--fill-color);\n",
              "    }\n",
              "    40% {\n",
              "      border-color: transparent;\n",
              "      border-right-color: var(--fill-color);\n",
              "      border-top-color: var(--fill-color);\n",
              "    }\n",
              "    60% {\n",
              "      border-color: transparent;\n",
              "      border-right-color: var(--fill-color);\n",
              "    }\n",
              "    80% {\n",
              "      border-color: transparent;\n",
              "      border-right-color: var(--fill-color);\n",
              "      border-bottom-color: var(--fill-color);\n",
              "    }\n",
              "    90% {\n",
              "      border-color: transparent;\n",
              "      border-bottom-color: var(--fill-color);\n",
              "    }\n",
              "  }\n",
              "</style>\n",
              "\n",
              "  <script>\n",
              "    async function quickchart(key) {\n",
              "      const quickchartButtonEl =\n",
              "        document.querySelector('#' + key + ' button');\n",
              "      quickchartButtonEl.disabled = true;  // To prevent multiple clicks.\n",
              "      quickchartButtonEl.classList.add('colab-df-spinner');\n",
              "      try {\n",
              "        const charts = await google.colab.kernel.invokeFunction(\n",
              "            'suggestCharts', [key], {});\n",
              "      } catch (error) {\n",
              "        console.error('Error during call to suggestCharts:', error);\n",
              "      }\n",
              "      quickchartButtonEl.classList.remove('colab-df-spinner');\n",
              "      quickchartButtonEl.classList.add('colab-df-quickchart-complete');\n",
              "    }\n",
              "    (() => {\n",
              "      let quickchartButtonEl =\n",
              "        document.querySelector('#df-337cad11-036b-47e8-b998-34772c9d2d0b button');\n",
              "      quickchartButtonEl.style.display =\n",
              "        google.colab.kernel.accessAllowed ? 'block' : 'none';\n",
              "    })();\n",
              "  </script>\n",
              "</div>\n",
              "\n",
              "    </div>\n",
              "  </div>\n"
            ],
            "text/plain": [
              "         date quarter  house_id house_type    sales_type  year_build  \\\n",
              "0  2024-10-24  2024Q4        16      Villa  regular_sale        1997   \n",
              "1  2024-10-24  2024Q4        13  Apartment  regular_sale        1885   \n",
              "2  2024-10-23  2024Q4        60      Villa  regular_sale        1949   \n",
              "3  2024-10-23  2024Q4        29      Villa  regular_sale        2001   \n",
              "4  2024-10-22  2024Q4        92  Apartment  regular_sale        1965   \n",
              "\n",
              "   purchase_price  %_change_between_offer_and_purchase  no_rooms    sqm  \\\n",
              "0         6500000                                 -3.0         5  142.0   \n",
              "1         3400000                                  0.0         2   46.0   \n",
              "2         4550000                                 -4.0         4  112.0   \n",
              "3         1630000                                -12.0         4  186.0   \n",
              "4         1975000                                -10.0         3   82.0   \n",
              "\n",
              "   sqm_price                          address  zip_code             city  \\\n",
              "0  45774.650                     Spættevej 16      2680    Solrød Strand   \n",
              "1  73913.050  Jakob Dannefærds Vej 10B, 4. th      1973  Frederiksberg C   \n",
              "2  40625.000             Vestre Plantagevej 3      2680    Solrød Strand   \n",
              "3   8763.440                     Toftebjerg 3      4400       Kalundborg   \n",
              "4  24085.365        Ryttergårdsvej 20, 1. 113      3520            Farum   \n",
              "\n",
              "                  area   region  nom_interest_rate%  dk_ann_infl_rate%  \\\n",
              "0  Capital, Copenhagen  Zealand                 3.1                NaN   \n",
              "1  Capital, Copenhagen  Zealand                 3.1                NaN   \n",
              "2  Capital, Copenhagen  Zealand                 3.1                NaN   \n",
              "3        Other islands  Zealand                 3.1                NaN   \n",
              "4        North Zealand  Zealand                 3.1                NaN   \n",
              "\n",
              "   yield_on_mortgage_credit_bonds%  \n",
              "0                              NaN  \n",
              "1                              NaN  \n",
              "2                              NaN  \n",
              "3                              NaN  \n",
              "4                              NaN  "
            ]
          },
          "execution_count": 22,
          "metadata": {},
          "output_type": "execute_result"
        }
      ]
    },
    {
      "cell_type": "markdown",
      "metadata": {
        "id": "BpKvywjzs613"
      },
      "source": [
        "## Handling Missing Data"
      ]
    },
    {
      "cell_type": "code",
      "metadata": {
        "colab": {
          "base_uri": "https://localhost:8080/",
          "height": 178
        },
        "id": "je4qIKuts615",
        "outputId": "a451c808-7cfa-4bf1-cae6-23f1de66b980"
      },
      "source": [
        "# Check for missing data\n",
        "missing_data = df.isnull().sum()\n",
        "missing_data[missing_data > 0]"
      ],
      "execution_count": 23,
      "outputs": [
        {
          "data": {
            "text/html": [
              "<div>\n",
              "<style scoped>\n",
              "    .dataframe tbody tr th:only-of-type {\n",
              "        vertical-align: middle;\n",
              "    }\n",
              "\n",
              "    .dataframe tbody tr th {\n",
              "        vertical-align: top;\n",
              "    }\n",
              "\n",
              "    .dataframe thead th {\n",
              "        text-align: right;\n",
              "    }\n",
              "</style>\n",
              "<table border=\"1\" class=\"dataframe\">\n",
              "  <thead>\n",
              "    <tr style=\"text-align: right;\">\n",
              "      <th></th>\n",
              "      <th>0</th>\n",
              "    </tr>\n",
              "  </thead>\n",
              "  <tbody>\n",
              "    <tr>\n",
              "      <th>city</th>\n",
              "      <td>11</td>\n",
              "    </tr>\n",
              "    <tr>\n",
              "      <th>dk_ann_infl_rate%</th>\n",
              "      <td>77</td>\n",
              "    </tr>\n",
              "    <tr>\n",
              "      <th>yield_on_mortgage_credit_bonds%</th>\n",
              "      <td>77</td>\n",
              "    </tr>\n",
              "  </tbody>\n",
              "</table>\n",
              "</div><br><label><b>dtype:</b> int64</label>"
            ],
            "text/plain": [
              "city                               11\n",
              "dk_ann_infl_rate%                  77\n",
              "yield_on_mortgage_credit_bonds%    77\n",
              "dtype: int64"
            ]
          },
          "execution_count": 23,
          "metadata": {},
          "output_type": "execute_result"
        }
      ]
    },
    {
      "cell_type": "markdown",
      "metadata": {
        "id": "8ssyuC3Rs616"
      },
      "source": [
        "### Explanation: Handling missing data is crucial to ensure the integrity of the dataset. We will use different techniques such as imputation or removal based on the nature and amount of missing data."
      ]
    },
    {
      "cell_type": "code",
      "metadata": {
        "colab": {
          "base_uri": "https://localhost:8080/",
          "height": 958
        },
        "id": "tAsSrpMAs617",
        "outputId": "2ef997b7-9447-4662-8444-413a92513003"
      },
      "source": [
        "# Impute missing data with mean for numeric columns and mode for categorical columns\n",
        "for col in df.columns:\n",
        "    if df[col].dtype == 'object':\n",
        "        # Use direct assignment instead of inplace=True\n",
        "        df[col] = df[col].fillna(df[col].mode()[0])\n",
        "    else:\n",
        "        # Use direct assignment instead of inplace=True\n",
        "        df[col] = df[col].fillna(df[col].mean())"
      ],
      "execution_count": 24,
      "outputs": [
        {
          "metadata": {
            "tags": null
          },
          "name": "stderr",
          "output_type": "stream",
          "text": [
            "<ipython-input-24-d0644c986ecd>:4: FutureWarning: A value is trying to be set on a copy of a DataFrame or Series through chained assignment using an inplace method.\n",
            "The behavior will change in pandas 3.0. This inplace method will never work because the intermediate object on which we are setting values always behaves as a copy.\n",
            "\n",
            "For example, when doing 'df[col].method(value, inplace=True)', try using 'df.method({col: value}, inplace=True)' or df[col] = df[col].method(value) instead, to perform the operation inplace on the original object.\n",
            "\n",
            "\n",
            "  df[col].fillna(df[col].mode()[0], inplace=True)\n",
            "<ipython-input-24-d0644c986ecd>:6: FutureWarning: A value is trying to be set on a copy of a DataFrame or Series through chained assignment using an inplace method.\n",
            "The behavior will change in pandas 3.0. This inplace method will never work because the intermediate object on which we are setting values always behaves as a copy.\n",
            "\n",
            "For example, when doing 'df[col].method(value, inplace=True)', try using 'df.method({col: value}, inplace=True)' or df[col] = df[col].method(value) instead, to perform the operation inplace on the original object.\n",
            "\n",
            "\n",
            "  df[col].fillna(df[col].mean(), inplace=True)\n"
          ]
        },
        {
          "data": {
            "text/html": [
              "<div>\n",
              "<style scoped>\n",
              "    .dataframe tbody tr th:only-of-type {\n",
              "        vertical-align: middle;\n",
              "    }\n",
              "\n",
              "    .dataframe tbody tr th {\n",
              "        vertical-align: top;\n",
              "    }\n",
              "\n",
              "    .dataframe thead th {\n",
              "        text-align: right;\n",
              "    }\n",
              "</style>\n",
              "<table border=\"1\" class=\"dataframe\">\n",
              "  <thead>\n",
              "    <tr style=\"text-align: right;\">\n",
              "      <th></th>\n",
              "      <th>0</th>\n",
              "    </tr>\n",
              "  </thead>\n",
              "  <tbody>\n",
              "    <tr>\n",
              "      <th>date</th>\n",
              "      <td>0</td>\n",
              "    </tr>\n",
              "    <tr>\n",
              "      <th>quarter</th>\n",
              "      <td>0</td>\n",
              "    </tr>\n",
              "    <tr>\n",
              "      <th>house_id</th>\n",
              "      <td>0</td>\n",
              "    </tr>\n",
              "    <tr>\n",
              "      <th>house_type</th>\n",
              "      <td>0</td>\n",
              "    </tr>\n",
              "    <tr>\n",
              "      <th>sales_type</th>\n",
              "      <td>0</td>\n",
              "    </tr>\n",
              "    <tr>\n",
              "      <th>year_build</th>\n",
              "      <td>0</td>\n",
              "    </tr>\n",
              "    <tr>\n",
              "      <th>purchase_price</th>\n",
              "      <td>0</td>\n",
              "    </tr>\n",
              "    <tr>\n",
              "      <th>%_change_between_offer_and_purchase</th>\n",
              "      <td>0</td>\n",
              "    </tr>\n",
              "    <tr>\n",
              "      <th>no_rooms</th>\n",
              "      <td>0</td>\n",
              "    </tr>\n",
              "    <tr>\n",
              "      <th>sqm</th>\n",
              "      <td>0</td>\n",
              "    </tr>\n",
              "    <tr>\n",
              "      <th>sqm_price</th>\n",
              "      <td>0</td>\n",
              "    </tr>\n",
              "    <tr>\n",
              "      <th>address</th>\n",
              "      <td>0</td>\n",
              "    </tr>\n",
              "    <tr>\n",
              "      <th>zip_code</th>\n",
              "      <td>0</td>\n",
              "    </tr>\n",
              "    <tr>\n",
              "      <th>city</th>\n",
              "      <td>0</td>\n",
              "    </tr>\n",
              "    <tr>\n",
              "      <th>area</th>\n",
              "      <td>0</td>\n",
              "    </tr>\n",
              "    <tr>\n",
              "      <th>region</th>\n",
              "      <td>0</td>\n",
              "    </tr>\n",
              "    <tr>\n",
              "      <th>nom_interest_rate%</th>\n",
              "      <td>0</td>\n",
              "    </tr>\n",
              "    <tr>\n",
              "      <th>dk_ann_infl_rate%</th>\n",
              "      <td>0</td>\n",
              "    </tr>\n",
              "    <tr>\n",
              "      <th>yield_on_mortgage_credit_bonds%</th>\n",
              "      <td>0</td>\n",
              "    </tr>\n",
              "  </tbody>\n",
              "</table>\n",
              "</div><br><label><b>dtype:</b> int64</label>"
            ],
            "text/plain": [
              "date                                   0\n",
              "quarter                                0\n",
              "house_id                               0\n",
              "house_type                             0\n",
              "sales_type                             0\n",
              "year_build                             0\n",
              "purchase_price                         0\n",
              "%_change_between_offer_and_purchase    0\n",
              "no_rooms                               0\n",
              "sqm                                    0\n",
              "sqm_price                              0\n",
              "address                                0\n",
              "zip_code                               0\n",
              "city                                   0\n",
              "area                                   0\n",
              "region                                 0\n",
              "nom_interest_rate%                     0\n",
              "dk_ann_infl_rate%                      0\n",
              "yield_on_mortgage_credit_bonds%        0\n",
              "dtype: int64"
            ]
          },
          "execution_count": 24,
          "metadata": {},
          "output_type": "execute_result"
        }
      ]
    },
    {
      "cell_type": "markdown",
      "metadata": {
        "id": "GifZDYjcs618"
      },
      "source": [
        "## Normalization of Numeric Attributes"
      ]
    },
    {
      "cell_type": "code",
      "metadata": {
        "colab": {
          "base_uri": "https://localhost:8080/",
          "height": 330
        },
        "id": "5LpqYRGEs619",
        "outputId": "85f25e5b-26b0-4afd-bff0-b5270482b036"
      },
      "source": [
        "# Normalize numeric attributes\n",
        "numeric_cols = df.select_dtypes(include=[np.number]).columns\n",
        "df[numeric_cols] = (df[numeric_cols] - df[numeric_cols].mean()) / df[numeric_cols].std()\n",
        "df.head()"
      ],
      "execution_count": 25,
      "outputs": [
        {
          "data": {
            "application/vnd.google.colaboratory.intrinsic+json": {
              "summary": "{\n  \"name\": \"df\",\n  \"rows\": 100000,\n  \"fields\": [\n    {\n      \"column\": \"date\",\n      \"properties\": {\n        \"dtype\": \"object\",\n        \"num_unique_values\": 11254,\n        \"samples\": [\n          \"2003-05-29\",\n          \"2007-02-10\",\n          \"2020-10-28\"\n        ],\n        \"semantic_type\": \"\",\n        \"description\": \"\"\n      }\n    },\n    {\n      \"column\": \"quarter\",\n      \"properties\": {\n        \"dtype\": \"object\",\n        \"num_unique_values\": 130,\n        \"samples\": [\n          \"2010Q3\",\n          \"2014Q2\",\n          \"2020Q1\"\n        ],\n        \"semantic_type\": \"\",\n        \"description\": \"\"\n      }\n    },\n    {\n      \"column\": \"house_id\",\n      \"properties\": {\n        \"dtype\": \"number\",\n        \"std\": 1.0000000000000004,\n        \"min\": -1.7317554846660628,\n        \"max\": 1.7355291742301404,\n        \"num_unique_values\": 100000,\n        \"samples\": [\n          0.8800258096948881,\n          1.0354466614951898,\n          -1.0692594737364964\n        ],\n        \"semantic_type\": \"\",\n        \"description\": \"\"\n      }\n    },\n    {\n      \"column\": \"house_type\",\n      \"properties\": {\n        \"dtype\": \"category\",\n        \"num_unique_values\": 5,\n        \"samples\": [\n          \"Apartment\",\n          \"Farm\",\n          \"Summerhouse\"\n        ],\n        \"semantic_type\": \"\",\n        \"description\": \"\"\n      }\n    },\n    {\n      \"column\": \"sales_type\",\n      \"properties\": {\n        \"dtype\": \"category\",\n        \"num_unique_values\": 4,\n        \"samples\": [\n          \"family_sale\",\n          \"auction\",\n          \"regular_sale\"\n        ],\n        \"semantic_type\": \"\",\n        \"description\": \"\"\n      }\n    },\n    {\n      \"column\": \"year_build\",\n      \"properties\": {\n        \"dtype\": \"number\",\n        \"std\": 0.9999999999999855,\n        \"min\": -20.897234482407633,\n        \"max\": 1.50801015227745,\n        \"num_unique_values\": 344,\n        \"samples\": [\n          -1.9709292001785346,\n          -1.8396484698971767,\n          -3.2837365029921135\n        ],\n        \"semantic_type\": \"\",\n        \"description\": \"\"\n      }\n    },\n    {\n      \"column\": \"purchase_price\",\n      \"properties\": {\n        \"dtype\": \"number\",\n        \"std\": 0.9999999999999784,\n        \"min\": -0.9426042581998013,\n        \"max\": 24.765558774817723,\n        \"num_unique_values\": 14100,\n        \"samples\": [\n          0.8015423507511349,\n          -0.8431573024262831,\n          -0.7085832969465644\n        ],\n        \"semantic_type\": \"\",\n        \"description\": \"\"\n      }\n    },\n    {\n      \"column\": \"%_change_between_offer_and_purchase\",\n      \"properties\": {\n        \"dtype\": \"number\",\n        \"std\": 1.0000000000001399,\n        \"min\": -9.667416345419818,\n        \"max\": 10.526584537259765,\n        \"num_unique_values\": 97,\n        \"samples\": [\n          -8.431048944439436,\n          -4.721946741498287,\n          8.46597220229246\n        ],\n        \"semantic_type\": \"\",\n        \"description\": \"\"\n      }\n    },\n    {\n      \"column\": \"no_rooms\",\n      \"properties\": {\n        \"dtype\": \"number\",\n        \"std\": 0.9999999999997073,\n        \"min\": -2.0315453910640313,\n        \"max\": 6.3936337447520115,\n        \"num_unique_values\": 15,\n        \"samples\": [\n          -2.0315453910640313,\n          3.9864397059474275,\n          0.3756486477405521\n        ],\n        \"semantic_type\": \"\",\n        \"description\": \"\"\n      }\n    },\n    {\n      \"column\": \"sqm\",\n      \"properties\": {\n        \"dtype\": \"number\",\n        \"std\": 0.9999999999999716,\n        \"min\": -1.8084082820934133,\n        \"max\": 14.948450835793876,\n        \"num_unique_values\": 516,\n        \"samples\": [\n          4.208668478400561,\n          14.546146284946895,\n          4.715922042511972\n        ],\n        \"semantic_type\": \"\",\n        \"description\": \"\"\n      }\n    },\n    {\n      \"column\": \"sqm_price\",\n      \"properties\": {\n        \"dtype\": \"number\",\n        \"std\": 0.9999999999999994,\n        \"min\": -1.1740667718600473,\n        \"max\": 4.29092351936244,\n        \"num_unique_values\": 50160,\n        \"samples\": [\n          -0.06397958811762844,\n          0.7565859690654412,\n          -0.32770191460583414\n        ],\n        \"semantic_type\": \"\",\n        \"description\": \"\"\n      }\n    },\n    {\n      \"column\": \"address\",\n      \"properties\": {\n        \"dtype\": \"string\",\n        \"num_unique_values\": 92463,\n        \"samples\": [\n          \"Linkenk\\u00e6rsvej 65\",\n          \"Gadholtvej 17\",\n          \"Ulsh\\u00f8jsvej 23\"\n        ],\n        \"semantic_type\": \"\",\n        \"description\": \"\"\n      }\n    },\n    {\n      \"column\": \"zip_code\",\n      \"properties\": {\n        \"dtype\": \"number\",\n        \"std\": 0.9999999999999478,\n        \"min\": -2.067823008642288,\n        \"max\": 1.7040053485935283,\n        \"num_unique_values\": 862,\n        \"samples\": [\n          -1.8057908562937655,\n          -1.7517810084666947,\n          -1.3635852272096245\n        ],\n        \"semantic_type\": \"\",\n        \"description\": \"\"\n      }\n    },\n    {\n      \"column\": \"city\",\n      \"properties\": {\n        \"dtype\": \"category\",\n        \"num_unique_values\": 607,\n        \"samples\": [\n          \"Bagenkop\",\n          \"Lundby\",\n          \"L\\u00f8sning\"\n        ],\n        \"semantic_type\": \"\",\n        \"description\": \"\"\n      }\n    },\n    {\n      \"column\": \"area\",\n      \"properties\": {\n        \"dtype\": \"category\",\n        \"num_unique_values\": 8,\n        \"samples\": [\n          \"Other islands\",\n          \"East & mid jutland\",\n          \"Capital, Copenhagen\"\n        ],\n        \"semantic_type\": \"\",\n        \"description\": \"\"\n      }\n    },\n    {\n      \"column\": \"region\",\n      \"properties\": {\n        \"dtype\": \"category\",\n        \"num_unique_values\": 4,\n        \"samples\": [\n          \"Fyn & islands\",\n          \"Bornholm\",\n          \"Zealand\"\n        ],\n        \"semantic_type\": \"\",\n        \"description\": \"\"\n      }\n    },\n    {\n      \"column\": \"nom_interest_rate%\",\n      \"properties\": {\n        \"dtype\": \"number\",\n        \"std\": 0.9999999999998674,\n        \"min\": -0.8199212595983854,\n        \"max\": 3.818574488496186,\n        \"num_unique_values\": 31,\n        \"samples\": [\n          2.231720679937517,\n          1.133129581704592,\n          1.4993266144489004\n        ],\n        \"semantic_type\": \"\",\n        \"description\": \"\"\n      }\n    },\n    {\n      \"column\": \"dk_ann_infl_rate%\",\n      \"properties\": {\n        \"dtype\": \"number\",\n        \"std\": 0.9999999999992345,\n        \"min\": -1.0239442849094487,\n        \"max\": 3.52481501179819,\n        \"num_unique_values\": 31,\n        \"samples\": [\n          0.12393054432684135,\n          0.23383345350903942,\n          0.2521506050394056\n        ],\n        \"semantic_type\": \"\",\n        \"description\": \"\"\n      }\n    },\n    {\n      \"column\": \"yield_on_mortgage_credit_bonds%\",\n      \"properties\": {\n        \"dtype\": \"number\",\n        \"std\": 1.0000000000000482,\n        \"min\": -1.3710198420517452,\n        \"max\": 2.7500921276683057,\n        \"num_unique_values\": 34,\n        \"samples\": [\n          0.19263215530884925,\n          0.47071603822137453,\n          0.9858550344363808\n        ],\n        \"semantic_type\": \"\",\n        \"description\": \"\"\n      }\n    }\n  ]\n}",
              "type": "dataframe",
              "variable_name": "df"
            },
            "text/html": [
              "\n",
              "  <div id=\"df-f2e47597-ab71-44d0-8f0f-69ebbc005463\" class=\"colab-df-container\">\n",
              "    <div>\n",
              "<style scoped>\n",
              "    .dataframe tbody tr th:only-of-type {\n",
              "        vertical-align: middle;\n",
              "    }\n",
              "\n",
              "    .dataframe tbody tr th {\n",
              "        vertical-align: top;\n",
              "    }\n",
              "\n",
              "    .dataframe thead th {\n",
              "        text-align: right;\n",
              "    }\n",
              "</style>\n",
              "<table border=\"1\" class=\"dataframe\">\n",
              "  <thead>\n",
              "    <tr style=\"text-align: right;\">\n",
              "      <th></th>\n",
              "      <th>date</th>\n",
              "      <th>quarter</th>\n",
              "      <th>house_id</th>\n",
              "      <th>house_type</th>\n",
              "      <th>sales_type</th>\n",
              "      <th>year_build</th>\n",
              "      <th>purchase_price</th>\n",
              "      <th>%_change_between_offer_and_purchase</th>\n",
              "      <th>no_rooms</th>\n",
              "      <th>sqm</th>\n",
              "      <th>sqm_price</th>\n",
              "      <th>address</th>\n",
              "      <th>zip_code</th>\n",
              "      <th>city</th>\n",
              "      <th>area</th>\n",
              "      <th>region</th>\n",
              "      <th>nom_interest_rate%</th>\n",
              "      <th>dk_ann_infl_rate%</th>\n",
              "      <th>yield_on_mortgage_credit_bonds%</th>\n",
              "    </tr>\n",
              "  </thead>\n",
              "  <tbody>\n",
              "    <tr>\n",
              "      <th>0</th>\n",
              "      <td>2024-10-24</td>\n",
              "      <td>2024Q4</td>\n",
              "      <td>-1.731749</td>\n",
              "      <td>Villa</td>\n",
              "      <td>regular_sale</td>\n",
              "      <td>0.917247</td>\n",
              "      <td>2.572801</td>\n",
              "      <td>-0.188600</td>\n",
              "      <td>0.375649</td>\n",
              "      <td>0.220606</td>\n",
              "      <td>2.150685</td>\n",
              "      <td>Spættevej 16</td>\n",
              "      <td>-1.380463</td>\n",
              "      <td>Solrød Strand</td>\n",
              "      <td>Capital, Copenhagen</td>\n",
              "      <td>Zealand</td>\n",
              "      <td>0.693693</td>\n",
              "      <td>-1.355742e-16</td>\n",
              "      <td>0.0</td>\n",
              "    </tr>\n",
              "    <tr>\n",
              "      <th>1</th>\n",
              "      <td>2024-10-24</td>\n",
              "      <td>2024Q4</td>\n",
              "      <td>-1.731755</td>\n",
              "      <td>Apartment</td>\n",
              "      <td>regular_sale</td>\n",
              "      <td>-1.533327</td>\n",
              "      <td>0.829104</td>\n",
              "      <td>0.429584</td>\n",
              "      <td>-1.429747</td>\n",
              "      <td>-1.458578</td>\n",
              "      <td>4.211324</td>\n",
              "      <td>Jakob Dannefærds Vej 10B, 4. th</td>\n",
              "      <td>-1.678783</td>\n",
              "      <td>Frederiksberg C</td>\n",
              "      <td>Capital, Copenhagen</td>\n",
              "      <td>Zealand</td>\n",
              "      <td>0.693693</td>\n",
              "      <td>-1.355742e-16</td>\n",
              "      <td>0.0</td>\n",
              "    </tr>\n",
              "    <tr>\n",
              "      <th>2</th>\n",
              "      <td>2024-10-23</td>\n",
              "      <td>2024Q4</td>\n",
              "      <td>-1.731647</td>\n",
              "      <td>Villa</td>\n",
              "      <td>regular_sale</td>\n",
              "      <td>-0.132999</td>\n",
              "      <td>1.475959</td>\n",
              "      <td>-0.394661</td>\n",
              "      <td>-0.226150</td>\n",
              "      <td>-0.304139</td>\n",
              "      <td>1.773565</td>\n",
              "      <td>Vestre Plantagevej 3</td>\n",
              "      <td>-1.380463</td>\n",
              "      <td>Solrød Strand</td>\n",
              "      <td>Capital, Copenhagen</td>\n",
              "      <td>Zealand</td>\n",
              "      <td>0.693693</td>\n",
              "      <td>-1.355742e-16</td>\n",
              "      <td>0.0</td>\n",
              "    </tr>\n",
              "    <tr>\n",
              "      <th>3</th>\n",
              "      <td>2024-10-23</td>\n",
              "      <td>2024Q4</td>\n",
              "      <td>-1.731719</td>\n",
              "      <td>Villa</td>\n",
              "      <td>regular_sale</td>\n",
              "      <td>1.004767</td>\n",
              "      <td>-0.166491</td>\n",
              "      <td>-2.043151</td>\n",
              "      <td>-0.226150</td>\n",
              "      <td>0.990232</td>\n",
              "      <td>-0.559729</td>\n",
              "      <td>Toftebjerg 3</td>\n",
              "      <td>-0.654706</td>\n",
              "      <td>Kalundborg</td>\n",
              "      <td>Other islands</td>\n",
              "      <td>Zealand</td>\n",
              "      <td>0.693693</td>\n",
              "      <td>-1.355742e-16</td>\n",
              "      <td>0.0</td>\n",
              "    </tr>\n",
              "    <tr>\n",
              "      <th>4</th>\n",
              "      <td>2024-10-22</td>\n",
              "      <td>2024Q4</td>\n",
              "      <td>-1.731574</td>\n",
              "      <td>Apartment</td>\n",
              "      <td>regular_sale</td>\n",
              "      <td>0.217083</td>\n",
              "      <td>0.027566</td>\n",
              "      <td>-1.631028</td>\n",
              "      <td>-0.827948</td>\n",
              "      <td>-0.828884</td>\n",
              "      <td>0.562330</td>\n",
              "      <td>Ryttergårdsvej 20, 1. 113</td>\n",
              "      <td>-1.026024</td>\n",
              "      <td>Farum</td>\n",
              "      <td>North Zealand</td>\n",
              "      <td>Zealand</td>\n",
              "      <td>0.693693</td>\n",
              "      <td>-1.355742e-16</td>\n",
              "      <td>0.0</td>\n",
              "    </tr>\n",
              "  </tbody>\n",
              "</table>\n",
              "</div>\n",
              "    <div class=\"colab-df-buttons\">\n",
              "\n",
              "  <div class=\"colab-df-container\">\n",
              "    <button class=\"colab-df-convert\" onclick=\"convertToInteractive('df-f2e47597-ab71-44d0-8f0f-69ebbc005463')\"\n",
              "            title=\"Convert this dataframe to an interactive table.\"\n",
              "            style=\"display:none;\">\n",
              "\n",
              "  <svg xmlns=\"http://www.w3.org/2000/svg\" height=\"24px\" viewBox=\"0 -960 960 960\">\n",
              "    <path d=\"M120-120v-720h720v720H120Zm60-500h600v-160H180v160Zm220 220h160v-160H400v160Zm0 220h160v-160H400v160ZM180-400h160v-160H180v160Zm440 0h160v-160H620v160ZM180-180h160v-160H180v160Zm440 0h160v-160H620v160Z\"/>\n",
              "  </svg>\n",
              "    </button>\n",
              "\n",
              "  <style>\n",
              "    .colab-df-container {\n",
              "      display:flex;\n",
              "      gap: 12px;\n",
              "    }\n",
              "\n",
              "    .colab-df-convert {\n",
              "      background-color: #E8F0FE;\n",
              "      border: none;\n",
              "      border-radius: 50%;\n",
              "      cursor: pointer;\n",
              "      display: none;\n",
              "      fill: #1967D2;\n",
              "      height: 32px;\n",
              "      padding: 0 0 0 0;\n",
              "      width: 32px;\n",
              "    }\n",
              "\n",
              "    .colab-df-convert:hover {\n",
              "      background-color: #E2EBFA;\n",
              "      box-shadow: 0px 1px 2px rgba(60, 64, 67, 0.3), 0px 1px 3px 1px rgba(60, 64, 67, 0.15);\n",
              "      fill: #174EA6;\n",
              "    }\n",
              "\n",
              "    .colab-df-buttons div {\n",
              "      margin-bottom: 4px;\n",
              "    }\n",
              "\n",
              "    [theme=dark] .colab-df-convert {\n",
              "      background-color: #3B4455;\n",
              "      fill: #D2E3FC;\n",
              "    }\n",
              "\n",
              "    [theme=dark] .colab-df-convert:hover {\n",
              "      background-color: #434B5C;\n",
              "      box-shadow: 0px 1px 3px 1px rgba(0, 0, 0, 0.15);\n",
              "      filter: drop-shadow(0px 1px 2px rgba(0, 0, 0, 0.3));\n",
              "      fill: #FFFFFF;\n",
              "    }\n",
              "  </style>\n",
              "\n",
              "    <script>\n",
              "      const buttonEl =\n",
              "        document.querySelector('#df-f2e47597-ab71-44d0-8f0f-69ebbc005463 button.colab-df-convert');\n",
              "      buttonEl.style.display =\n",
              "        google.colab.kernel.accessAllowed ? 'block' : 'none';\n",
              "\n",
              "      async function convertToInteractive(key) {\n",
              "        const element = document.querySelector('#df-f2e47597-ab71-44d0-8f0f-69ebbc005463');\n",
              "        const dataTable =\n",
              "          await google.colab.kernel.invokeFunction('convertToInteractive',\n",
              "                                                    [key], {});\n",
              "        if (!dataTable) return;\n",
              "\n",
              "        const docLinkHtml = 'Like what you see? Visit the ' +\n",
              "          '<a target=\"_blank\" href=https://colab.research.google.com/notebooks/data_table.ipynb>data table notebook</a>'\n",
              "          + ' to learn more about interactive tables.';\n",
              "        element.innerHTML = '';\n",
              "        dataTable['output_type'] = 'display_data';\n",
              "        await google.colab.output.renderOutput(dataTable, element);\n",
              "        const docLink = document.createElement('div');\n",
              "        docLink.innerHTML = docLinkHtml;\n",
              "        element.appendChild(docLink);\n",
              "      }\n",
              "    </script>\n",
              "  </div>\n",
              "\n",
              "\n",
              "<div id=\"df-fb5a2e0f-1a0e-49e8-a8f2-69c7095b98d4\">\n",
              "  <button class=\"colab-df-quickchart\" onclick=\"quickchart('df-fb5a2e0f-1a0e-49e8-a8f2-69c7095b98d4')\"\n",
              "            title=\"Suggest charts\"\n",
              "            style=\"display:none;\">\n",
              "\n",
              "<svg xmlns=\"http://www.w3.org/2000/svg\" height=\"24px\"viewBox=\"0 0 24 24\"\n",
              "     width=\"24px\">\n",
              "    <g>\n",
              "        <path d=\"M19 3H5c-1.1 0-2 .9-2 2v14c0 1.1.9 2 2 2h14c1.1 0 2-.9 2-2V5c0-1.1-.9-2-2-2zM9 17H7v-7h2v7zm4 0h-2V7h2v10zm4 0h-2v-4h2v4z\"/>\n",
              "    </g>\n",
              "</svg>\n",
              "  </button>\n",
              "\n",
              "<style>\n",
              "  .colab-df-quickchart {\n",
              "      --bg-color: #E8F0FE;\n",
              "      --fill-color: #1967D2;\n",
              "      --hover-bg-color: #E2EBFA;\n",
              "      --hover-fill-color: #174EA6;\n",
              "      --disabled-fill-color: #AAA;\n",
              "      --disabled-bg-color: #DDD;\n",
              "  }\n",
              "\n",
              "  [theme=dark] .colab-df-quickchart {\n",
              "      --bg-color: #3B4455;\n",
              "      --fill-color: #D2E3FC;\n",
              "      --hover-bg-color: #434B5C;\n",
              "      --hover-fill-color: #FFFFFF;\n",
              "      --disabled-bg-color: #3B4455;\n",
              "      --disabled-fill-color: #666;\n",
              "  }\n",
              "\n",
              "  .colab-df-quickchart {\n",
              "    background-color: var(--bg-color);\n",
              "    border: none;\n",
              "    border-radius: 50%;\n",
              "    cursor: pointer;\n",
              "    display: none;\n",
              "    fill: var(--fill-color);\n",
              "    height: 32px;\n",
              "    padding: 0;\n",
              "    width: 32px;\n",
              "  }\n",
              "\n",
              "  .colab-df-quickchart:hover {\n",
              "    background-color: var(--hover-bg-color);\n",
              "    box-shadow: 0 1px 2px rgba(60, 64, 67, 0.3), 0 1px 3px 1px rgba(60, 64, 67, 0.15);\n",
              "    fill: var(--button-hover-fill-color);\n",
              "  }\n",
              "\n",
              "  .colab-df-quickchart-complete:disabled,\n",
              "  .colab-df-quickchart-complete:disabled:hover {\n",
              "    background-color: var(--disabled-bg-color);\n",
              "    fill: var(--disabled-fill-color);\n",
              "    box-shadow: none;\n",
              "  }\n",
              "\n",
              "  .colab-df-spinner {\n",
              "    border: 2px solid var(--fill-color);\n",
              "    border-color: transparent;\n",
              "    border-bottom-color: var(--fill-color);\n",
              "    animation:\n",
              "      spin 1s steps(1) infinite;\n",
              "  }\n",
              "\n",
              "  @keyframes spin {\n",
              "    0% {\n",
              "      border-color: transparent;\n",
              "      border-bottom-color: var(--fill-color);\n",
              "      border-left-color: var(--fill-color);\n",
              "    }\n",
              "    20% {\n",
              "      border-color: transparent;\n",
              "      border-left-color: var(--fill-color);\n",
              "      border-top-color: var(--fill-color);\n",
              "    }\n",
              "    30% {\n",
              "      border-color: transparent;\n",
              "      border-left-color: var(--fill-color);\n",
              "      border-top-color: var(--fill-color);\n",
              "      border-right-color: var(--fill-color);\n",
              "    }\n",
              "    40% {\n",
              "      border-color: transparent;\n",
              "      border-right-color: var(--fill-color);\n",
              "      border-top-color: var(--fill-color);\n",
              "    }\n",
              "    60% {\n",
              "      border-color: transparent;\n",
              "      border-right-color: var(--fill-color);\n",
              "    }\n",
              "    80% {\n",
              "      border-color: transparent;\n",
              "      border-right-color: var(--fill-color);\n",
              "      border-bottom-color: var(--fill-color);\n",
              "    }\n",
              "    90% {\n",
              "      border-color: transparent;\n",
              "      border-bottom-color: var(--fill-color);\n",
              "    }\n",
              "  }\n",
              "</style>\n",
              "\n",
              "  <script>\n",
              "    async function quickchart(key) {\n",
              "      const quickchartButtonEl =\n",
              "        document.querySelector('#' + key + ' button');\n",
              "      quickchartButtonEl.disabled = true;  // To prevent multiple clicks.\n",
              "      quickchartButtonEl.classList.add('colab-df-spinner');\n",
              "      try {\n",
              "        const charts = await google.colab.kernel.invokeFunction(\n",
              "            'suggestCharts', [key], {});\n",
              "      } catch (error) {\n",
              "        console.error('Error during call to suggestCharts:', error);\n",
              "      }\n",
              "      quickchartButtonEl.classList.remove('colab-df-spinner');\n",
              "      quickchartButtonEl.classList.add('colab-df-quickchart-complete');\n",
              "    }\n",
              "    (() => {\n",
              "      let quickchartButtonEl =\n",
              "        document.querySelector('#df-fb5a2e0f-1a0e-49e8-a8f2-69c7095b98d4 button');\n",
              "      quickchartButtonEl.style.display =\n",
              "        google.colab.kernel.accessAllowed ? 'block' : 'none';\n",
              "    })();\n",
              "  </script>\n",
              "</div>\n",
              "\n",
              "    </div>\n",
              "  </div>\n"
            ],
            "text/plain": [
              "         date quarter  house_id house_type    sales_type  year_build  \\\n",
              "0  2024-10-24  2024Q4 -1.731749      Villa  regular_sale    0.917247   \n",
              "1  2024-10-24  2024Q4 -1.731755  Apartment  regular_sale   -1.533327   \n",
              "2  2024-10-23  2024Q4 -1.731647      Villa  regular_sale   -0.132999   \n",
              "3  2024-10-23  2024Q4 -1.731719      Villa  regular_sale    1.004767   \n",
              "4  2024-10-22  2024Q4 -1.731574  Apartment  regular_sale    0.217083   \n",
              "\n",
              "   purchase_price  %_change_between_offer_and_purchase  no_rooms       sqm  \\\n",
              "0        2.572801                            -0.188600  0.375649  0.220606   \n",
              "1        0.829104                             0.429584 -1.429747 -1.458578   \n",
              "2        1.475959                            -0.394661 -0.226150 -0.304139   \n",
              "3       -0.166491                            -2.043151 -0.226150  0.990232   \n",
              "4        0.027566                            -1.631028 -0.827948 -0.828884   \n",
              "\n",
              "   sqm_price                          address  zip_code             city  \\\n",
              "0   2.150685                     Spættevej 16 -1.380463    Solrød Strand   \n",
              "1   4.211324  Jakob Dannefærds Vej 10B, 4. th -1.678783  Frederiksberg C   \n",
              "2   1.773565             Vestre Plantagevej 3 -1.380463    Solrød Strand   \n",
              "3  -0.559729                     Toftebjerg 3 -0.654706       Kalundborg   \n",
              "4   0.562330        Ryttergårdsvej 20, 1. 113 -1.026024            Farum   \n",
              "\n",
              "                  area   region  nom_interest_rate%  dk_ann_infl_rate%  \\\n",
              "0  Capital, Copenhagen  Zealand            0.693693      -1.355742e-16   \n",
              "1  Capital, Copenhagen  Zealand            0.693693      -1.355742e-16   \n",
              "2  Capital, Copenhagen  Zealand            0.693693      -1.355742e-16   \n",
              "3        Other islands  Zealand            0.693693      -1.355742e-16   \n",
              "4        North Zealand  Zealand            0.693693      -1.355742e-16   \n",
              "\n",
              "   yield_on_mortgage_credit_bonds%  \n",
              "0                              0.0  \n",
              "1                              0.0  \n",
              "2                              0.0  \n",
              "3                              0.0  \n",
              "4                              0.0  "
            ]
          },
          "execution_count": 25,
          "metadata": {},
          "output_type": "execute_result"
        }
      ]
    },
    {
      "cell_type": "markdown",
      "metadata": {
        "id": "5KiXPE8ws61-"
      },
      "source": [
        "### Explanation: Normalization is performed to scale the numeric attributes to have a mean of 0 and a standard deviation of 1. This helps in improving the performance of machine learning algorithms."
      ]
    },
    {
      "cell_type": "markdown",
      "metadata": {
        "id": "LZhgplTts61_"
      },
      "source": [
        "## Analysis of the 5 Most Expensive Cities and Cities with Maximum Unique Zip Codes"
      ]
    },
    {
      "cell_type": "code",
      "metadata": {
        "colab": {
          "base_uri": "https://localhost:8080/",
          "height": 272
        },
        "id": "37tPsit7s62A",
        "outputId": "357d226c-3c4d-4d8c-ad9f-2a36216380d3"
      },
      "source": [
        "# 5 most expensive cities\n",
        "expensive_cities = df.groupby('city')['purchase_price'].mean().sort_values(ascending=False).head(5)\n",
        "expensive_cities"
      ],
      "execution_count": 26,
      "outputs": [
        {
          "data": {
            "text/html": [
              "<div>\n",
              "<style scoped>\n",
              "    .dataframe tbody tr th:only-of-type {\n",
              "        vertical-align: middle;\n",
              "    }\n",
              "\n",
              "    .dataframe tbody tr th {\n",
              "        vertical-align: top;\n",
              "    }\n",
              "\n",
              "    .dataframe thead th {\n",
              "        text-align: right;\n",
              "    }\n",
              "</style>\n",
              "<table border=\"1\" class=\"dataframe\">\n",
              "  <thead>\n",
              "    <tr style=\"text-align: right;\">\n",
              "      <th></th>\n",
              "      <th>purchase_price</th>\n",
              "    </tr>\n",
              "    <tr>\n",
              "      <th>city</th>\n",
              "      <th></th>\n",
              "    </tr>\n",
              "  </thead>\n",
              "  <tbody>\n",
              "    <tr>\n",
              "      <th>Rungsted Kyst</th>\n",
              "      <td>2.374111</td>\n",
              "    </tr>\n",
              "    <tr>\n",
              "      <th>Nordhavn</th>\n",
              "      <td>2.275879</td>\n",
              "    </tr>\n",
              "    <tr>\n",
              "      <th>Klampenborg</th>\n",
              "      <td>2.269829</td>\n",
              "    </tr>\n",
              "    <tr>\n",
              "      <th>Vedbæk</th>\n",
              "      <td>2.164031</td>\n",
              "    </tr>\n",
              "    <tr>\n",
              "      <th>Skodsborg</th>\n",
              "      <td>1.751051</td>\n",
              "    </tr>\n",
              "  </tbody>\n",
              "</table>\n",
              "</div><br><label><b>dtype:</b> float64</label>"
            ],
            "text/plain": [
              "city\n",
              "Rungsted Kyst    2.374111\n",
              "Nordhavn         2.275879\n",
              "Klampenborg      2.269829\n",
              "Vedbæk           2.164031\n",
              "Skodsborg        1.751051\n",
              "Name: purchase_price, dtype: float64"
            ]
          },
          "execution_count": 26,
          "metadata": {},
          "output_type": "execute_result"
        }
      ]
    },
    {
      "cell_type": "code",
      "metadata": {
        "colab": {
          "base_uri": "https://localhost:8080/",
          "height": 272
        },
        "id": "TmaxnJSes62B",
        "outputId": "cb469db5-7d77-4cd4-a7f3-970406ca8341"
      },
      "source": [
        "# 5 cities with maximum unique zip codes\n",
        "unique_zip_cities = df.groupby('city')['zip_code'].nunique().sort_values(ascending=False).head(5)\n",
        "unique_zip_cities"
      ],
      "execution_count": 27,
      "outputs": [
        {
          "data": {
            "text/html": [
              "<div>\n",
              "<style scoped>\n",
              "    .dataframe tbody tr th:only-of-type {\n",
              "        vertical-align: middle;\n",
              "    }\n",
              "\n",
              "    .dataframe tbody tr th {\n",
              "        vertical-align: top;\n",
              "    }\n",
              "\n",
              "    .dataframe thead th {\n",
              "        text-align: right;\n",
              "    }\n",
              "</style>\n",
              "<table border=\"1\" class=\"dataframe\">\n",
              "  <thead>\n",
              "    <tr style=\"text-align: right;\">\n",
              "      <th></th>\n",
              "      <th>zip_code</th>\n",
              "    </tr>\n",
              "    <tr>\n",
              "      <th>city</th>\n",
              "      <th></th>\n",
              "    </tr>\n",
              "  </thead>\n",
              "  <tbody>\n",
              "    <tr>\n",
              "      <th>København K</th>\n",
              "      <td>118</td>\n",
              "    </tr>\n",
              "    <tr>\n",
              "      <th>Frederiksberg C</th>\n",
              "      <td>75</td>\n",
              "    </tr>\n",
              "    <tr>\n",
              "      <th>København V</th>\n",
              "      <td>68</td>\n",
              "    </tr>\n",
              "    <tr>\n",
              "      <th>København S</th>\n",
              "      <td>2</td>\n",
              "    </tr>\n",
              "    <tr>\n",
              "      <th>Aabenraa</th>\n",
              "      <td>1</td>\n",
              "    </tr>\n",
              "  </tbody>\n",
              "</table>\n",
              "</div><br><label><b>dtype:</b> int64</label>"
            ],
            "text/plain": [
              "city\n",
              "København K        118\n",
              "Frederiksberg C     75\n",
              "København V         68\n",
              "København S          2\n",
              "Aabenraa             1\n",
              "Name: zip_code, dtype: int64"
            ]
          },
          "execution_count": 27,
          "metadata": {},
          "output_type": "execute_result"
        }
      ]
    },
    {
      "cell_type": "markdown",
      "metadata": {
        "id": "Rx1BOsfxs62C"
      },
      "source": [
        "### Explanation: Analyzing the most expensive cities and cities with maximum unique zip codes helps in understanding the distribution of house prices and the diversity of locations in the dataset."
      ]
    },
    {
      "cell_type": "markdown",
      "metadata": {
        "id": "RNEqdu8Fs62G"
      },
      "source": [
        "## Proximity Measures"
      ]
    },
    {
      "cell_type": "code",
      "metadata": {
        "colab": {
          "base_uri": "https://localhost:8080/",
          "height": 272
        },
        "id": "5Rj3Kh7Ps62G",
        "outputId": "5b2a1ef9-d92f-45b1-808b-9ecc63510b9d"
      },
      "source": [
        "# Proximity measure between house_type and sqm\n",
        "house_type_sqm = df.groupby('house_type')['sqm'].mean()\n",
        "house_type_sqm"
      ],
      "execution_count": 28,
      "outputs": [
        {
          "data": {
            "text/html": [
              "<div>\n",
              "<style scoped>\n",
              "    .dataframe tbody tr th:only-of-type {\n",
              "        vertical-align: middle;\n",
              "    }\n",
              "\n",
              "    .dataframe tbody tr th {\n",
              "        vertical-align: top;\n",
              "    }\n",
              "\n",
              "    .dataframe thead th {\n",
              "        text-align: right;\n",
              "    }\n",
              "</style>\n",
              "<table border=\"1\" class=\"dataframe\">\n",
              "  <thead>\n",
              "    <tr style=\"text-align: right;\">\n",
              "      <th></th>\n",
              "      <th>sqm</th>\n",
              "    </tr>\n",
              "    <tr>\n",
              "      <th>house_type</th>\n",
              "      <th></th>\n",
              "    </tr>\n",
              "  </thead>\n",
              "  <tbody>\n",
              "    <tr>\n",
              "      <th>Apartment</th>\n",
              "      <td>-0.747149</td>\n",
              "    </tr>\n",
              "    <tr>\n",
              "      <th>Farm</th>\n",
              "      <td>1.170793</td>\n",
              "    </tr>\n",
              "    <tr>\n",
              "      <th>Summerhouse</th>\n",
              "      <td>-0.797788</td>\n",
              "    </tr>\n",
              "    <tr>\n",
              "      <th>Townhouse</th>\n",
              "      <td>-0.365133</td>\n",
              "    </tr>\n",
              "    <tr>\n",
              "      <th>Villa</th>\n",
              "      <td>0.396344</td>\n",
              "    </tr>\n",
              "  </tbody>\n",
              "</table>\n",
              "</div><br><label><b>dtype:</b> float64</label>"
            ],
            "text/plain": [
              "house_type\n",
              "Apartment     -0.747149\n",
              "Farm           1.170793\n",
              "Summerhouse   -0.797788\n",
              "Townhouse     -0.365133\n",
              "Villa          0.396344\n",
              "Name: sqm, dtype: float64"
            ]
          },
          "execution_count": 28,
          "metadata": {},
          "output_type": "execute_result"
        }
      ]
    },
    {
      "cell_type": "code",
      "metadata": {
        "colab": {
          "base_uri": "https://localhost:8080/",
          "height": 272
        },
        "id": "ZtHcufUes62H",
        "outputId": "2335f034-07e0-4a54-f938-25bd00f4c0f8"
      },
      "source": [
        "# Proximity measure between house_type and purchase_price\n",
        "house_type_price = df.groupby('house_type')['purchase_price'].mean()\n",
        "house_type_price"
      ],
      "execution_count": 29,
      "outputs": [
        {
          "data": {
            "text/html": [
              "<div>\n",
              "<style scoped>\n",
              "    .dataframe tbody tr th:only-of-type {\n",
              "        vertical-align: middle;\n",
              "    }\n",
              "\n",
              "    .dataframe tbody tr th {\n",
              "        vertical-align: top;\n",
              "    }\n",
              "\n",
              "    .dataframe thead th {\n",
              "        text-align: right;\n",
              "    }\n",
              "</style>\n",
              "<table border=\"1\" class=\"dataframe\">\n",
              "  <thead>\n",
              "    <tr style=\"text-align: right;\">\n",
              "      <th></th>\n",
              "      <th>purchase_price</th>\n",
              "    </tr>\n",
              "    <tr>\n",
              "      <th>house_type</th>\n",
              "      <th></th>\n",
              "    </tr>\n",
              "  </thead>\n",
              "  <tbody>\n",
              "    <tr>\n",
              "      <th>Apartment</th>\n",
              "      <td>0.285320</td>\n",
              "    </tr>\n",
              "    <tr>\n",
              "      <th>Farm</th>\n",
              "      <td>0.457560</td>\n",
              "    </tr>\n",
              "    <tr>\n",
              "      <th>Summerhouse</th>\n",
              "      <td>-0.397465</td>\n",
              "    </tr>\n",
              "    <tr>\n",
              "      <th>Townhouse</th>\n",
              "      <td>0.102063</td>\n",
              "    </tr>\n",
              "    <tr>\n",
              "      <th>Villa</th>\n",
              "      <td>-0.079251</td>\n",
              "    </tr>\n",
              "  </tbody>\n",
              "</table>\n",
              "</div><br><label><b>dtype:</b> float64</label>"
            ],
            "text/plain": [
              "house_type\n",
              "Apartment      0.285320\n",
              "Farm           0.457560\n",
              "Summerhouse   -0.397465\n",
              "Townhouse      0.102063\n",
              "Villa         -0.079251\n",
              "Name: purchase_price, dtype: float64"
            ]
          },
          "execution_count": 29,
          "metadata": {},
          "output_type": "execute_result"
        }
      ]
    },
    {
      "cell_type": "code",
      "metadata": {
        "colab": {
          "base_uri": "https://localhost:8080/",
          "height": 586
        },
        "id": "tF57r3d3s62I",
        "outputId": "5075a33c-f3a4-4e6b-e915-5462bad99230"
      },
      "source": [
        "# Proximity measure between no_rooms and purchase_price\n",
        "rooms_price = df.groupby('no_rooms')['purchase_price'].mean()\n",
        "rooms_price"
      ],
      "execution_count": 30,
      "outputs": [
        {
          "data": {
            "text/html": [
              "<div>\n",
              "<style scoped>\n",
              "    .dataframe tbody tr th:only-of-type {\n",
              "        vertical-align: middle;\n",
              "    }\n",
              "\n",
              "    .dataframe tbody tr th {\n",
              "        vertical-align: top;\n",
              "    }\n",
              "\n",
              "    .dataframe thead th {\n",
              "        text-align: right;\n",
              "    }\n",
              "</style>\n",
              "<table border=\"1\" class=\"dataframe\">\n",
              "  <thead>\n",
              "    <tr style=\"text-align: right;\">\n",
              "      <th></th>\n",
              "      <th>purchase_price</th>\n",
              "    </tr>\n",
              "    <tr>\n",
              "      <th>no_rooms</th>\n",
              "      <th></th>\n",
              "    </tr>\n",
              "  </thead>\n",
              "  <tbody>\n",
              "    <tr>\n",
              "      <th>-2.031545</th>\n",
              "      <td>-0.360696</td>\n",
              "    </tr>\n",
              "    <tr>\n",
              "      <th>-1.429747</th>\n",
              "      <td>-0.158516</td>\n",
              "    </tr>\n",
              "    <tr>\n",
              "      <th>-0.827948</th>\n",
              "      <td>-0.100874</td>\n",
              "    </tr>\n",
              "    <tr>\n",
              "      <th>-0.226150</th>\n",
              "      <td>-0.083132</td>\n",
              "    </tr>\n",
              "    <tr>\n",
              "      <th>0.375649</th>\n",
              "      <td>0.022465</td>\n",
              "    </tr>\n",
              "    <tr>\n",
              "      <th>0.977447</th>\n",
              "      <td>0.143540</td>\n",
              "    </tr>\n",
              "    <tr>\n",
              "      <th>1.579246</th>\n",
              "      <td>0.293342</td>\n",
              "    </tr>\n",
              "    <tr>\n",
              "      <th>2.181044</th>\n",
              "      <td>0.440668</td>\n",
              "    </tr>\n",
              "    <tr>\n",
              "      <th>2.782843</th>\n",
              "      <td>0.680939</td>\n",
              "    </tr>\n",
              "    <tr>\n",
              "      <th>3.384641</th>\n",
              "      <td>0.936761</td>\n",
              "    </tr>\n",
              "    <tr>\n",
              "      <th>3.986440</th>\n",
              "      <td>0.817666</td>\n",
              "    </tr>\n",
              "    <tr>\n",
              "      <th>4.588238</th>\n",
              "      <td>1.046060</td>\n",
              "    </tr>\n",
              "    <tr>\n",
              "      <th>5.190037</th>\n",
              "      <td>1.645477</td>\n",
              "    </tr>\n",
              "    <tr>\n",
              "      <th>5.791835</th>\n",
              "      <td>2.250896</td>\n",
              "    </tr>\n",
              "    <tr>\n",
              "      <th>6.393634</th>\n",
              "      <td>2.481953</td>\n",
              "    </tr>\n",
              "  </tbody>\n",
              "</table>\n",
              "</div><br><label><b>dtype:</b> float64</label>"
            ],
            "text/plain": [
              "no_rooms\n",
              "-2.031545   -0.360696\n",
              "-1.429747   -0.158516\n",
              "-0.827948   -0.100874\n",
              "-0.226150   -0.083132\n",
              " 0.375649    0.022465\n",
              " 0.977447    0.143540\n",
              " 1.579246    0.293342\n",
              " 2.181044    0.440668\n",
              " 2.782843    0.680939\n",
              " 3.384641    0.936761\n",
              " 3.986440    0.817666\n",
              " 4.588238    1.046060\n",
              " 5.190037    1.645477\n",
              " 5.791835    2.250896\n",
              " 6.393634    2.481953\n",
              "Name: purchase_price, dtype: float64"
            ]
          },
          "execution_count": 30,
          "metadata": {},
          "output_type": "execute_result"
        }
      ]
    },
    {
      "cell_type": "markdown",
      "metadata": {
        "id": "9qFeNOiUs62I"
      },
      "source": [
        "### Explanation: Proximity measures help in understanding the relationship between different attributes. For example, the average square meters and purchase price for each house type can provide insights into the market trends."
      ]
    },
    {
      "cell_type": "markdown",
      "metadata": {
        "id": "eeI31R-Es62J"
      },
      "source": [
        "## Feature Selection"
      ]
    },
    {
      "cell_type": "code",
      "metadata": {
        "colab": {
          "base_uri": "https://localhost:8080/",
          "height": 430
        },
        "id": "jZ_FO4Kzs62K",
        "outputId": "1dc94536-652c-43ab-fed5-46aadf8541ce"
      },
      "source": [
        "# Feature selection using filter methods\n",
        "from sklearn.feature_selection import SelectKBest, f_regression, mutual_info_regression\n",
        "\n",
        "# Define independent variables and target variable\n",
        "X = df.drop(columns=['purchase_price'])\n",
        "y = df['purchase_price']\n",
        "\n",
        "# Apply SelectKBest with f_regression\n",
        "kbest_f = SelectKBest(score_func=f_regression, k=5)\n",
        "kbest_f.fit(X, y)\n",
        "features_f = X.columns[kbest_f.get_support()]\n",
        "features_f"
      ],
      "execution_count": 31,
      "outputs": [
        {
          "ename": "ValueError",
          "evalue": "could not convert string to float: '2024-10-24'",
          "output_type": "error",
          "traceback": [
            "\u001b[0;31m---------------------------------------------------------------------------\u001b[0m",
            "\u001b[0;31mValueError\u001b[0m                                Traceback (most recent call last)",
            "\u001b[0;32m<ipython-input-31-d827deddb395>\u001b[0m in \u001b[0;36m<cell line: 0>\u001b[0;34m()\u001b[0m\n\u001b[1;32m      8\u001b[0m \u001b[0;31m# Apply SelectKBest with f_regression\u001b[0m\u001b[0;34m\u001b[0m\u001b[0;34m\u001b[0m\u001b[0m\n\u001b[1;32m      9\u001b[0m \u001b[0mkbest_f\u001b[0m \u001b[0;34m=\u001b[0m \u001b[0mSelectKBest\u001b[0m\u001b[0;34m(\u001b[0m\u001b[0mscore_func\u001b[0m\u001b[0;34m=\u001b[0m\u001b[0mf_regression\u001b[0m\u001b[0;34m,\u001b[0m \u001b[0mk\u001b[0m\u001b[0;34m=\u001b[0m\u001b[0;36m5\u001b[0m\u001b[0;34m)\u001b[0m\u001b[0;34m\u001b[0m\u001b[0;34m\u001b[0m\u001b[0m\n\u001b[0;32m---> 10\u001b[0;31m \u001b[0mkbest_f\u001b[0m\u001b[0;34m.\u001b[0m\u001b[0mfit\u001b[0m\u001b[0;34m(\u001b[0m\u001b[0mX\u001b[0m\u001b[0;34m,\u001b[0m \u001b[0my\u001b[0m\u001b[0;34m)\u001b[0m\u001b[0;34m\u001b[0m\u001b[0;34m\u001b[0m\u001b[0m\n\u001b[0m\u001b[1;32m     11\u001b[0m \u001b[0mfeatures_f\u001b[0m \u001b[0;34m=\u001b[0m \u001b[0mX\u001b[0m\u001b[0;34m.\u001b[0m\u001b[0mcolumns\u001b[0m\u001b[0;34m[\u001b[0m\u001b[0mkbest_f\u001b[0m\u001b[0;34m.\u001b[0m\u001b[0mget_support\u001b[0m\u001b[0;34m(\u001b[0m\u001b[0;34m)\u001b[0m\u001b[0;34m]\u001b[0m\u001b[0;34m\u001b[0m\u001b[0;34m\u001b[0m\u001b[0m\n\u001b[1;32m     12\u001b[0m \u001b[0mfeatures_f\u001b[0m\u001b[0;34m\u001b[0m\u001b[0;34m\u001b[0m\u001b[0m\n",
            "\u001b[0;32m/usr/local/lib/python3.11/dist-packages/sklearn/base.py\u001b[0m in \u001b[0;36mwrapper\u001b[0;34m(estimator, *args, **kwargs)\u001b[0m\n\u001b[1;32m   1387\u001b[0m                 )\n\u001b[1;32m   1388\u001b[0m             ):\n\u001b[0;32m-> 1389\u001b[0;31m                 \u001b[0;32mreturn\u001b[0m \u001b[0mfit_method\u001b[0m\u001b[0;34m(\u001b[0m\u001b[0mestimator\u001b[0m\u001b[0;34m,\u001b[0m \u001b[0;34m*\u001b[0m\u001b[0margs\u001b[0m\u001b[0;34m,\u001b[0m \u001b[0;34m**\u001b[0m\u001b[0mkwargs\u001b[0m\u001b[0;34m)\u001b[0m\u001b[0;34m\u001b[0m\u001b[0;34m\u001b[0m\u001b[0m\n\u001b[0m\u001b[1;32m   1390\u001b[0m \u001b[0;34m\u001b[0m\u001b[0m\n\u001b[1;32m   1391\u001b[0m         \u001b[0;32mreturn\u001b[0m \u001b[0mwrapper\u001b[0m\u001b[0;34m\u001b[0m\u001b[0;34m\u001b[0m\u001b[0m\n",
            "\u001b[0;32m/usr/local/lib/python3.11/dist-packages/sklearn/feature_selection/_univariate_selection.py\u001b[0m in \u001b[0;36mfit\u001b[0;34m(self, X, y)\u001b[0m\n\u001b[1;32m    559\u001b[0m             \u001b[0mX\u001b[0m \u001b[0;34m=\u001b[0m \u001b[0mvalidate_data\u001b[0m\u001b[0;34m(\u001b[0m\u001b[0mself\u001b[0m\u001b[0;34m,\u001b[0m \u001b[0mX\u001b[0m\u001b[0;34m,\u001b[0m \u001b[0maccept_sparse\u001b[0m\u001b[0;34m=\u001b[0m\u001b[0;34m[\u001b[0m\u001b[0;34m\"csr\"\u001b[0m\u001b[0;34m,\u001b[0m \u001b[0;34m\"csc\"\u001b[0m\u001b[0;34m]\u001b[0m\u001b[0;34m)\u001b[0m\u001b[0;34m\u001b[0m\u001b[0;34m\u001b[0m\u001b[0m\n\u001b[1;32m    560\u001b[0m         \u001b[0;32melse\u001b[0m\u001b[0;34m:\u001b[0m\u001b[0;34m\u001b[0m\u001b[0;34m\u001b[0m\u001b[0m\n\u001b[0;32m--> 561\u001b[0;31m             X, y = validate_data(\n\u001b[0m\u001b[1;32m    562\u001b[0m                 \u001b[0mself\u001b[0m\u001b[0;34m,\u001b[0m \u001b[0mX\u001b[0m\u001b[0;34m,\u001b[0m \u001b[0my\u001b[0m\u001b[0;34m,\u001b[0m \u001b[0maccept_sparse\u001b[0m\u001b[0;34m=\u001b[0m\u001b[0;34m[\u001b[0m\u001b[0;34m\"csr\"\u001b[0m\u001b[0;34m,\u001b[0m \u001b[0;34m\"csc\"\u001b[0m\u001b[0;34m]\u001b[0m\u001b[0;34m,\u001b[0m \u001b[0mmulti_output\u001b[0m\u001b[0;34m=\u001b[0m\u001b[0;32mTrue\u001b[0m\u001b[0;34m\u001b[0m\u001b[0;34m\u001b[0m\u001b[0m\n\u001b[1;32m    563\u001b[0m             )\n",
            "\u001b[0;32m/usr/local/lib/python3.11/dist-packages/sklearn/utils/validation.py\u001b[0m in \u001b[0;36mvalidate_data\u001b[0;34m(_estimator, X, y, reset, validate_separately, skip_check_array, **check_params)\u001b[0m\n\u001b[1;32m   2959\u001b[0m             \u001b[0my\u001b[0m \u001b[0;34m=\u001b[0m \u001b[0mcheck_array\u001b[0m\u001b[0;34m(\u001b[0m\u001b[0my\u001b[0m\u001b[0;34m,\u001b[0m \u001b[0minput_name\u001b[0m\u001b[0;34m=\u001b[0m\u001b[0;34m\"y\"\u001b[0m\u001b[0;34m,\u001b[0m \u001b[0;34m**\u001b[0m\u001b[0mcheck_y_params\u001b[0m\u001b[0;34m)\u001b[0m\u001b[0;34m\u001b[0m\u001b[0;34m\u001b[0m\u001b[0m\n\u001b[1;32m   2960\u001b[0m         \u001b[0;32melse\u001b[0m\u001b[0;34m:\u001b[0m\u001b[0;34m\u001b[0m\u001b[0;34m\u001b[0m\u001b[0m\n\u001b[0;32m-> 2961\u001b[0;31m             \u001b[0mX\u001b[0m\u001b[0;34m,\u001b[0m \u001b[0my\u001b[0m \u001b[0;34m=\u001b[0m \u001b[0mcheck_X_y\u001b[0m\u001b[0;34m(\u001b[0m\u001b[0mX\u001b[0m\u001b[0;34m,\u001b[0m \u001b[0my\u001b[0m\u001b[0;34m,\u001b[0m \u001b[0;34m**\u001b[0m\u001b[0mcheck_params\u001b[0m\u001b[0;34m)\u001b[0m\u001b[0;34m\u001b[0m\u001b[0;34m\u001b[0m\u001b[0m\n\u001b[0m\u001b[1;32m   2962\u001b[0m         \u001b[0mout\u001b[0m \u001b[0;34m=\u001b[0m \u001b[0mX\u001b[0m\u001b[0;34m,\u001b[0m \u001b[0my\u001b[0m\u001b[0;34m\u001b[0m\u001b[0;34m\u001b[0m\u001b[0m\n\u001b[1;32m   2963\u001b[0m \u001b[0;34m\u001b[0m\u001b[0m\n",
            "\u001b[0;32m/usr/local/lib/python3.11/dist-packages/sklearn/utils/validation.py\u001b[0m in \u001b[0;36mcheck_X_y\u001b[0;34m(X, y, accept_sparse, accept_large_sparse, dtype, order, copy, force_writeable, force_all_finite, ensure_all_finite, ensure_2d, allow_nd, multi_output, ensure_min_samples, ensure_min_features, y_numeric, estimator)\u001b[0m\n\u001b[1;32m   1368\u001b[0m     \u001b[0mensure_all_finite\u001b[0m \u001b[0;34m=\u001b[0m \u001b[0m_deprecate_force_all_finite\u001b[0m\u001b[0;34m(\u001b[0m\u001b[0mforce_all_finite\u001b[0m\u001b[0;34m,\u001b[0m \u001b[0mensure_all_finite\u001b[0m\u001b[0;34m)\u001b[0m\u001b[0;34m\u001b[0m\u001b[0;34m\u001b[0m\u001b[0m\n\u001b[1;32m   1369\u001b[0m \u001b[0;34m\u001b[0m\u001b[0m\n\u001b[0;32m-> 1370\u001b[0;31m     X = check_array(\n\u001b[0m\u001b[1;32m   1371\u001b[0m         \u001b[0mX\u001b[0m\u001b[0;34m,\u001b[0m\u001b[0;34m\u001b[0m\u001b[0;34m\u001b[0m\u001b[0m\n\u001b[1;32m   1372\u001b[0m         \u001b[0maccept_sparse\u001b[0m\u001b[0;34m=\u001b[0m\u001b[0maccept_sparse\u001b[0m\u001b[0;34m,\u001b[0m\u001b[0;34m\u001b[0m\u001b[0;34m\u001b[0m\u001b[0m\n",
            "\u001b[0;32m/usr/local/lib/python3.11/dist-packages/sklearn/utils/validation.py\u001b[0m in \u001b[0;36mcheck_array\u001b[0;34m(array, accept_sparse, accept_large_sparse, dtype, order, copy, force_writeable, force_all_finite, ensure_all_finite, ensure_non_negative, ensure_2d, allow_nd, ensure_min_samples, ensure_min_features, estimator, input_name)\u001b[0m\n\u001b[1;32m   1053\u001b[0m                     \u001b[0marray\u001b[0m \u001b[0;34m=\u001b[0m \u001b[0mxp\u001b[0m\u001b[0;34m.\u001b[0m\u001b[0mastype\u001b[0m\u001b[0;34m(\u001b[0m\u001b[0marray\u001b[0m\u001b[0;34m,\u001b[0m \u001b[0mdtype\u001b[0m\u001b[0;34m,\u001b[0m \u001b[0mcopy\u001b[0m\u001b[0;34m=\u001b[0m\u001b[0;32mFalse\u001b[0m\u001b[0;34m)\u001b[0m\u001b[0;34m\u001b[0m\u001b[0;34m\u001b[0m\u001b[0m\n\u001b[1;32m   1054\u001b[0m                 \u001b[0;32melse\u001b[0m\u001b[0;34m:\u001b[0m\u001b[0;34m\u001b[0m\u001b[0;34m\u001b[0m\u001b[0m\n\u001b[0;32m-> 1055\u001b[0;31m                     \u001b[0marray\u001b[0m \u001b[0;34m=\u001b[0m \u001b[0m_asarray_with_order\u001b[0m\u001b[0;34m(\u001b[0m\u001b[0marray\u001b[0m\u001b[0;34m,\u001b[0m \u001b[0morder\u001b[0m\u001b[0;34m=\u001b[0m\u001b[0morder\u001b[0m\u001b[0;34m,\u001b[0m \u001b[0mdtype\u001b[0m\u001b[0;34m=\u001b[0m\u001b[0mdtype\u001b[0m\u001b[0;34m,\u001b[0m \u001b[0mxp\u001b[0m\u001b[0;34m=\u001b[0m\u001b[0mxp\u001b[0m\u001b[0;34m)\u001b[0m\u001b[0;34m\u001b[0m\u001b[0;34m\u001b[0m\u001b[0m\n\u001b[0m\u001b[1;32m   1056\u001b[0m             \u001b[0;32mexcept\u001b[0m \u001b[0mComplexWarning\u001b[0m \u001b[0;32mas\u001b[0m \u001b[0mcomplex_warning\u001b[0m\u001b[0;34m:\u001b[0m\u001b[0;34m\u001b[0m\u001b[0;34m\u001b[0m\u001b[0m\n\u001b[1;32m   1057\u001b[0m                 raise ValueError(\n",
            "\u001b[0;32m/usr/local/lib/python3.11/dist-packages/sklearn/utils/_array_api.py\u001b[0m in \u001b[0;36m_asarray_with_order\u001b[0;34m(array, dtype, order, copy, xp, device)\u001b[0m\n\u001b[1;32m    830\u001b[0m             \u001b[0marray\u001b[0m \u001b[0;34m=\u001b[0m \u001b[0mnumpy\u001b[0m\u001b[0;34m.\u001b[0m\u001b[0marray\u001b[0m\u001b[0;34m(\u001b[0m\u001b[0marray\u001b[0m\u001b[0;34m,\u001b[0m \u001b[0morder\u001b[0m\u001b[0;34m=\u001b[0m\u001b[0morder\u001b[0m\u001b[0;34m,\u001b[0m \u001b[0mdtype\u001b[0m\u001b[0;34m=\u001b[0m\u001b[0mdtype\u001b[0m\u001b[0;34m)\u001b[0m\u001b[0;34m\u001b[0m\u001b[0;34m\u001b[0m\u001b[0m\n\u001b[1;32m    831\u001b[0m         \u001b[0;32melse\u001b[0m\u001b[0;34m:\u001b[0m\u001b[0;34m\u001b[0m\u001b[0;34m\u001b[0m\u001b[0m\n\u001b[0;32m--> 832\u001b[0;31m             \u001b[0marray\u001b[0m \u001b[0;34m=\u001b[0m \u001b[0mnumpy\u001b[0m\u001b[0;34m.\u001b[0m\u001b[0masarray\u001b[0m\u001b[0;34m(\u001b[0m\u001b[0marray\u001b[0m\u001b[0;34m,\u001b[0m \u001b[0morder\u001b[0m\u001b[0;34m=\u001b[0m\u001b[0morder\u001b[0m\u001b[0;34m,\u001b[0m \u001b[0mdtype\u001b[0m\u001b[0;34m=\u001b[0m\u001b[0mdtype\u001b[0m\u001b[0;34m)\u001b[0m\u001b[0;34m\u001b[0m\u001b[0;34m\u001b[0m\u001b[0m\n\u001b[0m\u001b[1;32m    833\u001b[0m \u001b[0;34m\u001b[0m\u001b[0m\n\u001b[1;32m    834\u001b[0m         \u001b[0;31m# At this point array is a NumPy ndarray. We convert it to an array\u001b[0m\u001b[0;34m\u001b[0m\u001b[0;34m\u001b[0m\u001b[0m\n",
            "\u001b[0;32m/usr/local/lib/python3.11/dist-packages/pandas/core/generic.py\u001b[0m in \u001b[0;36m__array__\u001b[0;34m(self, dtype, copy)\u001b[0m\n\u001b[1;32m   2151\u001b[0m     ) -> np.ndarray:\n\u001b[1;32m   2152\u001b[0m         \u001b[0mvalues\u001b[0m \u001b[0;34m=\u001b[0m \u001b[0mself\u001b[0m\u001b[0;34m.\u001b[0m\u001b[0m_values\u001b[0m\u001b[0;34m\u001b[0m\u001b[0;34m\u001b[0m\u001b[0m\n\u001b[0;32m-> 2153\u001b[0;31m         \u001b[0marr\u001b[0m \u001b[0;34m=\u001b[0m \u001b[0mnp\u001b[0m\u001b[0;34m.\u001b[0m\u001b[0masarray\u001b[0m\u001b[0;34m(\u001b[0m\u001b[0mvalues\u001b[0m\u001b[0;34m,\u001b[0m \u001b[0mdtype\u001b[0m\u001b[0;34m=\u001b[0m\u001b[0mdtype\u001b[0m\u001b[0;34m)\u001b[0m\u001b[0;34m\u001b[0m\u001b[0;34m\u001b[0m\u001b[0m\n\u001b[0m\u001b[1;32m   2154\u001b[0m         if (\n\u001b[1;32m   2155\u001b[0m             \u001b[0mastype_is_view\u001b[0m\u001b[0;34m(\u001b[0m\u001b[0mvalues\u001b[0m\u001b[0;34m.\u001b[0m\u001b[0mdtype\u001b[0m\u001b[0;34m,\u001b[0m \u001b[0marr\u001b[0m\u001b[0;34m.\u001b[0m\u001b[0mdtype\u001b[0m\u001b[0;34m)\u001b[0m\u001b[0;34m\u001b[0m\u001b[0;34m\u001b[0m\u001b[0m\n",
            "\u001b[0;31mValueError\u001b[0m: could not convert string to float: '2024-10-24'"
          ]
        }
      ]
    },
    {
      "cell_type": "code",
      "metadata": {
        "id": "fIdl3Sn8s62L"
      },
      "source": [
        "# Apply SelectKBest with mutual_info_regression\n",
        "kbest_mi = SelectKBest(score_func=mutual_info_regression, k=5)\n",
        "kbest_mi.fit(X, y)\n",
        "features_mi = X.columns[kbest_mi.get_support()]\n",
        "features_mi"
      ],
      "execution_count": null,
      "outputs": []
    },
    {
      "cell_type": "code",
      "metadata": {
        "id": "Kh3b4y29s62L"
      },
      "source": [
        "# Apply correlation method\n",
        "correlation = df.corr()\n",
        "correlation_target = abs(correlation['purchase_price'])\n",
        "relevant_features = correlation_target[correlation_target > 0.5]\n",
        "relevant_features"
      ],
      "execution_count": null,
      "outputs": []
    },
    {
      "cell_type": "markdown",
      "metadata": {
        "id": "GLzZSZsGs62M"
      },
      "source": [
        "### Explanation: Feature selection is performed to identify the most relevant features for predicting the target variable. We use different filter methods such as f_regression, mutual_info_regression, and correlation to select the top features."
      ]
    },
    {
      "cell_type": "markdown",
      "metadata": {
        "id": "SLJstsM2s62M"
      },
      "source": [
        "## Comparison of Feature Selection Methods"
      ]
    },
    {
      "cell_type": "code",
      "metadata": {
        "id": "m8_hBmaxs62N"
      },
      "source": [
        "# Compare the top 5 features from each method\n",
        "comparison_df = pd.DataFrame({'f_regression': features_f, 'mutual_info_regression': features_mi, 'correlation': relevant_features.index})\n",
        "comparison_df"
      ],
      "execution_count": null,
      "outputs": []
    },
    {
      "cell_type": "markdown",
      "metadata": {
        "id": "_qp5kGY7s62N"
      },
      "source": [
        "### Explanation: Comparing the top 5 features from each feature selection method helps in understanding the consistency and differences between the methods. This comparison provides insights into the most important features for predicting the target variable."
      ]
    },
    {
      "cell_type": "markdown",
      "metadata": {
        "id": "4wCtB3rds62O"
      },
      "source": [
        "## Correlation Plot"
      ]
    },
    {
      "cell_type": "code",
      "metadata": {
        "id": "jECz-4Hgs62O"
      },
      "source": [
        "# Plot correlation between independent features and target variable\n",
        "plt.figure(figsize=(12, 8))\n",
        "sns.heatmap(df.corr(), annot=True, cmap='coolwarm')\n",
        "plt.title('Correlation Plot')\n",
        "plt.show()"
      ],
      "execution_count": null,
      "outputs": []
    },
    {
      "cell_type": "markdown",
      "metadata": {
        "id": "VXFYQjXBs62P"
      },
      "source": [
        "### Explanation: Correlation plot helps in visualizing the relationship between different features and the target variable. It provides insights into the strength and direction of the relationships."
      ]
    },
    {
      "cell_type": "markdown",
      "metadata": {
        "id": "gn67JkDus62Q"
      },
      "source": [
        "## Visualizations and Other Plots for Analysis and Data Preprocessing"
      ]
    },
    {
      "cell_type": "code",
      "metadata": {
        "id": "hkmRn_5Bs62Q"
      },
      "source": [
        "# Distribution of purchase prices\n",
        "plt.figure(figsize=(10, 6))\n",
        "sns.histplot(df['purchase_price'], bins=30, kde=True)\n",
        "plt.title('Distribution of Purchase Prices')\n",
        "plt.xlabel('Purchase Price')\n",
        "plt.ylabel('Frequency')\n",
        "plt.show()"
      ],
      "execution_count": null,
      "outputs": []
    },
    {
      "cell_type": "code",
      "metadata": {
        "id": "QrqYurkgs62R"
      },
      "source": [
        "# Boxplot of purchase prices by house type\n",
        "plt.figure(figsize=(12, 6))\n",
        "sns.boxplot(x='house_type', y='purchase_price', data=df)\n",
        "plt.title('Boxplot of Purchase Prices by House Type')\n",
        "plt.xlabel('House Type')\n",
        "plt.ylabel('Purchase Price')\n",
        "plt.show()"
      ],
      "execution_count": null,
      "outputs": []
    },
    {
      "cell_type": "code",
      "metadata": {
        "id": "mRKhGRwfs62S"
      },
      "source": [
        "# Scatter plot of sqm vs purchase price\n",
        "plt.figure(figsize=(10, 6))\n",
        "sns.scatterplot(x='sqm', y='purchase_price', data=df)\n",
        "plt.title('Scatter Plot of SQM vs Purchase Price')\n",
        "plt.xlabel('SQM')\n",
        "plt.ylabel('Purchase Price')\n",
        "plt.show()"
      ],
      "execution_count": null,
      "outputs": []
    },
    {
      "cell_type": "markdown",
      "metadata": {
        "id": "_c0asRgZs62T"
      },
      "source": [
        "### Explanation: Visualizations such as histograms, boxplots, and scatter plots help in understanding the distribution and relationships of different attributes in the dataset. They provide valuable insights for data preprocessing and analysis."
      ]
    },
    {
      "cell_type": "markdown",
      "metadata": {
        "id": "OkbNOrk3s62T"
      },
      "source": [
        "## Handling Outliers"
      ]
    },
    {
      "cell_type": "code",
      "metadata": {
        "id": "FiaItrdTs62U"
      },
      "source": [
        "# Handling outliers using z-score approach\n",
        "from scipy.stats import zscore\n",
        "\n",
        "# Calculate z-scores for numeric columns\n",
        "z_scores = np.abs(zscore(df[numeric_cols]))\n",
        "\n",
        "# Set a threshold for z-scores\n",
        "threshold = 3\n",
        "\n",
        "# Identify outliers\n",
        "outliers = np.where(z_scores > threshold)\n",
        "\n",
        "# Remove outliers\n",
        "df_cleaned = df[(z_scores < threshold).all(axis=1)]\n",
        "df_cleaned.shape"
      ],
      "execution_count": null,
      "outputs": []
    },
    {
      "cell_type": "markdown",
      "metadata": {
        "id": "_gt8TqWos62U"
      },
      "source": [
        "### Explanation: Z-score approach is preferred for handling outliers because it standardizes the data and identifies outliers based on the number of standard deviations from the mean. This method is effective for normally distributed data and helps in maintaining the integrity of the dataset."
      ]
    },
    {
      "cell_type": "markdown",
      "metadata": {
        "id": "O__V0Q_Hs62V"
      },
      "source": [
        "## Techniques Used in Feature Engineering"
      ]
    },
    {
      "cell_type": "markdown",
      "metadata": {
        "id": "dRBSpreKs62X"
      },
      "source": [
        "- Identification of attribute types\n",
        "- Handling missing data using imputation\n",
        "- Normalization of numeric attributes\n",
        "- Analysis of most expensive cities and cities with maximum unique zip codes\n",
        "- Proximity measures between specified columns\n",
        "- Feature selection using filter methods (f_regression, mutual_info_regression, correlation)\n",
        "- Comparison of feature selection methods\n",
        "- Correlation plot\n",
        "- Visualizations (histograms, boxplots, scatter plots)\n",
        "- Handling outliers using z-score approach"
      ]
    },
    {
      "cell_type": "markdown",
      "metadata": {
        "id": "Yy8cMhLKs62X"
      },
      "source": [
        "## Summary"
      ]
    },
    {
      "cell_type": "markdown",
      "metadata": {
        "id": "R2WHcudas62Y"
      },
      "source": [
        "In this notebook, we performed feature engineering tasks on the DK housing prices dataset. We started by identifying the types of attributes and handling missing data using imputation. We then normalized the numeric attributes to improve the performance of machine learning algorithms. We analyzed the 5 most expensive cities and cities with maximum unique zip codes to understand the distribution of house prices and the diversity of locations.\n",
        "\n",
        "We calculated proximity measures between house_type and sqm, house_type and purchase_price, and no_rooms and purchase_price to understand the relationship between different attributes. We performed feature selection using three filter methods (f_regression, mutual_info_regression, and correlation) to identify the most relevant features for predicting the target variable. We also compared the top 5 features from each method to understand the consistency and differences between the methods. We plotted the correlation between independent features and the target variable to visualize the relationships.\n",
        "\n",
        "We created visualizations such as histograms, boxplots, and scatter plots to understand the distribution and relationships of different attributes in the dataset. We handled outliers using the z-score approach to maintain the integrity of the dataset. Finally, we summarized the techniques used in feature engineering, including identification of attribute types, handling missing data, normalization, analysis, proximity measures, feature selection, comparison of feature selection methods, correlation plot, visualizations, and handling outliers."
      ]
    },
    {
      "cell_type": "markdown",
      "metadata": {
        "id": "iEC-Hs0es62Z"
      },
      "source": [
        "## Reasons for Handling Data for Each Column"
      ]
    },
    {
      "cell_type": "markdown",
      "metadata": {
        "id": "8DraOMiJs62Z"
      },
      "source": [
        "### date\n",
        "The 'date' column represents the transaction date. It is important to retain this column as it provides temporal information about the transactions. No missing data handling is required for this column."
      ]
    },
    {
      "cell_type": "markdown",
      "metadata": {
        "id": "eYl8-Pe9s62a"
      },
      "source": [
        "### quarter\n",
        "The 'quarter' column represents the quarter based on a standard calendar year. It is important to retain this column as it provides temporal information about the transactions. No missing data handling is required for this column."
      ]
    },
    {
      "cell_type": "markdown",
      "metadata": {
        "id": "iMHQfvoVs62a"
      },
      "source": [
        "### house_id\n",
        "The 'house_id' column represents a unique house id. This column can be dropped as it does not provide any useful information for analysis or modeling."
      ]
    },
    {
      "cell_type": "markdown",
      "metadata": {
        "id": "aq4m4L2_s62b"
      },
      "source": [
        "### house_type\n",
        "The 'house_type' column represents the type of house. It is important to retain this column as it provides categorical information about the type of house. Missing data in this column is imputed with the mode."
      ]
    },
    {
      "cell_type": "markdown",
      "metadata": {
        "id": "LDg36G34s62c"
      },
      "source": [
        "### sales_type\n",
        "The 'sales_type' column represents the type of sale. It is important to retain this column as it provides categorical information about the type of sale. Missing data in this column is imputed with the mode. The '-' value is dropped as it does not provide any useful information."
      ]
    },
    {
      "cell_type": "markdown",
      "metadata": {
        "id": "sa9-LRSBs62c"
      },
      "source": [
        "### year_build\n",
        "The 'year_build' column represents the year the house was built. It is important to retain this column as it provides temporal information about the age of the house. Missing data in this column is imputed with the mean."
      ]
    },
    {
      "cell_type": "markdown",
      "metadata": {
        "id": "rpmZ3eH2s62d"
      },
      "source": [
        "### purchase_price\n",
        "The 'purchase_price' column represents the purchase price in DKK. It is important to retain this column as it is the target variable for modeling. Missing data in this column is imputed with the mean."
      ]
    },
    {
      "cell_type": "markdown",
      "metadata": {
        "id": "xrzzTHO1s62e"
      },
      "source": [
        "### %_change_between_offer_and_purchase\n",
        "The '%_change_between_offer_and_purchase' column represents the percentage change between the offer and purchase price. It is important to retain this column as it provides information about the negotiation process. Missing data in this column is imputed with the mean."
      ]
    },
    {
      "cell_type": "markdown",
      "metadata": {
        "id": "pu4xZyYHs62e"
      },
      "source": [
        "### no_rooms\n",
        "The 'no_rooms' column represents the number of rooms. It is important to retain this column as it provides information about the size of the house. Missing data in this column is imputed with the mean."
      ]
    },
    {
      "cell_type": "markdown",
      "metadata": {
        "id": "6rD3Tceys62f"
      },
      "source": [
        "### sqm\n",
        "The 'sqm' column represents the number of square meters. It is important to retain this column as it provides information about the size of the house. Missing data in this column is imputed with the mean."
      ]
    },
    {
      "cell_type": "markdown",
      "metadata": {
        "id": "Kc2wq_6Fs62f"
      },
      "source": [
        "### sqm_price\n",
        "The 'sqm_price' column represents the purchase price divided by the number of square meters. It is important to retain this column as it provides information about the price per square meter. Missing data in this column is imputed with the mean."
      ]
    },
    {
      "cell_type": "markdown",
      "metadata": {
        "id": "z28log25s62g"
      },
      "source": [
        "### address\n",
        "The 'address' column represents the address of the house. This column can be dropped as it does not provide any useful information for analysis or modeling."
      ]
    },
    {
      "cell_type": "markdown",
      "metadata": {
        "id": "ptpUBwr9s62h"
      },
      "source": [
        "### zip_code\n",
        "The 'zip_code' column represents the zip code of the house. It is important to retain this column as it provides geographical information about the location of the house. Missing data in this column is imputed with the mode."
      ]
    },
    {
      "cell_type": "markdown",
      "metadata": {
        "id": "aVpFg4sOs62i"
      },
      "source": [
        "### city\n",
        "The 'city' column represents the city of the house. It is important to retain this column as it provides geographical information about the location of the house. Missing data in this column is imputed with the mode."
      ]
    },
    {
      "cell_type": "markdown",
      "metadata": {
        "id": "-sG_gLkWs62j"
      },
      "source": [
        "### area\n",
        "The 'area' column represents the area of the house. It is important to retain this column as it provides geographical information about the location of the house. Missing data in this column is imputed with the mode."
      ]
    },
    {
      "cell_type": "markdown",
      "metadata": {
        "id": "Ybxb6Y90s62j"
      },
      "source": [
        "### region\n",
        "The 'region' column represents the region of the house. It is important to retain this column as it provides geographical information about the location of the house. Missing data in this column is imputed with the mode."
      ]
    },
    {
      "cell_type": "markdown",
      "metadata": {
        "id": "cnzX-ry_s62k"
      },
      "source": [
        "### nom_interest_rate%\n",
        "The 'nom_interest_rate%' column represents the Danish nominal interest rate per quarter. It is important to retain this column as it provides economic information that may affect house prices. Missing data in this column is imputed with the mean."
      ]
    },
    {
      "cell_type": "markdown",
      "metadata": {
        "id": "CWIImZgIs62k"
      },
      "source": [
        "### dk_ann_infl_rate%\n",
        "The 'dk_ann_infl_rate%' column represents the Danish annual inflation rate per quarter. It is important to retain this column as it provides economic information that may affect house prices. Missing data in this column is imputed with the mean."
      ]
    },
    {
      "cell_type": "markdown",
      "metadata": {
        "id": "us65IVMQs62l"
      },
      "source": [
        "### yield_on_mortgage_credit_bonds%\n",
        "The 'yield_on_mortgage_credit_bonds%' column represents the 30-year mortgage bond rate (without spread). It is important to retain this column as it provides economic information that may affect house prices. Missing data in this column is imputed with the mean."
      ]
    },
    {
      "cell_type": "markdown",
      "metadata": {
        "id": "eqJPDVd7s62m"
      },
      "source": [
        "## Understanding the Most Important Feature"
      ]
    },
    {
      "cell_type": "markdown",
      "metadata": {
        "id": "Q1GN5sIms62m"
      },
      "source": [
        "Based on the feature selection methods, the most important feature for predicting the purchase price is the 'sqm' (square meters) of the house. This is because the size of the house is directly related to its value. Larger houses tend to have higher purchase prices, making 'sqm' a crucial factor in determining the price. Additionally, the 'sqm' feature consistently appeared in the top features selected by different methods, further emphasizing its importance."
      ]
    },
    {
      "cell_type": "markdown",
      "metadata": {
        "id": "zUxdQTids62n"
      },
      "source": [
        "## Processing the Quarter Column"
      ]
    },
    {
      "cell_type": "code",
      "metadata": {
        "id": "DTJ80-aLs62n"
      },
      "source": [
        "# Process the quarter column to ensure consistency\n",
        "df['quarter'] = df['quarter'].apply(lambda x: f'Q{x}' if isinstance(x, int) else x)\n",
        "df['quarter'].unique()"
      ],
      "execution_count": null,
      "outputs": []
    },
    {
      "cell_type": "markdown",
      "metadata": {
        "id": "59dlCkyus62o"
      },
      "source": [
        "### Explanation: Processing the quarter column ensures consistency in the data format. This step converts integer values to a consistent string format (e.g., 'Q1', 'Q2', etc.)."
      ]
    }
  ],
  "metadata": {
    "kernelspec": {
      "display_name": "Python 3",
      "language": "python",
      "name": "python3"
    },
    "language_info": {
      "codemirror_mode": {
        "name": "ipython",
        "version": 3
      },
      "file_extension": ".py",
      "mimetype": "text/x-python",
      "name": "python",
      "nbconvert_exporter": "python",
      "pygments_lexer": "ipython3",
      "version": "3.8.5"
    },
    "colab": {
      "provenance": [],
      "toc_visible": true
    }
  },
  "nbformat": 4,
  "nbformat_minor": 0
}