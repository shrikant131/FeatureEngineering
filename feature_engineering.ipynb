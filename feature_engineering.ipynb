{
 "cells": [
  {
   "cell_type": "markdown",
   "metadata": {},
   "source": [
    "# Feature Engineering on DK Housing Prices Dataset"
   ]
  },
  {
   "cell_type": "markdown",
   "metadata": {},
   "source": [
    "## Identification of Attribute Types"
   ]
  },
  {
   "cell_type": "code",
   "metadata": {},
   "source": [
    "# Import necessary libraries\n",
    "import pandas as pd\n",
    "import numpy as np\n",
    "import seaborn as sns\n",
    "import matplotlib.pyplot as plt\n",
    "\n",
    "# Load the dataset\n",
    "df = pd.read_csv('dk_housing_prices.csv')\n",
    "\n",
    "# Display the first few rows of the dataset\n",
    "df.head()"
   ]
  },
  {
   "cell_type": "markdown",
   "metadata": {},
   "source": [
    "## Handling Missing Data"
   ]
  },
  {
   "cell_type": "code",
   "metadata": {},
   "source": [
    "# Check for missing data\n",
    "missing_data = df.isnull().sum()\n",
    "missing_data[missing_data > 0]"
   ]
  },
  {
   "cell_type": "markdown",
   "metadata": {},
   "source": [
    "## Normalization of Numeric Attributes"
   ]
  },
  {
   "cell_type": "code",
   "metadata": {},
   "source": [
    "# Normalize numeric attributes\n",
    "numeric_cols = df.select_dtypes(include=[np.number]).columns\n",
    "df[numeric_cols] = (df[numeric_cols] - df[numeric_cols].mean()) / df[numeric_cols].std()\n",
    "df.head()"
   ]
  },
  {
   "cell_type": "markdown",
   "metadata": {},
   "source": [
    "## Analysis of the 5 Most Expensive Cities and Cities with Maximum Unique Zip Codes"
   ]
  },
  {
   "cell_type": "code",
   "metadata": {},
   "source": [
    "# 5 most expensive cities\n",
    "expensive_cities = df.groupby('city')['purchase_price'].mean().sort_values(ascending=False).head(5)\n",
    "expensive_cities"
   ]
  },
  {
   "cell_type": "code",
   "metadata": {},
   "source": [
    "# 5 cities with maximum unique zip codes\n",
    "unique_zip_cities = df.groupby('city')['zip_code'].nunique().sort_values(ascending=False).head(5)\n",
    "unique_zip_cities"
   ]
  },
  {
   "cell_type": "markdown",
   "metadata": {},
   "source": [
    "## Proximity Measures"
   ]
  },
  {
   "cell_type": "code",
   "metadata": {},
   "source": [
    "# Proximity measure between house_type and sqm\n",
    "house_type_sqm = df.groupby('house_type')['sqm'].mean()\n",
    "house_type_sqm"
   ]
  },
  {
   "cell_type": "code",
   "metadata": {},
   "source": [
    "# Proximity measure between house_type and purchase_price\n",
    "house_type_price = df.groupby('house_type')['purchase_price'].mean()\n",
    "house_type_price"
   ]
  },
  {
   "cell_type": "code",
   "metadata": {},
   "source": [
    "# Proximity measure between no_rooms and purchase_price\n",
    "rooms_price = df.groupby('no_rooms')['purchase_price'].mean()\n",
    "rooms_price"
   ]
  },
  {
   "cell_type": "markdown",
   "metadata": {},
   "source": [
    "## Feature Selection"
   ]
  },
  {
   "cell_type": "code",
   "metadata": {},
   "source": [
    "# Feature selection using filter methods\n",
    "from sklearn.feature_selection import SelectKBest, f_regression, mutual_info_regression\n",
    "\n",
    "# Define independent variables and target variable\n",
    "X = df.drop(columns=['purchase_price'])\n",
    "y = df['purchase_price']\n",
    "\n",
    "# Apply SelectKBest with f_regression\n",
    "kbest_f = SelectKBest(score_func=f_regression, k=5)\n",
    "kbest_f.fit(X, y)\n",
    "features_f = X.columns[kbest_f.get_support()]\n",
    "features_f"
   ]
  },
  {
   "cell_type": "code",
   "metadata": {},
   "source": [
    "# Apply SelectKBest with mutual_info_regression\n",
    "kbest_mi = SelectKBest(score_func=mutual_info_regression, k=5)\n",
    "kbest_mi.fit(X, y)\n",
    "features_mi = X.columns[kbest_mi.get_support()]\n",
    "features_mi"
   ]
  },
  {
   "cell_type": "code",
   "metadata": {},
   "source": [
    "# Apply correlation method\n",
    "correlation = df.corr()\n",
    "correlation_target = abs(correlation['purchase_price'])\n",
    "relevant_features = correlation_target[correlation_target > 0.5]\n",
    "relevant_features"
   ]
  },
  {
   "cell_type": "markdown",
   "metadata": {},
   "source": [
    "## Correlation Plot"
   ]
  },
  {
   "cell_type": "code",
   "metadata": {},
   "source": [
    "# Plot correlation between independent features and target variable\n",
    "plt.figure(figsize=(12, 8))\n",
    "sns.heatmap(df.corr(), annot=True, cmap='coolwarm')\n",
    "plt.title('Correlation Plot')\n",
    "plt.show()"
   ]
  },
  {
   "cell_type": "markdown",
   "metadata": {},
   "source": [
    "## Visualizations and Other Plots for Analysis and Data Preprocessing"
   ]
  },
  {
   "cell_type": "code",
   "metadata": {},
   "source": [
    "# Distribution of purchase prices\n",
    "plt.figure(figsize=(10, 6))\n",
    "sns.histplot(df['purchase_price'], bins=30, kde=True)\n",
    "plt.title('Distribution of Purchase Prices')\n",
    "plt.xlabel('Purchase Price')\n",
    "plt.ylabel('Frequency')\n",
    "plt.show()"
   ]
  },
  {
   "cell_type": "code",
   "metadata": {},
   "source": [
    "# Boxplot of purchase prices by house type\n",
    "plt.figure(figsize=(12, 6))\n",
    "sns.boxplot(x='house_type', y='purchase_price', data=df)\n",
    "plt.title('Boxplot of Purchase Prices by House Type')\n",
    "plt.xlabel('House Type')\n",
    "plt.ylabel('Purchase Price')\n",
    "plt.show()"
   ]
  },
  {
   "cell_type": "code",
   "metadata": {},
   "source": [
    "# Scatter plot of sqm vs purchase price\n",
    "plt.figure(figsize=(10, 6))\n",
    "sns.scatterplot(x='sqm', y='purchase_price', data=df)\n",
    "plt.title('Scatter Plot of SQM vs Purchase Price')\n",
    "plt.xlabel('SQM')\n",
    "plt.ylabel('Purchase Price')\n",
    "plt.show()"
   ]
  }
 ],
 "metadata": {
  "kernelspec": {
   "display_name": "Python 3",
   "language": "python",
   "name": "python3"
  },
  "language_info": {
   "codemirror_mode": {
    "name": "ipython",
    "version": 3
   },
   "file_extension": ".py",
   "mimetype": "text/x-python",
   "name": "python",
   "nbconvert_exporter": "python",
   "pygments_lexer": "ipython3",
   "version": "3.8.5"
  }
 },
 "nbformat": 4,
 "nbformat_minor": 4
}
