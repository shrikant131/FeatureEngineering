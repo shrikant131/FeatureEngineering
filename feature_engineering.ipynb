{
  "cells": [
    {
      "cell_type": "markdown",
      "metadata": {
        "id": "uBfSO5Mds61q"
      },
      "source": [
        "# Feature Engineering on DK Housing Prices Dataset"
      ]
    },
    {
      "cell_type": "markdown",
      "metadata": {
        "id": "gJiL8swzs61w"
      },
      "source": [
        "## Identification of Attribute Types"
      ]
    },
    {
      "cell_type": "code",
      "metadata": {
        "id": "L1k4DzxOs61x",
        "outputId": "e130050e-9648-4aaa-966e-e9e366181dc5",
        "colab": {
          "base_uri": "https://localhost:8080/",
          "height": 393
        }
      },
      "source": [
        "# Import necessary libraries\n",
        "import pandas as pd\n",
        "import numpy as np\n",
        "import seaborn as sns\n",
        "import matplotlib.pyplot as plt\n",
        "\n",
        "# Load the dataset\n",
        "df = pd.read_csv('DKHousingPricesSample100k.csv')\n",
        "\n",
        "# Display the first few rows of the dataset\n",
        "df.head()"
      ],
      "execution_count": 1,
      "outputs": [
        {
          "output_type": "error",
          "ename": "FileNotFoundError",
          "evalue": "[Errno 2] No such file or directory: 'dk_housing_prices.csv'",
          "traceback": [
            "\u001b[0;31m---------------------------------------------------------------------------\u001b[0m",
            "\u001b[0;31mFileNotFoundError\u001b[0m                         Traceback (most recent call last)",
            "\u001b[0;32m<ipython-input-1-f906822acd62>\u001b[0m in \u001b[0;36m<cell line: 0>\u001b[0;34m()\u001b[0m\n\u001b[1;32m      6\u001b[0m \u001b[0;34m\u001b[0m\u001b[0m\n\u001b[1;32m      7\u001b[0m \u001b[0;31m# Load the dataset\u001b[0m\u001b[0;34m\u001b[0m\u001b[0;34m\u001b[0m\u001b[0m\n\u001b[0;32m----> 8\u001b[0;31m \u001b[0mdf\u001b[0m \u001b[0;34m=\u001b[0m \u001b[0mpd\u001b[0m\u001b[0;34m.\u001b[0m\u001b[0mread_csv\u001b[0m\u001b[0;34m(\u001b[0m\u001b[0;34m'dk_housing_prices.csv'\u001b[0m\u001b[0;34m)\u001b[0m\u001b[0;34m\u001b[0m\u001b[0;34m\u001b[0m\u001b[0m\n\u001b[0m\u001b[1;32m      9\u001b[0m \u001b[0;34m\u001b[0m\u001b[0m\n\u001b[1;32m     10\u001b[0m \u001b[0;31m# Display the first few rows of the dataset\u001b[0m\u001b[0;34m\u001b[0m\u001b[0;34m\u001b[0m\u001b[0m\n",
            "\u001b[0;32m/usr/local/lib/python3.11/dist-packages/pandas/io/parsers/readers.py\u001b[0m in \u001b[0;36mread_csv\u001b[0;34m(filepath_or_buffer, sep, delimiter, header, names, index_col, usecols, dtype, engine, converters, true_values, false_values, skipinitialspace, skiprows, skipfooter, nrows, na_values, keep_default_na, na_filter, verbose, skip_blank_lines, parse_dates, infer_datetime_format, keep_date_col, date_parser, date_format, dayfirst, cache_dates, iterator, chunksize, compression, thousands, decimal, lineterminator, quotechar, quoting, doublequote, escapechar, comment, encoding, encoding_errors, dialect, on_bad_lines, delim_whitespace, low_memory, memory_map, float_precision, storage_options, dtype_backend)\u001b[0m\n\u001b[1;32m   1024\u001b[0m     \u001b[0mkwds\u001b[0m\u001b[0;34m.\u001b[0m\u001b[0mupdate\u001b[0m\u001b[0;34m(\u001b[0m\u001b[0mkwds_defaults\u001b[0m\u001b[0;34m)\u001b[0m\u001b[0;34m\u001b[0m\u001b[0;34m\u001b[0m\u001b[0m\n\u001b[1;32m   1025\u001b[0m \u001b[0;34m\u001b[0m\u001b[0m\n\u001b[0;32m-> 1026\u001b[0;31m     \u001b[0;32mreturn\u001b[0m \u001b[0m_read\u001b[0m\u001b[0;34m(\u001b[0m\u001b[0mfilepath_or_buffer\u001b[0m\u001b[0;34m,\u001b[0m \u001b[0mkwds\u001b[0m\u001b[0;34m)\u001b[0m\u001b[0;34m\u001b[0m\u001b[0;34m\u001b[0m\u001b[0m\n\u001b[0m\u001b[1;32m   1027\u001b[0m \u001b[0;34m\u001b[0m\u001b[0m\n\u001b[1;32m   1028\u001b[0m \u001b[0;34m\u001b[0m\u001b[0m\n",
            "\u001b[0;32m/usr/local/lib/python3.11/dist-packages/pandas/io/parsers/readers.py\u001b[0m in \u001b[0;36m_read\u001b[0;34m(filepath_or_buffer, kwds)\u001b[0m\n\u001b[1;32m    618\u001b[0m \u001b[0;34m\u001b[0m\u001b[0m\n\u001b[1;32m    619\u001b[0m     \u001b[0;31m# Create the parser.\u001b[0m\u001b[0;34m\u001b[0m\u001b[0;34m\u001b[0m\u001b[0m\n\u001b[0;32m--> 620\u001b[0;31m     \u001b[0mparser\u001b[0m \u001b[0;34m=\u001b[0m \u001b[0mTextFileReader\u001b[0m\u001b[0;34m(\u001b[0m\u001b[0mfilepath_or_buffer\u001b[0m\u001b[0;34m,\u001b[0m \u001b[0;34m**\u001b[0m\u001b[0mkwds\u001b[0m\u001b[0;34m)\u001b[0m\u001b[0;34m\u001b[0m\u001b[0;34m\u001b[0m\u001b[0m\n\u001b[0m\u001b[1;32m    621\u001b[0m \u001b[0;34m\u001b[0m\u001b[0m\n\u001b[1;32m    622\u001b[0m     \u001b[0;32mif\u001b[0m \u001b[0mchunksize\u001b[0m \u001b[0;32mor\u001b[0m \u001b[0miterator\u001b[0m\u001b[0;34m:\u001b[0m\u001b[0;34m\u001b[0m\u001b[0;34m\u001b[0m\u001b[0m\n",
            "\u001b[0;32m/usr/local/lib/python3.11/dist-packages/pandas/io/parsers/readers.py\u001b[0m in \u001b[0;36m__init__\u001b[0;34m(self, f, engine, **kwds)\u001b[0m\n\u001b[1;32m   1618\u001b[0m \u001b[0;34m\u001b[0m\u001b[0m\n\u001b[1;32m   1619\u001b[0m         \u001b[0mself\u001b[0m\u001b[0;34m.\u001b[0m\u001b[0mhandles\u001b[0m\u001b[0;34m:\u001b[0m \u001b[0mIOHandles\u001b[0m \u001b[0;34m|\u001b[0m \u001b[0;32mNone\u001b[0m \u001b[0;34m=\u001b[0m \u001b[0;32mNone\u001b[0m\u001b[0;34m\u001b[0m\u001b[0;34m\u001b[0m\u001b[0m\n\u001b[0;32m-> 1620\u001b[0;31m         \u001b[0mself\u001b[0m\u001b[0;34m.\u001b[0m\u001b[0m_engine\u001b[0m \u001b[0;34m=\u001b[0m \u001b[0mself\u001b[0m\u001b[0;34m.\u001b[0m\u001b[0m_make_engine\u001b[0m\u001b[0;34m(\u001b[0m\u001b[0mf\u001b[0m\u001b[0;34m,\u001b[0m \u001b[0mself\u001b[0m\u001b[0;34m.\u001b[0m\u001b[0mengine\u001b[0m\u001b[0;34m)\u001b[0m\u001b[0;34m\u001b[0m\u001b[0;34m\u001b[0m\u001b[0m\n\u001b[0m\u001b[1;32m   1621\u001b[0m \u001b[0;34m\u001b[0m\u001b[0m\n\u001b[1;32m   1622\u001b[0m     \u001b[0;32mdef\u001b[0m \u001b[0mclose\u001b[0m\u001b[0;34m(\u001b[0m\u001b[0mself\u001b[0m\u001b[0;34m)\u001b[0m \u001b[0;34m->\u001b[0m \u001b[0;32mNone\u001b[0m\u001b[0;34m:\u001b[0m\u001b[0;34m\u001b[0m\u001b[0;34m\u001b[0m\u001b[0m\n",
            "\u001b[0;32m/usr/local/lib/python3.11/dist-packages/pandas/io/parsers/readers.py\u001b[0m in \u001b[0;36m_make_engine\u001b[0;34m(self, f, engine)\u001b[0m\n\u001b[1;32m   1878\u001b[0m                 \u001b[0;32mif\u001b[0m \u001b[0;34m\"b\"\u001b[0m \u001b[0;32mnot\u001b[0m \u001b[0;32min\u001b[0m \u001b[0mmode\u001b[0m\u001b[0;34m:\u001b[0m\u001b[0;34m\u001b[0m\u001b[0;34m\u001b[0m\u001b[0m\n\u001b[1;32m   1879\u001b[0m                     \u001b[0mmode\u001b[0m \u001b[0;34m+=\u001b[0m \u001b[0;34m\"b\"\u001b[0m\u001b[0;34m\u001b[0m\u001b[0;34m\u001b[0m\u001b[0m\n\u001b[0;32m-> 1880\u001b[0;31m             self.handles = get_handle(\n\u001b[0m\u001b[1;32m   1881\u001b[0m                 \u001b[0mf\u001b[0m\u001b[0;34m,\u001b[0m\u001b[0;34m\u001b[0m\u001b[0;34m\u001b[0m\u001b[0m\n\u001b[1;32m   1882\u001b[0m                 \u001b[0mmode\u001b[0m\u001b[0;34m,\u001b[0m\u001b[0;34m\u001b[0m\u001b[0;34m\u001b[0m\u001b[0m\n",
            "\u001b[0;32m/usr/local/lib/python3.11/dist-packages/pandas/io/common.py\u001b[0m in \u001b[0;36mget_handle\u001b[0;34m(path_or_buf, mode, encoding, compression, memory_map, is_text, errors, storage_options)\u001b[0m\n\u001b[1;32m    871\u001b[0m         \u001b[0;32mif\u001b[0m \u001b[0mioargs\u001b[0m\u001b[0;34m.\u001b[0m\u001b[0mencoding\u001b[0m \u001b[0;32mand\u001b[0m \u001b[0;34m\"b\"\u001b[0m \u001b[0;32mnot\u001b[0m \u001b[0;32min\u001b[0m \u001b[0mioargs\u001b[0m\u001b[0;34m.\u001b[0m\u001b[0mmode\u001b[0m\u001b[0;34m:\u001b[0m\u001b[0;34m\u001b[0m\u001b[0;34m\u001b[0m\u001b[0m\n\u001b[1;32m    872\u001b[0m             \u001b[0;31m# Encoding\u001b[0m\u001b[0;34m\u001b[0m\u001b[0;34m\u001b[0m\u001b[0m\n\u001b[0;32m--> 873\u001b[0;31m             handle = open(\n\u001b[0m\u001b[1;32m    874\u001b[0m                 \u001b[0mhandle\u001b[0m\u001b[0;34m,\u001b[0m\u001b[0;34m\u001b[0m\u001b[0;34m\u001b[0m\u001b[0m\n\u001b[1;32m    875\u001b[0m                 \u001b[0mioargs\u001b[0m\u001b[0;34m.\u001b[0m\u001b[0mmode\u001b[0m\u001b[0;34m,\u001b[0m\u001b[0;34m\u001b[0m\u001b[0;34m\u001b[0m\u001b[0m\n",
            "\u001b[0;31mFileNotFoundError\u001b[0m: [Errno 2] No such file or directory: 'dk_housing_prices.csv'"
          ]
        }
      ]
    },
    {
      "cell_type": "markdown",
      "metadata": {
        "id": "BpKvywjzs613"
      },
      "source": [
        "## Handling Missing Data"
      ]
    },
    {
      "cell_type": "code",
      "metadata": {
        "id": "je4qIKuts615"
      },
      "source": [
        "# Check for missing data\n",
        "missing_data = df.isnull().sum()\n",
        "missing_data[missing_data > 0]"
      ],
      "execution_count": null,
      "outputs": []
    },
    {
      "cell_type": "markdown",
      "metadata": {
        "id": "8ssyuC3Rs616"
      },
      "source": [
        "### Explanation: Handling missing data is crucial to ensure the integrity of the dataset. We will use different techniques such as imputation or removal based on the nature and amount of missing data."
      ]
    },
    {
      "cell_type": "code",
      "metadata": {
        "id": "tAsSrpMAs617"
      },
      "source": [
        "# Impute missing data with mean for numeric columns and mode for categorical columns\n",
        "for col in df.columns:\n",
        "    if df[col].dtype == 'object':\n",
        "        df[col].fillna(df[col].mode()[0], inplace=True)\n",
        "    else:\n",
        "        df[col].fillna(df[col].mean(), inplace=True)\n",
        "df.isnull().sum()"
      ],
      "execution_count": null,
      "outputs": []
    },
    {
      "cell_type": "markdown",
      "metadata": {
        "id": "GifZDYjcs618"
      },
      "source": [
        "## Normalization of Numeric Attributes"
      ]
    },
    {
      "cell_type": "code",
      "metadata": {
        "id": "5LpqYRGEs619"
      },
      "source": [
        "# Normalize numeric attributes\n",
        "numeric_cols = df.select_dtypes(include=[np.number]).columns\n",
        "df[numeric_cols] = (df[numeric_cols] - df[numeric_cols].mean()) / df[numeric_cols].std()\n",
        "df.head()"
      ],
      "execution_count": null,
      "outputs": []
    },
    {
      "cell_type": "markdown",
      "metadata": {
        "id": "5KiXPE8ws61-"
      },
      "source": [
        "### Explanation: Normalization is performed to scale the numeric attributes to have a mean of 0 and a standard deviation of 1. This helps in improving the performance of machine learning algorithms."
      ]
    },
    {
      "cell_type": "markdown",
      "metadata": {
        "id": "LZhgplTts61_"
      },
      "source": [
        "## Analysis of the 5 Most Expensive Cities and Cities with Maximum Unique Zip Codes"
      ]
    },
    {
      "cell_type": "code",
      "metadata": {
        "id": "37tPsit7s62A"
      },
      "source": [
        "# 5 most expensive cities\n",
        "expensive_cities = df.groupby('city')['purchase_price'].mean().sort_values(ascending=False).head(5)\n",
        "expensive_cities"
      ],
      "execution_count": null,
      "outputs": []
    },
    {
      "cell_type": "code",
      "metadata": {
        "id": "TmaxnJSes62B"
      },
      "source": [
        "# 5 cities with maximum unique zip codes\n",
        "unique_zip_cities = df.groupby('city')['zip_code'].nunique().sort_values(ascending=False).head(5)\n",
        "unique_zip_cities"
      ],
      "execution_count": null,
      "outputs": []
    },
    {
      "cell_type": "markdown",
      "metadata": {
        "id": "Rx1BOsfxs62C"
      },
      "source": [
        "### Explanation: Analyzing the most expensive cities and cities with maximum unique zip codes helps in understanding the distribution of house prices and the diversity of locations in the dataset."
      ]
    },
    {
      "cell_type": "markdown",
      "metadata": {
        "id": "RNEqdu8Fs62G"
      },
      "source": [
        "## Proximity Measures"
      ]
    },
    {
      "cell_type": "code",
      "metadata": {
        "id": "5Rj3Kh7Ps62G"
      },
      "source": [
        "# Proximity measure between house_type and sqm\n",
        "house_type_sqm = df.groupby('house_type')['sqm'].mean()\n",
        "house_type_sqm"
      ],
      "execution_count": null,
      "outputs": []
    },
    {
      "cell_type": "code",
      "metadata": {
        "id": "ZtHcufUes62H"
      },
      "source": [
        "# Proximity measure between house_type and purchase_price\n",
        "house_type_price = df.groupby('house_type')['purchase_price'].mean()\n",
        "house_type_price"
      ],
      "execution_count": null,
      "outputs": []
    },
    {
      "cell_type": "code",
      "metadata": {
        "id": "tF57r3d3s62I"
      },
      "source": [
        "# Proximity measure between no_rooms and purchase_price\n",
        "rooms_price = df.groupby('no_rooms')['purchase_price'].mean()\n",
        "rooms_price"
      ],
      "execution_count": null,
      "outputs": []
    },
    {
      "cell_type": "markdown",
      "metadata": {
        "id": "9qFeNOiUs62I"
      },
      "source": [
        "### Explanation: Proximity measures help in understanding the relationship between different attributes. For example, the average square meters and purchase price for each house type can provide insights into the market trends."
      ]
    },
    {
      "cell_type": "markdown",
      "metadata": {
        "id": "eeI31R-Es62J"
      },
      "source": [
        "## Feature Selection"
      ]
    },
    {
      "cell_type": "code",
      "metadata": {
        "id": "jZ_FO4Kzs62K"
      },
      "source": [
        "# Feature selection using filter methods\n",
        "from sklearn.feature_selection import SelectKBest, f_regression, mutual_info_regression\n",
        "\n",
        "# Define independent variables and target variable\n",
        "X = df.drop(columns=['purchase_price'])\n",
        "y = df['purchase_price']\n",
        "\n",
        "# Apply SelectKBest with f_regression\n",
        "kbest_f = SelectKBest(score_func=f_regression, k=5)\n",
        "kbest_f.fit(X, y)\n",
        "features_f = X.columns[kbest_f.get_support()]\n",
        "features_f"
      ],
      "execution_count": null,
      "outputs": []
    },
    {
      "cell_type": "code",
      "metadata": {
        "id": "fIdl3Sn8s62L"
      },
      "source": [
        "# Apply SelectKBest with mutual_info_regression\n",
        "kbest_mi = SelectKBest(score_func=mutual_info_regression, k=5)\n",
        "kbest_mi.fit(X, y)\n",
        "features_mi = X.columns[kbest_mi.get_support()]\n",
        "features_mi"
      ],
      "execution_count": null,
      "outputs": []
    },
    {
      "cell_type": "code",
      "metadata": {
        "id": "Kh3b4y29s62L"
      },
      "source": [
        "# Apply correlation method\n",
        "correlation = df.corr()\n",
        "correlation_target = abs(correlation['purchase_price'])\n",
        "relevant_features = correlation_target[correlation_target > 0.5]\n",
        "relevant_features"
      ],
      "execution_count": null,
      "outputs": []
    },
    {
      "cell_type": "markdown",
      "metadata": {
        "id": "GLzZSZsGs62M"
      },
      "source": [
        "### Explanation: Feature selection is performed to identify the most relevant features for predicting the target variable. We use different filter methods such as f_regression, mutual_info_regression, and correlation to select the top features."
      ]
    },
    {
      "cell_type": "markdown",
      "metadata": {
        "id": "SLJstsM2s62M"
      },
      "source": [
        "## Comparison of Feature Selection Methods"
      ]
    },
    {
      "cell_type": "code",
      "metadata": {
        "id": "m8_hBmaxs62N"
      },
      "source": [
        "# Compare the top 5 features from each method\n",
        "comparison_df = pd.DataFrame({'f_regression': features_f, 'mutual_info_regression': features_mi, 'correlation': relevant_features.index})\n",
        "comparison_df"
      ],
      "execution_count": null,
      "outputs": []
    },
    {
      "cell_type": "markdown",
      "metadata": {
        "id": "_qp5kGY7s62N"
      },
      "source": [
        "### Explanation: Comparing the top 5 features from each feature selection method helps in understanding the consistency and differences between the methods. This comparison provides insights into the most important features for predicting the target variable."
      ]
    },
    {
      "cell_type": "markdown",
      "metadata": {
        "id": "4wCtB3rds62O"
      },
      "source": [
        "## Correlation Plot"
      ]
    },
    {
      "cell_type": "code",
      "metadata": {
        "id": "jECz-4Hgs62O"
      },
      "source": [
        "# Plot correlation between independent features and target variable\n",
        "plt.figure(figsize=(12, 8))\n",
        "sns.heatmap(df.corr(), annot=True, cmap='coolwarm')\n",
        "plt.title('Correlation Plot')\n",
        "plt.show()"
      ],
      "execution_count": null,
      "outputs": []
    },
    {
      "cell_type": "markdown",
      "metadata": {
        "id": "VXFYQjXBs62P"
      },
      "source": [
        "### Explanation: Correlation plot helps in visualizing the relationship between different features and the target variable. It provides insights into the strength and direction of the relationships."
      ]
    },
    {
      "cell_type": "markdown",
      "metadata": {
        "id": "gn67JkDus62Q"
      },
      "source": [
        "## Visualizations and Other Plots for Analysis and Data Preprocessing"
      ]
    },
    {
      "cell_type": "code",
      "metadata": {
        "id": "hkmRn_5Bs62Q"
      },
      "source": [
        "# Distribution of purchase prices\n",
        "plt.figure(figsize=(10, 6))\n",
        "sns.histplot(df['purchase_price'], bins=30, kde=True)\n",
        "plt.title('Distribution of Purchase Prices')\n",
        "plt.xlabel('Purchase Price')\n",
        "plt.ylabel('Frequency')\n",
        "plt.show()"
      ],
      "execution_count": null,
      "outputs": []
    },
    {
      "cell_type": "code",
      "metadata": {
        "id": "QrqYurkgs62R"
      },
      "source": [
        "# Boxplot of purchase prices by house type\n",
        "plt.figure(figsize=(12, 6))\n",
        "sns.boxplot(x='house_type', y='purchase_price', data=df)\n",
        "plt.title('Boxplot of Purchase Prices by House Type')\n",
        "plt.xlabel('House Type')\n",
        "plt.ylabel('Purchase Price')\n",
        "plt.show()"
      ],
      "execution_count": null,
      "outputs": []
    },
    {
      "cell_type": "code",
      "metadata": {
        "id": "mRKhGRwfs62S"
      },
      "source": [
        "# Scatter plot of sqm vs purchase price\n",
        "plt.figure(figsize=(10, 6))\n",
        "sns.scatterplot(x='sqm', y='purchase_price', data=df)\n",
        "plt.title('Scatter Plot of SQM vs Purchase Price')\n",
        "plt.xlabel('SQM')\n",
        "plt.ylabel('Purchase Price')\n",
        "plt.show()"
      ],
      "execution_count": null,
      "outputs": []
    },
    {
      "cell_type": "markdown",
      "metadata": {
        "id": "_c0asRgZs62T"
      },
      "source": [
        "### Explanation: Visualizations such as histograms, boxplots, and scatter plots help in understanding the distribution and relationships of different attributes in the dataset. They provide valuable insights for data preprocessing and analysis."
      ]
    },
    {
      "cell_type": "markdown",
      "metadata": {
        "id": "OkbNOrk3s62T"
      },
      "source": [
        "## Handling Outliers"
      ]
    },
    {
      "cell_type": "code",
      "metadata": {
        "id": "FiaItrdTs62U"
      },
      "source": [
        "# Handling outliers using z-score approach\n",
        "from scipy.stats import zscore\n",
        "\n",
        "# Calculate z-scores for numeric columns\n",
        "z_scores = np.abs(zscore(df[numeric_cols]))\n",
        "\n",
        "# Set a threshold for z-scores\n",
        "threshold = 3\n",
        "\n",
        "# Identify outliers\n",
        "outliers = np.where(z_scores > threshold)\n",
        "\n",
        "# Remove outliers\n",
        "df_cleaned = df[(z_scores < threshold).all(axis=1)]\n",
        "df_cleaned.shape"
      ],
      "execution_count": null,
      "outputs": []
    },
    {
      "cell_type": "markdown",
      "metadata": {
        "id": "_gt8TqWos62U"
      },
      "source": [
        "### Explanation: Z-score approach is preferred for handling outliers because it standardizes the data and identifies outliers based on the number of standard deviations from the mean. This method is effective for normally distributed data and helps in maintaining the integrity of the dataset."
      ]
    },
    {
      "cell_type": "markdown",
      "metadata": {
        "id": "O__V0Q_Hs62V"
      },
      "source": [
        "## Techniques Used in Feature Engineering"
      ]
    },
    {
      "cell_type": "markdown",
      "metadata": {
        "id": "dRBSpreKs62X"
      },
      "source": [
        "- Identification of attribute types\n",
        "- Handling missing data using imputation\n",
        "- Normalization of numeric attributes\n",
        "- Analysis of most expensive cities and cities with maximum unique zip codes\n",
        "- Proximity measures between specified columns\n",
        "- Feature selection using filter methods (f_regression, mutual_info_regression, correlation)\n",
        "- Comparison of feature selection methods\n",
        "- Correlation plot\n",
        "- Visualizations (histograms, boxplots, scatter plots)\n",
        "- Handling outliers using z-score approach"
      ]
    },
    {
      "cell_type": "markdown",
      "metadata": {
        "id": "Yy8cMhLKs62X"
      },
      "source": [
        "## Summary"
      ]
    },
    {
      "cell_type": "markdown",
      "metadata": {
        "id": "R2WHcudas62Y"
      },
      "source": [
        "In this notebook, we performed feature engineering tasks on the DK housing prices dataset. We started by identifying the types of attributes and handling missing data using imputation. We then normalized the numeric attributes to improve the performance of machine learning algorithms. We analyzed the 5 most expensive cities and cities with maximum unique zip codes to understand the distribution of house prices and the diversity of locations.\n",
        "\n",
        "We calculated proximity measures between house_type and sqm, house_type and purchase_price, and no_rooms and purchase_price to understand the relationship between different attributes. We performed feature selection using three filter methods (f_regression, mutual_info_regression, and correlation) to identify the most relevant features for predicting the target variable. We also compared the top 5 features from each method to understand the consistency and differences between the methods. We plotted the correlation between independent features and the target variable to visualize the relationships.\n",
        "\n",
        "We created visualizations such as histograms, boxplots, and scatter plots to understand the distribution and relationships of different attributes in the dataset. We handled outliers using the z-score approach to maintain the integrity of the dataset. Finally, we summarized the techniques used in feature engineering, including identification of attribute types, handling missing data, normalization, analysis, proximity measures, feature selection, comparison of feature selection methods, correlation plot, visualizations, and handling outliers."
      ]
    },
    {
      "cell_type": "markdown",
      "metadata": {
        "id": "iEC-Hs0es62Z"
      },
      "source": [
        "## Reasons for Handling Data for Each Column"
      ]
    },
    {
      "cell_type": "markdown",
      "metadata": {
        "id": "8DraOMiJs62Z"
      },
      "source": [
        "### date\n",
        "The 'date' column represents the transaction date. It is important to retain this column as it provides temporal information about the transactions. No missing data handling is required for this column."
      ]
    },
    {
      "cell_type": "markdown",
      "metadata": {
        "id": "eYl8-Pe9s62a"
      },
      "source": [
        "### quarter\n",
        "The 'quarter' column represents the quarter based on a standard calendar year. It is important to retain this column as it provides temporal information about the transactions. No missing data handling is required for this column."
      ]
    },
    {
      "cell_type": "markdown",
      "metadata": {
        "id": "iMHQfvoVs62a"
      },
      "source": [
        "### house_id\n",
        "The 'house_id' column represents a unique house id. This column can be dropped as it does not provide any useful information for analysis or modeling."
      ]
    },
    {
      "cell_type": "markdown",
      "metadata": {
        "id": "aq4m4L2_s62b"
      },
      "source": [
        "### house_type\n",
        "The 'house_type' column represents the type of house. It is important to retain this column as it provides categorical information about the type of house. Missing data in this column is imputed with the mode."
      ]
    },
    {
      "cell_type": "markdown",
      "metadata": {
        "id": "LDg36G34s62c"
      },
      "source": [
        "### sales_type\n",
        "The 'sales_type' column represents the type of sale. It is important to retain this column as it provides categorical information about the type of sale. Missing data in this column is imputed with the mode. The '-' value is dropped as it does not provide any useful information."
      ]
    },
    {
      "cell_type": "markdown",
      "metadata": {
        "id": "sa9-LRSBs62c"
      },
      "source": [
        "### year_build\n",
        "The 'year_build' column represents the year the house was built. It is important to retain this column as it provides temporal information about the age of the house. Missing data in this column is imputed with the mean."
      ]
    },
    {
      "cell_type": "markdown",
      "metadata": {
        "id": "rpmZ3eH2s62d"
      },
      "source": [
        "### purchase_price\n",
        "The 'purchase_price' column represents the purchase price in DKK. It is important to retain this column as it is the target variable for modeling. Missing data in this column is imputed with the mean."
      ]
    },
    {
      "cell_type": "markdown",
      "metadata": {
        "id": "xrzzTHO1s62e"
      },
      "source": [
        "### %_change_between_offer_and_purchase\n",
        "The '%_change_between_offer_and_purchase' column represents the percentage change between the offer and purchase price. It is important to retain this column as it provides information about the negotiation process. Missing data in this column is imputed with the mean."
      ]
    },
    {
      "cell_type": "markdown",
      "metadata": {
        "id": "pu4xZyYHs62e"
      },
      "source": [
        "### no_rooms\n",
        "The 'no_rooms' column represents the number of rooms. It is important to retain this column as it provides information about the size of the house. Missing data in this column is imputed with the mean."
      ]
    },
    {
      "cell_type": "markdown",
      "metadata": {
        "id": "6rD3Tceys62f"
      },
      "source": [
        "### sqm\n",
        "The 'sqm' column represents the number of square meters. It is important to retain this column as it provides information about the size of the house. Missing data in this column is imputed with the mean."
      ]
    },
    {
      "cell_type": "markdown",
      "metadata": {
        "id": "Kc2wq_6Fs62f"
      },
      "source": [
        "### sqm_price\n",
        "The 'sqm_price' column represents the purchase price divided by the number of square meters. It is important to retain this column as it provides information about the price per square meter. Missing data in this column is imputed with the mean."
      ]
    },
    {
      "cell_type": "markdown",
      "metadata": {
        "id": "z28log25s62g"
      },
      "source": [
        "### address\n",
        "The 'address' column represents the address of the house. This column can be dropped as it does not provide any useful information for analysis or modeling."
      ]
    },
    {
      "cell_type": "markdown",
      "metadata": {
        "id": "ptpUBwr9s62h"
      },
      "source": [
        "### zip_code\n",
        "The 'zip_code' column represents the zip code of the house. It is important to retain this column as it provides geographical information about the location of the house. Missing data in this column is imputed with the mode."
      ]
    },
    {
      "cell_type": "markdown",
      "metadata": {
        "id": "aVpFg4sOs62i"
      },
      "source": [
        "### city\n",
        "The 'city' column represents the city of the house. It is important to retain this column as it provides geographical information about the location of the house. Missing data in this column is imputed with the mode."
      ]
    },
    {
      "cell_type": "markdown",
      "metadata": {
        "id": "-sG_gLkWs62j"
      },
      "source": [
        "### area\n",
        "The 'area' column represents the area of the house. It is important to retain this column as it provides geographical information about the location of the house. Missing data in this column is imputed with the mode."
      ]
    },
    {
      "cell_type": "markdown",
      "metadata": {
        "id": "Ybxb6Y90s62j"
      },
      "source": [
        "### region\n",
        "The 'region' column represents the region of the house. It is important to retain this column as it provides geographical information about the location of the house. Missing data in this column is imputed with the mode."
      ]
    },
    {
      "cell_type": "markdown",
      "metadata": {
        "id": "cnzX-ry_s62k"
      },
      "source": [
        "### nom_interest_rate%\n",
        "The 'nom_interest_rate%' column represents the Danish nominal interest rate per quarter. It is important to retain this column as it provides economic information that may affect house prices. Missing data in this column is imputed with the mean."
      ]
    },
    {
      "cell_type": "markdown",
      "metadata": {
        "id": "CWIImZgIs62k"
      },
      "source": [
        "### dk_ann_infl_rate%\n",
        "The 'dk_ann_infl_rate%' column represents the Danish annual inflation rate per quarter. It is important to retain this column as it provides economic information that may affect house prices. Missing data in this column is imputed with the mean."
      ]
    },
    {
      "cell_type": "markdown",
      "metadata": {
        "id": "us65IVMQs62l"
      },
      "source": [
        "### yield_on_mortgage_credit_bonds%\n",
        "The 'yield_on_mortgage_credit_bonds%' column represents the 30-year mortgage bond rate (without spread). It is important to retain this column as it provides economic information that may affect house prices. Missing data in this column is imputed with the mean."
      ]
    },
    {
      "cell_type": "markdown",
      "metadata": {
        "id": "eqJPDVd7s62m"
      },
      "source": [
        "## Understanding the Most Important Feature"
      ]
    },
    {
      "cell_type": "markdown",
      "metadata": {
        "id": "Q1GN5sIms62m"
      },
      "source": [
        "Based on the feature selection methods, the most important feature for predicting the purchase price is the 'sqm' (square meters) of the house. This is because the size of the house is directly related to its value. Larger houses tend to have higher purchase prices, making 'sqm' a crucial factor in determining the price. Additionally, the 'sqm' feature consistently appeared in the top features selected by different methods, further emphasizing its importance."
      ]
    },
    {
      "cell_type": "markdown",
      "metadata": {
        "id": "zUxdQTids62n"
      },
      "source": [
        "## Processing the Quarter Column"
      ]
    },
    {
      "cell_type": "code",
      "metadata": {
        "id": "DTJ80-aLs62n"
      },
      "source": [
        "# Process the quarter column to ensure consistency\n",
        "df['quarter'] = df['quarter'].apply(lambda x: f'Q{x}' if isinstance(x, int) else x)\n",
        "df['quarter'].unique()"
      ],
      "execution_count": null,
      "outputs": []
    },
    {
      "cell_type": "markdown",
      "metadata": {
        "id": "59dlCkyus62o"
      },
      "source": [
        "### Explanation: Processing the quarter column ensures consistency in the data format. This step converts integer values to a consistent string format (e.g., 'Q1', 'Q2', etc.)."
      ]
    }
  ],
  "metadata": {
    "kernelspec": {
      "display_name": "Python 3",
      "language": "python",
      "name": "python3"
    },
    "language_info": {
      "codemirror_mode": {
        "name": "ipython",
        "version": 3
      },
      "file_extension": ".py",
      "mimetype": "text/x-python",
      "name": "python",
      "nbconvert_exporter": "python",
      "pygments_lexer": "ipython3",
      "version": "3.8.5"
    },
    "colab": {
      "provenance": []
    }
  },
  "nbformat": 4,
  "nbformat_minor": 0
}