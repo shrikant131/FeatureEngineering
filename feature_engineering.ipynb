{
 "cells": [
  {
   "cell_type": "markdown",
   "metadata": {},
   "source": [
    "# Feature Engineering on DK Housing Prices Dataset"
   ]
  },
  {
   "cell_type": "markdown",
   "metadata": {},
   "source": [
    "## Identification of Attribute Types"
   ]
  },
  {
   "cell_type": "code",
   "metadata": {},
   "source": [
    "# Import necessary libraries\n",
    "import pandas as pd\n",
    "import numpy as np\n",
    "import seaborn as sns\n",
    "import matplotlib.pyplot as plt\n",
    "\n",
    "# Load the dataset\n",
    "df = pd.read_csv('dk_housing_prices.csv')\n",
    "\n",
    "# Display the first few rows of the dataset\n",
    "df.head()"
   ]
  },
  {
   "cell_type": "markdown",
   "metadata": {},
   "source": [
    "## Handling Missing Data"
   ]
  },
  {
   "cell_type": "code",
   "metadata": {},
   "source": [
    "# Check for missing data\n",
    "missing_data = df.isnull().sum()\n",
    "missing_data[missing_data > 0]"
   ]
  },
  {
   "cell_type": "markdown",
   "metadata": {},
   "source": [
    "### Explanation: Handling missing data is crucial to ensure the integrity of the dataset. We will use different techniques such as imputation or removal based on the nature and amount of missing data."
   ]
  },
  {
   "cell_type": "code",
   "metadata": {},
   "source": [
    "# Impute missing data with mean for numeric columns and mode for categorical columns\n",
    "for col in df.columns:\n",
    "    if df[col].dtype == 'object':\n",
    "        df[col].fillna(df[col].mode()[0], inplace=True)\n",
    "    else:\n",
    "        df[col].fillna(df[col].mean(), inplace=True)\n",
    "df.isnull().sum()"
   ]
  },
  {
   "cell_type": "markdown",
   "metadata": {},
   "source": [
    "## Normalization of Numeric Attributes"
   ]
  },
  {
   "cell_type": "code",
   "metadata": {},
   "source": [
    "# Normalize numeric attributes\n",
    "numeric_cols = df.select_dtypes(include=[np.number]).columns\n",
    "df[numeric_cols] = (df[numeric_cols] - df[numeric_cols].mean()) / df[numeric_cols].std()\n",
    "df.head()"
   ]
  },
  {
   "cell_type": "markdown",
   "metadata": {},
   "source": [
    "### Explanation: Normalization is performed to scale the numeric attributes to have a mean of 0 and a standard deviation of 1. This helps in improving the performance of machine learning algorithms."
   ]
  },
  {
   "cell_type": "markdown",
   "metadata": {},
   "source": [
    "## Analysis of the 5 Most Expensive Cities and Cities with Maximum Unique Zip Codes"
   ]
  },
  {
   "cell_type": "code",
   "metadata": {},
   "source": [
    "# 5 most expensive cities\n",
    "expensive_cities = df.groupby('city')['purchase_price'].mean().sort_values(ascending=False).head(5)\n",
    "expensive_cities"
   ]
  },
  {
   "cell_type": "code",
   "metadata": {},
   "source": [
    "# 5 cities with maximum unique zip codes\n",
    "unique_zip_cities = df.groupby('city')['zip_code'].nunique().sort_values(ascending=False).head(5)\n",
    "unique_zip_cities"
   ]
  },
  {
   "cell_type": "markdown",
   "metadata": {},
   "source": [
    "### Explanation: Analyzing the most expensive cities and cities with maximum unique zip codes helps in understanding the distribution of house prices and the diversity of locations in the dataset."
   ]
  },
  {
   "cell_type": "markdown",
   "metadata": {},
   "source": [
    "## Proximity Measures"
   ]
  },
  {
   "cell_type": "code",
   "metadata": {},
   "source": [
    "# Proximity measure between house_type and sqm\n",
    "house_type_sqm = df.groupby('house_type')['sqm'].mean()\n",
    "house_type_sqm"
   ]
  },
  {
   "cell_type": "code",
   "metadata": {},
   "source": [
    "# Proximity measure between house_type and purchase_price\n",
    "house_type_price = df.groupby('house_type')['purchase_price'].mean()\n",
    "house_type_price"
   ]
  },
  {
   "cell_type": "code",
   "metadata": {},
   "source": [
    "# Proximity measure between no_rooms and purchase_price\n",
    "rooms_price = df.groupby('no_rooms')['purchase_price'].mean()\n",
    "rooms_price"
   ]
  },
  {
   "cell_type": "markdown",
   "metadata": {},
   "source": [
    "### Explanation: Proximity measures help in understanding the relationship between different attributes. For example, the average square meters and purchase price for each house type can provide insights into the market trends."
   ]
  },
  {
   "cell_type": "markdown",
   "metadata": {},
   "source": [
    "## Feature Selection"
   ]
  },
  {
   "cell_type": "code",
   "metadata": {},
   "source": [
    "# Feature selection using filter methods\n",
    "from sklearn.feature_selection import SelectKBest, f_regression, mutual_info_regression\n",
    "\n",
    "# Define independent variables and target variable\n",
    "X = df.drop(columns=['purchase_price'])\n",
    "y = df['purchase_price']\n",
    "\n",
    "# Apply SelectKBest with f_regression\n",
    "kbest_f = SelectKBest(score_func=f_regression, k=5)\n",
    "kbest_f.fit(X, y)\n",
    "features_f = X.columns[kbest_f.get_support()]\n",
    "features_f"
   ]
  },
  {
   "cell_type": "code",
   "metadata": {},
   "source": [
    "# Apply SelectKBest with mutual_info_regression\n",
    "kbest_mi = SelectKBest(score_func=mutual_info_regression, k=5)\n",
    "kbest_mi.fit(X, y)\n",
    "features_mi = X.columns[kbest_mi.get_support()]\n",
    "features_mi"
   ]
  },
  {
   "cell_type": "code",
   "metadata": {},
   "source": [
    "# Apply correlation method\n",
    "correlation = df.corr()\n",
    "correlation_target = abs(correlation['purchase_price'])\n",
    "relevant_features = correlation_target[correlation_target > 0.5]\n",
    "relevant_features"
   ]
  },
  {
   "cell_type": "markdown",
   "metadata": {},
   "source": [
    "### Explanation: Feature selection is performed to identify the most relevant features for predicting the target variable. We use different filter methods such as f_regression, mutual_info_regression, and correlation to select the top features."
   ]
  },
  {
   "cell_type": "markdown",
   "metadata": {},
   "source": [
    "## Correlation Plot"
   ]
  },
  {
   "cell_type": "code",
   "metadata": {},
   "source": [
    "# Plot correlation between independent features and target variable\n",
    "plt.figure(figsize=(12, 8))\n",
    "sns.heatmap(df.corr(), annot=True, cmap='coolwarm')\n",
    "plt.title('Correlation Plot')\n",
    "plt.show()"
   ]
  },
  {
   "cell_type": "markdown",
   "metadata": {},
   "source": [
    "### Explanation: Correlation plot helps in visualizing the relationship between different features and the target variable. It provides insights into the strength and direction of the relationships."
   ]
  },
  {
   "cell_type": "markdown",
   "metadata": {},
   "source": [
    "## Visualizations and Other Plots for Analysis and Data Preprocessing"
   ]
  },
  {
   "cell_type": "code",
   "metadata": {},
   "source": [
    "# Distribution of purchase prices\n",
    "plt.figure(figsize=(10, 6))\n",
    "sns.histplot(df['purchase_price'], bins=30, kde=True)\n",
    "plt.title('Distribution of Purchase Prices')\n",
    "plt.xlabel('Purchase Price')\n",
    "plt.ylabel('Frequency')\n",
    "plt.show()"
   ]
  },
  {
   "cell_type": "code",
   "metadata": {},
   "source": [
    "# Boxplot of purchase prices by house type\n",
    "plt.figure(figsize=(12, 6))\n",
    "sns.boxplot(x='house_type', y='purchase_price', data=df)\n",
    "plt.title('Boxplot of Purchase Prices by House Type')\n",
    "plt.xlabel('House Type')\n",
    "plt.ylabel('Purchase Price')\n",
    "plt.show()"
   ]
  },
  {
   "cell_type": "code",
   "metadata": {},
   "source": [
    "# Scatter plot of sqm vs purchase price\n",
    "plt.figure(figsize=(10, 6))\n",
    "sns.scatterplot(x='sqm', y='purchase_price', data=df)\n",
    "plt.title('Scatter Plot of SQM vs Purchase Price')\n",
    "plt.xlabel('SQM')\n",
    "plt.ylabel('Purchase Price')\n",
    "plt.show()"
   ]
  },
  {
   "cell_type": "markdown",
   "metadata": {},
   "source": [
    "### Explanation: Visualizations such as histograms, boxplots, and scatter plots help in understanding the distribution and relationships of different attributes in the dataset. They provide valuable insights for data preprocessing and analysis."
   ]
  },
  {
   "cell_type": "markdown",
   "metadata": {},
   "source": [
    "## Handling Outliers"
   ]
  },
  {
   "cell_type": "code",
   "metadata": {},
   "source": [
    "# Handling outliers using z-score approach\n",
    "from scipy.stats import zscore\n",
    "\n",
    "# Calculate z-scores for numeric columns\n",
    "z_scores = np.abs(zscore(df[numeric_cols]))\n",
    "\n",
    "# Set a threshold for z-scores\n",
    "threshold = 3\n",
    "\n",
    "# Identify outliers\n",
    "outliers = np.where(z_scores > threshold)\n",
    "\n",
    "# Remove outliers\n",
    "df_cleaned = df[(z_scores < threshold).all(axis=1)]\n",
    "df_cleaned.shape"
   ]
  },
  {
   "cell_type": "markdown",
   "metadata": {},
   "source": [
    "### Explanation: Z-score approach is preferred for handling outliers because it standardizes the data and identifies outliers based on the number of standard deviations from the mean. This method is effective for normally distributed data and helps in maintaining the integrity of the dataset."
   ]
  },
  {
   "cell_type": "markdown",
   "metadata": {},
   "source": [
    "## Techniques Used in Feature Engineering"
   ]
  },
  {
   "cell_type": "markdown",
   "metadata": {},
   "source": [
    "- Identification of attribute types\n",
    "- Handling missing data using imputation\n",
    "- Normalization of numeric attributes\n",
    "- Analysis of most expensive cities and cities with maximum unique zip codes\n",
    "- Proximity measures between specified columns\n",
    "- Feature selection using filter methods (f_regression, mutual_info_regression, correlation)\n",
    "- Correlation plot\n",
    "- Visualizations (histograms, boxplots, scatter plots)\n",
    "- Handling outliers using z-score approach"
   ]
  }
 ],
 "metadata": {
  "kernelspec": {
   "display_name": "Python 3",
   "language": "python",
   "name": "python3"
  },
  "language_info": {
   "codemirror_mode": {
    "name": "ipython",
    "version": 3
   },
   "file_extension": ".py",
   "mimetype": "text/x-python",
   "name": "python",
   "nbconvert_exporter": "python",
   "pygments_lexer": "ipython3",
   "version": "3.8.5"
  }
 },
 "nbformat": 4,
 "nbformat_minor": 4
}
