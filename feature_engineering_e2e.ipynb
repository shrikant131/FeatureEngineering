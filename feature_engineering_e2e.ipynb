{
  "cells": [
    {
      "cell_type": "markdown",
      "metadata": {
        "id": "view-in-github",
        "colab_type": "text"
      },
      "source": [
        "<a href=\"https://colab.research.google.com/github/shrikant131/FeatureEngineering/blob/e2e-feature-engineering/feature_engineering_e2e.ipynb\" target=\"_parent\"><img src=\"https://colab.research.google.com/assets/colab-badge.svg\" alt=\"Open In Colab\"/></a>"
      ]
    },
    {
      "cell_type": "markdown",
      "metadata": {
        "button": false,
        "new_sheet": false,
        "run_control": {
          "read_only": false
        },
        "id": "togf6zQdJeoR"
      },
      "source": [
        "\n",
        "<h1 align=center><font size = 5>FEATURE ENGINEERING End-to End PROJECT (30M) </font></h1>\n",
        "<h2 align=center><font size = 5>AIML Certification Programme</font></h2>"
      ]
    },
    {
      "cell_type": "markdown",
      "metadata": {
        "id": "CLhxaOt3JeoZ"
      },
      "source": [
        "\n",
        "\n",
        "## Student Name and ID:\n",
        "Mention your name and ID if done individually<br>\n",
        "If done as a group,clearly mention the contribution from each group member qualitatively and as a precentage.<br>\n",
        "1.                          \n",
        "\n",
        "2.\n"
      ]
    },
    {
      "cell_type": "markdown",
      "metadata": {
        "id": "PC38ipweJeob"
      },
      "source": [
        "## Business Understanding (1M)\n",
        "\n",
        "Students are expected to identify a regression problem of your choice. You have to detail the Business Understanding part of your problem under this heading which basically addresses the following questions.\n",
        "\n",
        "   1. What is the business problem that you are trying to solve?\n",
        "   2. What data do you need to answer the above problem?What are the different sources of data?\n",
        "   "
      ]
    },
    {
      "cell_type": "markdown",
      "metadata": {
        "button": false,
        "new_sheet": false,
        "run_control": {
          "read_only": false
        },
        "id": "yFCyc9IFJeoe"
      },
      "source": [
        "## Data Requirements and Data Collection (3+1M)<a id=\"0\"></a>"
      ]
    },
    {
      "cell_type": "markdown",
      "metadata": {
        "button": false,
        "new_sheet": false,
        "run_control": {
          "read_only": false
        },
        "id": "ntf3D7ESJeog"
      },
      "source": [
        "<img src=\"https://s3-api.us-geo.objectstorage.softlayer.net/cf-courses-data/CognitiveClass/DS0103EN/labs/images/lab2_fig1_flowchart_data_requirements.png\" width=500>"
      ]
    },
    {
      "cell_type": "markdown",
      "metadata": {
        "button": false,
        "new_sheet": false,
        "run_control": {
          "read_only": false
        },
        "id": "RA2A4DA4Jeoh"
      },
      "source": [
        "In the initial data collection stage, data scientists identify and gather the available data resources. These can be in the form of structured, unstructured, and even semi-structured data relevant to the problem domain.\n",
        "\n",
        "Identify the required data that fulfills the data requirements stage of the data science methodology <br>\n",
        "<b> Mention the source of the data.(Give the link if you have sourced it from any public data set)\n",
        "Briefly explain the data set identified .</b>"
      ]
    },
    {
      "cell_type": "markdown",
      "source": [
        "https://www.kaggle.com/api/v1/datasets/download/muhammadshahidazeem/customer-churn-dataset?dataset_version_number=1\n"
      ],
      "metadata": {
        "id": "6XBri700SJrf"
      }
    },
    {
      "cell_type": "code",
      "execution_count": 49,
      "metadata": {
        "id": "ykYC2Y8iJeoi"
      },
      "outputs": [],
      "source": [
        "# Import necessary libraries\n",
        "import pandas as pd\n",
        "import numpy as np\n",
        "import seaborn as sns\n",
        "import matplotlib.pyplot as plt\n",
        "from sklearn.impute import KNNImputer\n",
        "from sklearn.preprocessing import MinMaxScaler, StandardScaler, OneHotEncoder\n",
        "from sklearn.metrics import pairwise_distances\n",
        "from sklearn.feature_selection import SelectKBest, f_regression, mutual_info_regression, RFE\n",
        "from sklearn.linear_model import LinearRegression, Ridge, Lasso, ElasticNet\n",
        "from sklearn.tree import DecisionTreeRegressor\n",
        "from sklearn.ensemble import RandomForestRegressor, GradientBoostingRegressor\n",
        "from sklearn.svm import SVR\n",
        "from sklearn.neighbors import KNeighborsRegressor\n",
        "from sklearn.model_selection import train_test_split, cross_val_score\n",
        "from sklearn.metrics import mean_squared_error, r2_score\n",
        "import kagglehub"
      ]
    },
    {
      "cell_type": "markdown",
      "metadata": {
        "id": "qiRtD47PJeol"
      },
      "source": [
        " Import the above data and read it into a data frame"
      ]
    },
    {
      "cell_type": "code",
      "execution_count": 50,
      "metadata": {
        "button": false,
        "new_sheet": false,
        "run_control": {
          "read_only": false
        },
        "id": "QNvsGrbAJeoq",
        "outputId": "ee0f7787-dc2e-40f4-afe8-2855ff9d5084",
        "colab": {
          "base_uri": "https://localhost:8080/",
          "height": 243
        }
      },
      "outputs": [
        {
          "output_type": "execute_result",
          "data": {
            "text/plain": [
              "   CustomerID   Age  Gender  Tenure  Usage Frequency  Support Calls  \\\n",
              "0         2.0  30.0  Female    39.0             14.0            5.0   \n",
              "1         3.0  65.0  Female    49.0              1.0           10.0   \n",
              "2         4.0  55.0  Female    14.0              4.0            6.0   \n",
              "3         5.0  58.0    Male    38.0             21.0            7.0   \n",
              "4         6.0  23.0    Male    32.0             20.0            5.0   \n",
              "\n",
              "   Payment Delay Subscription Type Contract Length  Total Spend  \\\n",
              "0           18.0          Standard          Annual        932.0   \n",
              "1            8.0             Basic         Monthly        557.0   \n",
              "2           18.0             Basic       Quarterly        185.0   \n",
              "3            7.0          Standard         Monthly        396.0   \n",
              "4            8.0             Basic         Monthly        617.0   \n",
              "\n",
              "   Last Interaction  Churn  \n",
              "0              17.0    1.0  \n",
              "1               6.0    1.0  \n",
              "2               3.0    1.0  \n",
              "3              29.0    1.0  \n",
              "4              20.0    1.0  "
            ],
            "text/html": [
              "\n",
              "  <div id=\"df-6eee4eec-89a0-421e-98b2-9360ab84950f\" class=\"colab-df-container\">\n",
              "    <div>\n",
              "<style scoped>\n",
              "    .dataframe tbody tr th:only-of-type {\n",
              "        vertical-align: middle;\n",
              "    }\n",
              "\n",
              "    .dataframe tbody tr th {\n",
              "        vertical-align: top;\n",
              "    }\n",
              "\n",
              "    .dataframe thead th {\n",
              "        text-align: right;\n",
              "    }\n",
              "</style>\n",
              "<table border=\"1\" class=\"dataframe\">\n",
              "  <thead>\n",
              "    <tr style=\"text-align: right;\">\n",
              "      <th></th>\n",
              "      <th>CustomerID</th>\n",
              "      <th>Age</th>\n",
              "      <th>Gender</th>\n",
              "      <th>Tenure</th>\n",
              "      <th>Usage Frequency</th>\n",
              "      <th>Support Calls</th>\n",
              "      <th>Payment Delay</th>\n",
              "      <th>Subscription Type</th>\n",
              "      <th>Contract Length</th>\n",
              "      <th>Total Spend</th>\n",
              "      <th>Last Interaction</th>\n",
              "      <th>Churn</th>\n",
              "    </tr>\n",
              "  </thead>\n",
              "  <tbody>\n",
              "    <tr>\n",
              "      <th>0</th>\n",
              "      <td>2.0</td>\n",
              "      <td>30.0</td>\n",
              "      <td>Female</td>\n",
              "      <td>39.0</td>\n",
              "      <td>14.0</td>\n",
              "      <td>5.0</td>\n",
              "      <td>18.0</td>\n",
              "      <td>Standard</td>\n",
              "      <td>Annual</td>\n",
              "      <td>932.0</td>\n",
              "      <td>17.0</td>\n",
              "      <td>1.0</td>\n",
              "    </tr>\n",
              "    <tr>\n",
              "      <th>1</th>\n",
              "      <td>3.0</td>\n",
              "      <td>65.0</td>\n",
              "      <td>Female</td>\n",
              "      <td>49.0</td>\n",
              "      <td>1.0</td>\n",
              "      <td>10.0</td>\n",
              "      <td>8.0</td>\n",
              "      <td>Basic</td>\n",
              "      <td>Monthly</td>\n",
              "      <td>557.0</td>\n",
              "      <td>6.0</td>\n",
              "      <td>1.0</td>\n",
              "    </tr>\n",
              "    <tr>\n",
              "      <th>2</th>\n",
              "      <td>4.0</td>\n",
              "      <td>55.0</td>\n",
              "      <td>Female</td>\n",
              "      <td>14.0</td>\n",
              "      <td>4.0</td>\n",
              "      <td>6.0</td>\n",
              "      <td>18.0</td>\n",
              "      <td>Basic</td>\n",
              "      <td>Quarterly</td>\n",
              "      <td>185.0</td>\n",
              "      <td>3.0</td>\n",
              "      <td>1.0</td>\n",
              "    </tr>\n",
              "    <tr>\n",
              "      <th>3</th>\n",
              "      <td>5.0</td>\n",
              "      <td>58.0</td>\n",
              "      <td>Male</td>\n",
              "      <td>38.0</td>\n",
              "      <td>21.0</td>\n",
              "      <td>7.0</td>\n",
              "      <td>7.0</td>\n",
              "      <td>Standard</td>\n",
              "      <td>Monthly</td>\n",
              "      <td>396.0</td>\n",
              "      <td>29.0</td>\n",
              "      <td>1.0</td>\n",
              "    </tr>\n",
              "    <tr>\n",
              "      <th>4</th>\n",
              "      <td>6.0</td>\n",
              "      <td>23.0</td>\n",
              "      <td>Male</td>\n",
              "      <td>32.0</td>\n",
              "      <td>20.0</td>\n",
              "      <td>5.0</td>\n",
              "      <td>8.0</td>\n",
              "      <td>Basic</td>\n",
              "      <td>Monthly</td>\n",
              "      <td>617.0</td>\n",
              "      <td>20.0</td>\n",
              "      <td>1.0</td>\n",
              "    </tr>\n",
              "  </tbody>\n",
              "</table>\n",
              "</div>\n",
              "    <div class=\"colab-df-buttons\">\n",
              "\n",
              "  <div class=\"colab-df-container\">\n",
              "    <button class=\"colab-df-convert\" onclick=\"convertToInteractive('df-6eee4eec-89a0-421e-98b2-9360ab84950f')\"\n",
              "            title=\"Convert this dataframe to an interactive table.\"\n",
              "            style=\"display:none;\">\n",
              "\n",
              "  <svg xmlns=\"http://www.w3.org/2000/svg\" height=\"24px\" viewBox=\"0 -960 960 960\">\n",
              "    <path d=\"M120-120v-720h720v720H120Zm60-500h600v-160H180v160Zm220 220h160v-160H400v160Zm0 220h160v-160H400v160ZM180-400h160v-160H180v160Zm440 0h160v-160H620v160ZM180-180h160v-160H180v160Zm440 0h160v-160H620v160Z\"/>\n",
              "  </svg>\n",
              "    </button>\n",
              "\n",
              "  <style>\n",
              "    .colab-df-container {\n",
              "      display:flex;\n",
              "      gap: 12px;\n",
              "    }\n",
              "\n",
              "    .colab-df-convert {\n",
              "      background-color: #E8F0FE;\n",
              "      border: none;\n",
              "      border-radius: 50%;\n",
              "      cursor: pointer;\n",
              "      display: none;\n",
              "      fill: #1967D2;\n",
              "      height: 32px;\n",
              "      padding: 0 0 0 0;\n",
              "      width: 32px;\n",
              "    }\n",
              "\n",
              "    .colab-df-convert:hover {\n",
              "      background-color: #E2EBFA;\n",
              "      box-shadow: 0px 1px 2px rgba(60, 64, 67, 0.3), 0px 1px 3px 1px rgba(60, 64, 67, 0.15);\n",
              "      fill: #174EA6;\n",
              "    }\n",
              "\n",
              "    .colab-df-buttons div {\n",
              "      margin-bottom: 4px;\n",
              "    }\n",
              "\n",
              "    [theme=dark] .colab-df-convert {\n",
              "      background-color: #3B4455;\n",
              "      fill: #D2E3FC;\n",
              "    }\n",
              "\n",
              "    [theme=dark] .colab-df-convert:hover {\n",
              "      background-color: #434B5C;\n",
              "      box-shadow: 0px 1px 3px 1px rgba(0, 0, 0, 0.15);\n",
              "      filter: drop-shadow(0px 1px 2px rgba(0, 0, 0, 0.3));\n",
              "      fill: #FFFFFF;\n",
              "    }\n",
              "  </style>\n",
              "\n",
              "    <script>\n",
              "      const buttonEl =\n",
              "        document.querySelector('#df-6eee4eec-89a0-421e-98b2-9360ab84950f button.colab-df-convert');\n",
              "      buttonEl.style.display =\n",
              "        google.colab.kernel.accessAllowed ? 'block' : 'none';\n",
              "\n",
              "      async function convertToInteractive(key) {\n",
              "        const element = document.querySelector('#df-6eee4eec-89a0-421e-98b2-9360ab84950f');\n",
              "        const dataTable =\n",
              "          await google.colab.kernel.invokeFunction('convertToInteractive',\n",
              "                                                    [key], {});\n",
              "        if (!dataTable) return;\n",
              "\n",
              "        const docLinkHtml = 'Like what you see? Visit the ' +\n",
              "          '<a target=\"_blank\" href=https://colab.research.google.com/notebooks/data_table.ipynb>data table notebook</a>'\n",
              "          + ' to learn more about interactive tables.';\n",
              "        element.innerHTML = '';\n",
              "        dataTable['output_type'] = 'display_data';\n",
              "        await google.colab.output.renderOutput(dataTable, element);\n",
              "        const docLink = document.createElement('div');\n",
              "        docLink.innerHTML = docLinkHtml;\n",
              "        element.appendChild(docLink);\n",
              "      }\n",
              "    </script>\n",
              "  </div>\n",
              "\n",
              "\n",
              "<div id=\"df-6c26dd6b-fd0b-438c-b9a1-43743d87f8f6\">\n",
              "  <button class=\"colab-df-quickchart\" onclick=\"quickchart('df-6c26dd6b-fd0b-438c-b9a1-43743d87f8f6')\"\n",
              "            title=\"Suggest charts\"\n",
              "            style=\"display:none;\">\n",
              "\n",
              "<svg xmlns=\"http://www.w3.org/2000/svg\" height=\"24px\"viewBox=\"0 0 24 24\"\n",
              "     width=\"24px\">\n",
              "    <g>\n",
              "        <path d=\"M19 3H5c-1.1 0-2 .9-2 2v14c0 1.1.9 2 2 2h14c1.1 0 2-.9 2-2V5c0-1.1-.9-2-2-2zM9 17H7v-7h2v7zm4 0h-2V7h2v10zm4 0h-2v-4h2v4z\"/>\n",
              "    </g>\n",
              "</svg>\n",
              "  </button>\n",
              "\n",
              "<style>\n",
              "  .colab-df-quickchart {\n",
              "      --bg-color: #E8F0FE;\n",
              "      --fill-color: #1967D2;\n",
              "      --hover-bg-color: #E2EBFA;\n",
              "      --hover-fill-color: #174EA6;\n",
              "      --disabled-fill-color: #AAA;\n",
              "      --disabled-bg-color: #DDD;\n",
              "  }\n",
              "\n",
              "  [theme=dark] .colab-df-quickchart {\n",
              "      --bg-color: #3B4455;\n",
              "      --fill-color: #D2E3FC;\n",
              "      --hover-bg-color: #434B5C;\n",
              "      --hover-fill-color: #FFFFFF;\n",
              "      --disabled-bg-color: #3B4455;\n",
              "      --disabled-fill-color: #666;\n",
              "  }\n",
              "\n",
              "  .colab-df-quickchart {\n",
              "    background-color: var(--bg-color);\n",
              "    border: none;\n",
              "    border-radius: 50%;\n",
              "    cursor: pointer;\n",
              "    display: none;\n",
              "    fill: var(--fill-color);\n",
              "    height: 32px;\n",
              "    padding: 0;\n",
              "    width: 32px;\n",
              "  }\n",
              "\n",
              "  .colab-df-quickchart:hover {\n",
              "    background-color: var(--hover-bg-color);\n",
              "    box-shadow: 0 1px 2px rgba(60, 64, 67, 0.3), 0 1px 3px 1px rgba(60, 64, 67, 0.15);\n",
              "    fill: var(--button-hover-fill-color);\n",
              "  }\n",
              "\n",
              "  .colab-df-quickchart-complete:disabled,\n",
              "  .colab-df-quickchart-complete:disabled:hover {\n",
              "    background-color: var(--disabled-bg-color);\n",
              "    fill: var(--disabled-fill-color);\n",
              "    box-shadow: none;\n",
              "  }\n",
              "\n",
              "  .colab-df-spinner {\n",
              "    border: 2px solid var(--fill-color);\n",
              "    border-color: transparent;\n",
              "    border-bottom-color: var(--fill-color);\n",
              "    animation:\n",
              "      spin 1s steps(1) infinite;\n",
              "  }\n",
              "\n",
              "  @keyframes spin {\n",
              "    0% {\n",
              "      border-color: transparent;\n",
              "      border-bottom-color: var(--fill-color);\n",
              "      border-left-color: var(--fill-color);\n",
              "    }\n",
              "    20% {\n",
              "      border-color: transparent;\n",
              "      border-left-color: var(--fill-color);\n",
              "      border-top-color: var(--fill-color);\n",
              "    }\n",
              "    30% {\n",
              "      border-color: transparent;\n",
              "      border-left-color: var(--fill-color);\n",
              "      border-top-color: var(--fill-color);\n",
              "      border-right-color: var(--fill-color);\n",
              "    }\n",
              "    40% {\n",
              "      border-color: transparent;\n",
              "      border-right-color: var(--fill-color);\n",
              "      border-top-color: var(--fill-color);\n",
              "    }\n",
              "    60% {\n",
              "      border-color: transparent;\n",
              "      border-right-color: var(--fill-color);\n",
              "    }\n",
              "    80% {\n",
              "      border-color: transparent;\n",
              "      border-right-color: var(--fill-color);\n",
              "      border-bottom-color: var(--fill-color);\n",
              "    }\n",
              "    90% {\n",
              "      border-color: transparent;\n",
              "      border-bottom-color: var(--fill-color);\n",
              "    }\n",
              "  }\n",
              "</style>\n",
              "\n",
              "  <script>\n",
              "    async function quickchart(key) {\n",
              "      const quickchartButtonEl =\n",
              "        document.querySelector('#' + key + ' button');\n",
              "      quickchartButtonEl.disabled = true;  // To prevent multiple clicks.\n",
              "      quickchartButtonEl.classList.add('colab-df-spinner');\n",
              "      try {\n",
              "        const charts = await google.colab.kernel.invokeFunction(\n",
              "            'suggestCharts', [key], {});\n",
              "      } catch (error) {\n",
              "        console.error('Error during call to suggestCharts:', error);\n",
              "      }\n",
              "      quickchartButtonEl.classList.remove('colab-df-spinner');\n",
              "      quickchartButtonEl.classList.add('colab-df-quickchart-complete');\n",
              "    }\n",
              "    (() => {\n",
              "      let quickchartButtonEl =\n",
              "        document.querySelector('#df-6c26dd6b-fd0b-438c-b9a1-43743d87f8f6 button');\n",
              "      quickchartButtonEl.style.display =\n",
              "        google.colab.kernel.accessAllowed ? 'block' : 'none';\n",
              "    })();\n",
              "  </script>\n",
              "</div>\n",
              "\n",
              "    </div>\n",
              "  </div>\n"
            ],
            "application/vnd.google.colaboratory.intrinsic+json": {
              "type": "dataframe",
              "variable_name": "df"
            }
          },
          "metadata": {},
          "execution_count": 50
        }
      ],
      "source": [
        "# Load the dataset\n",
        "df = pd.read_csv('customer_churn.csv')\n",
        "\n",
        "# Display the first few rows of the dataset\n",
        "df.head()"
      ]
    },
    {
      "cell_type": "markdown",
      "metadata": {
        "button": false,
        "new_sheet": false,
        "run_control": {
          "read_only": false
        },
        "id": "aSV_me0kJeor"
      },
      "source": [
        "Confirm the data has been correctly by displaying the first 5 and last 5 records."
      ]
    },
    {
      "cell_type": "code",
      "execution_count": 51,
      "metadata": {
        "button": false,
        "new_sheet": false,
        "run_control": {
          "read_only": false
        },
        "id": "q0BkSE6zJeor",
        "outputId": "4ebd88c9-e4b0-404d-9683-cfe0e2ab479f",
        "colab": {
          "base_uri": "https://localhost:8080/"
        }
      },
      "outputs": [
        {
          "output_type": "execute_result",
          "data": {
            "text/plain": [
              "(   CustomerID   Age  Gender  Tenure  Usage Frequency  Support Calls  \\\n",
              " 0         2.0  30.0  Female    39.0             14.0            5.0   \n",
              " 1         3.0  65.0  Female    49.0              1.0           10.0   \n",
              " 2         4.0  55.0  Female    14.0              4.0            6.0   \n",
              " 3         5.0  58.0    Male    38.0             21.0            7.0   \n",
              " 4         6.0  23.0    Male    32.0             20.0            5.0   \n",
              " \n",
              "    Payment Delay Subscription Type Contract Length  Total Spend  \\\n",
              " 0           18.0          Standard          Annual        932.0   \n",
              " 1            8.0             Basic         Monthly        557.0   \n",
              " 2           18.0             Basic       Quarterly        185.0   \n",
              " 3            7.0          Standard         Monthly        396.0   \n",
              " 4            8.0             Basic         Monthly        617.0   \n",
              " \n",
              "    Last Interaction  Churn  \n",
              " 0              17.0    1.0  \n",
              " 1               6.0    1.0  \n",
              " 2               3.0    1.0  \n",
              " 3              29.0    1.0  \n",
              " 4              20.0    1.0  ,\n",
              "         CustomerID   Age  Gender  Tenure  Usage Frequency  Support Calls  \\\n",
              " 440828    449995.0  42.0    Male    54.0             15.0            1.0   \n",
              " 440829    449996.0  25.0  Female     8.0             13.0            1.0   \n",
              " 440830    449997.0  26.0    Male    35.0             27.0            1.0   \n",
              " 440831    449998.0  28.0    Male    55.0             14.0            2.0   \n",
              " 440832    449999.0  31.0    Male    48.0             20.0            1.0   \n",
              " \n",
              "         Payment Delay Subscription Type Contract Length  Total Spend  \\\n",
              " 440828            3.0           Premium          Annual       716.38   \n",
              " 440829           20.0           Premium          Annual       745.38   \n",
              " 440830            5.0          Standard       Quarterly       977.31   \n",
              " 440831            0.0          Standard       Quarterly       602.55   \n",
              " 440832           14.0           Premium       Quarterly       567.77   \n",
              " \n",
              "         Last Interaction  Churn  \n",
              " 440828               8.0    0.0  \n",
              " 440829               2.0    0.0  \n",
              " 440830               9.0    0.0  \n",
              " 440831               2.0    0.0  \n",
              " 440832              21.0    0.0  )"
            ]
          },
          "metadata": {},
          "execution_count": 51
        }
      ],
      "source": [
        "# Display the first 5 and last 5 records\n",
        "df.head(), df.tail()"
      ]
    },
    {
      "cell_type": "markdown",
      "metadata": {
        "button": false,
        "new_sheet": false,
        "run_control": {
          "read_only": false
        },
        "id": "t0g3GmsDJeow"
      },
      "source": [
        "Get the dimensions of the dataframe."
      ]
    },
    {
      "cell_type": "code",
      "execution_count": 52,
      "metadata": {
        "id": "dEeqq9iJJeox",
        "outputId": "6deffe69-dd96-4091-b474-5cc4acfc4000",
        "colab": {
          "base_uri": "https://localhost:8080/"
        }
      },
      "outputs": [
        {
          "output_type": "execute_result",
          "data": {
            "text/plain": [
              "(440833, 12)"
            ]
          },
          "metadata": {},
          "execution_count": 52
        }
      ],
      "source": [
        "# Get the dimensions of the dataframe\n",
        "df.shape"
      ]
    },
    {
      "cell_type": "markdown",
      "metadata": {
        "button": false,
        "collapsed": true,
        "new_sheet": false,
        "run_control": {
          "read_only": false
        },
        "id": "SaPdca6QJeoy"
      },
      "source": [
        "Display the description and statistical summary of the data."
      ]
    },
    {
      "cell_type": "code",
      "execution_count": 53,
      "metadata": {
        "id": "HMkJBzuNJeoz",
        "outputId": "898a4b67-6fd6-4bc7-a603-7c9ddf1597e1",
        "colab": {
          "base_uri": "https://localhost:8080/",
          "height": 337
        }
      },
      "outputs": [
        {
          "output_type": "execute_result",
          "data": {
            "text/plain": [
              "          CustomerID            Age         Tenure  Usage Frequency  \\\n",
              "count  440832.000000  440832.000000  440832.000000    440832.000000   \n",
              "mean   225398.667955      39.373153      31.256336        15.807494   \n",
              "std    129531.918550      12.442369      17.255727         8.586242   \n",
              "min         2.000000      18.000000       1.000000         1.000000   \n",
              "25%    113621.750000      29.000000      16.000000         9.000000   \n",
              "50%    226125.500000      39.000000      32.000000        16.000000   \n",
              "75%    337739.250000      48.000000      46.000000        23.000000   \n",
              "max    449999.000000      65.000000      60.000000        30.000000   \n",
              "\n",
              "       Support Calls  Payment Delay    Total Spend  Last Interaction  \\\n",
              "count  440832.000000  440832.000000  440832.000000     440832.000000   \n",
              "mean        3.604437      12.965722     631.616223         14.480868   \n",
              "std         3.070218       8.258063     240.803001          8.596208   \n",
              "min         0.000000       0.000000     100.000000          1.000000   \n",
              "25%         1.000000       6.000000     480.000000          7.000000   \n",
              "50%         3.000000      12.000000     661.000000         14.000000   \n",
              "75%         6.000000      19.000000     830.000000         22.000000   \n",
              "max        10.000000      30.000000    1000.000000         30.000000   \n",
              "\n",
              "               Churn  \n",
              "count  440832.000000  \n",
              "mean        0.567107  \n",
              "std         0.495477  \n",
              "min         0.000000  \n",
              "25%         0.000000  \n",
              "50%         1.000000  \n",
              "75%         1.000000  \n",
              "max         1.000000  "
            ],
            "text/html": [
              "\n",
              "  <div id=\"df-5795ee5c-a77b-47ca-8679-67d817c110cf\" class=\"colab-df-container\">\n",
              "    <div>\n",
              "<style scoped>\n",
              "    .dataframe tbody tr th:only-of-type {\n",
              "        vertical-align: middle;\n",
              "    }\n",
              "\n",
              "    .dataframe tbody tr th {\n",
              "        vertical-align: top;\n",
              "    }\n",
              "\n",
              "    .dataframe thead th {\n",
              "        text-align: right;\n",
              "    }\n",
              "</style>\n",
              "<table border=\"1\" class=\"dataframe\">\n",
              "  <thead>\n",
              "    <tr style=\"text-align: right;\">\n",
              "      <th></th>\n",
              "      <th>CustomerID</th>\n",
              "      <th>Age</th>\n",
              "      <th>Tenure</th>\n",
              "      <th>Usage Frequency</th>\n",
              "      <th>Support Calls</th>\n",
              "      <th>Payment Delay</th>\n",
              "      <th>Total Spend</th>\n",
              "      <th>Last Interaction</th>\n",
              "      <th>Churn</th>\n",
              "    </tr>\n",
              "  </thead>\n",
              "  <tbody>\n",
              "    <tr>\n",
              "      <th>count</th>\n",
              "      <td>440832.000000</td>\n",
              "      <td>440832.000000</td>\n",
              "      <td>440832.000000</td>\n",
              "      <td>440832.000000</td>\n",
              "      <td>440832.000000</td>\n",
              "      <td>440832.000000</td>\n",
              "      <td>440832.000000</td>\n",
              "      <td>440832.000000</td>\n",
              "      <td>440832.000000</td>\n",
              "    </tr>\n",
              "    <tr>\n",
              "      <th>mean</th>\n",
              "      <td>225398.667955</td>\n",
              "      <td>39.373153</td>\n",
              "      <td>31.256336</td>\n",
              "      <td>15.807494</td>\n",
              "      <td>3.604437</td>\n",
              "      <td>12.965722</td>\n",
              "      <td>631.616223</td>\n",
              "      <td>14.480868</td>\n",
              "      <td>0.567107</td>\n",
              "    </tr>\n",
              "    <tr>\n",
              "      <th>std</th>\n",
              "      <td>129531.918550</td>\n",
              "      <td>12.442369</td>\n",
              "      <td>17.255727</td>\n",
              "      <td>8.586242</td>\n",
              "      <td>3.070218</td>\n",
              "      <td>8.258063</td>\n",
              "      <td>240.803001</td>\n",
              "      <td>8.596208</td>\n",
              "      <td>0.495477</td>\n",
              "    </tr>\n",
              "    <tr>\n",
              "      <th>min</th>\n",
              "      <td>2.000000</td>\n",
              "      <td>18.000000</td>\n",
              "      <td>1.000000</td>\n",
              "      <td>1.000000</td>\n",
              "      <td>0.000000</td>\n",
              "      <td>0.000000</td>\n",
              "      <td>100.000000</td>\n",
              "      <td>1.000000</td>\n",
              "      <td>0.000000</td>\n",
              "    </tr>\n",
              "    <tr>\n",
              "      <th>25%</th>\n",
              "      <td>113621.750000</td>\n",
              "      <td>29.000000</td>\n",
              "      <td>16.000000</td>\n",
              "      <td>9.000000</td>\n",
              "      <td>1.000000</td>\n",
              "      <td>6.000000</td>\n",
              "      <td>480.000000</td>\n",
              "      <td>7.000000</td>\n",
              "      <td>0.000000</td>\n",
              "    </tr>\n",
              "    <tr>\n",
              "      <th>50%</th>\n",
              "      <td>226125.500000</td>\n",
              "      <td>39.000000</td>\n",
              "      <td>32.000000</td>\n",
              "      <td>16.000000</td>\n",
              "      <td>3.000000</td>\n",
              "      <td>12.000000</td>\n",
              "      <td>661.000000</td>\n",
              "      <td>14.000000</td>\n",
              "      <td>1.000000</td>\n",
              "    </tr>\n",
              "    <tr>\n",
              "      <th>75%</th>\n",
              "      <td>337739.250000</td>\n",
              "      <td>48.000000</td>\n",
              "      <td>46.000000</td>\n",
              "      <td>23.000000</td>\n",
              "      <td>6.000000</td>\n",
              "      <td>19.000000</td>\n",
              "      <td>830.000000</td>\n",
              "      <td>22.000000</td>\n",
              "      <td>1.000000</td>\n",
              "    </tr>\n",
              "    <tr>\n",
              "      <th>max</th>\n",
              "      <td>449999.000000</td>\n",
              "      <td>65.000000</td>\n",
              "      <td>60.000000</td>\n",
              "      <td>30.000000</td>\n",
              "      <td>10.000000</td>\n",
              "      <td>30.000000</td>\n",
              "      <td>1000.000000</td>\n",
              "      <td>30.000000</td>\n",
              "      <td>1.000000</td>\n",
              "    </tr>\n",
              "  </tbody>\n",
              "</table>\n",
              "</div>\n",
              "    <div class=\"colab-df-buttons\">\n",
              "\n",
              "  <div class=\"colab-df-container\">\n",
              "    <button class=\"colab-df-convert\" onclick=\"convertToInteractive('df-5795ee5c-a77b-47ca-8679-67d817c110cf')\"\n",
              "            title=\"Convert this dataframe to an interactive table.\"\n",
              "            style=\"display:none;\">\n",
              "\n",
              "  <svg xmlns=\"http://www.w3.org/2000/svg\" height=\"24px\" viewBox=\"0 -960 960 960\">\n",
              "    <path d=\"M120-120v-720h720v720H120Zm60-500h600v-160H180v160Zm220 220h160v-160H400v160Zm0 220h160v-160H400v160ZM180-400h160v-160H180v160Zm440 0h160v-160H620v160ZM180-180h160v-160H180v160Zm440 0h160v-160H620v160Z\"/>\n",
              "  </svg>\n",
              "    </button>\n",
              "\n",
              "  <style>\n",
              "    .colab-df-container {\n",
              "      display:flex;\n",
              "      gap: 12px;\n",
              "    }\n",
              "\n",
              "    .colab-df-convert {\n",
              "      background-color: #E8F0FE;\n",
              "      border: none;\n",
              "      border-radius: 50%;\n",
              "      cursor: pointer;\n",
              "      display: none;\n",
              "      fill: #1967D2;\n",
              "      height: 32px;\n",
              "      padding: 0 0 0 0;\n",
              "      width: 32px;\n",
              "    }\n",
              "\n",
              "    .colab-df-convert:hover {\n",
              "      background-color: #E2EBFA;\n",
              "      box-shadow: 0px 1px 2px rgba(60, 64, 67, 0.3), 0px 1px 3px 1px rgba(60, 64, 67, 0.15);\n",
              "      fill: #174EA6;\n",
              "    }\n",
              "\n",
              "    .colab-df-buttons div {\n",
              "      margin-bottom: 4px;\n",
              "    }\n",
              "\n",
              "    [theme=dark] .colab-df-convert {\n",
              "      background-color: #3B4455;\n",
              "      fill: #D2E3FC;\n",
              "    }\n",
              "\n",
              "    [theme=dark] .colab-df-convert:hover {\n",
              "      background-color: #434B5C;\n",
              "      box-shadow: 0px 1px 3px 1px rgba(0, 0, 0, 0.15);\n",
              "      filter: drop-shadow(0px 1px 2px rgba(0, 0, 0, 0.3));\n",
              "      fill: #FFFFFF;\n",
              "    }\n",
              "  </style>\n",
              "\n",
              "    <script>\n",
              "      const buttonEl =\n",
              "        document.querySelector('#df-5795ee5c-a77b-47ca-8679-67d817c110cf button.colab-df-convert');\n",
              "      buttonEl.style.display =\n",
              "        google.colab.kernel.accessAllowed ? 'block' : 'none';\n",
              "\n",
              "      async function convertToInteractive(key) {\n",
              "        const element = document.querySelector('#df-5795ee5c-a77b-47ca-8679-67d817c110cf');\n",
              "        const dataTable =\n",
              "          await google.colab.kernel.invokeFunction('convertToInteractive',\n",
              "                                                    [key], {});\n",
              "        if (!dataTable) return;\n",
              "\n",
              "        const docLinkHtml = 'Like what you see? Visit the ' +\n",
              "          '<a target=\"_blank\" href=https://colab.research.google.com/notebooks/data_table.ipynb>data table notebook</a>'\n",
              "          + ' to learn more about interactive tables.';\n",
              "        element.innerHTML = '';\n",
              "        dataTable['output_type'] = 'display_data';\n",
              "        await google.colab.output.renderOutput(dataTable, element);\n",
              "        const docLink = document.createElement('div');\n",
              "        docLink.innerHTML = docLinkHtml;\n",
              "        element.appendChild(docLink);\n",
              "      }\n",
              "    </script>\n",
              "  </div>\n",
              "\n",
              "\n",
              "<div id=\"df-13525f2a-ac3e-49b0-9a39-b2fbfc6cc653\">\n",
              "  <button class=\"colab-df-quickchart\" onclick=\"quickchart('df-13525f2a-ac3e-49b0-9a39-b2fbfc6cc653')\"\n",
              "            title=\"Suggest charts\"\n",
              "            style=\"display:none;\">\n",
              "\n",
              "<svg xmlns=\"http://www.w3.org/2000/svg\" height=\"24px\"viewBox=\"0 0 24 24\"\n",
              "     width=\"24px\">\n",
              "    <g>\n",
              "        <path d=\"M19 3H5c-1.1 0-2 .9-2 2v14c0 1.1.9 2 2 2h14c1.1 0 2-.9 2-2V5c0-1.1-.9-2-2-2zM9 17H7v-7h2v7zm4 0h-2V7h2v10zm4 0h-2v-4h2v4z\"/>\n",
              "    </g>\n",
              "</svg>\n",
              "  </button>\n",
              "\n",
              "<style>\n",
              "  .colab-df-quickchart {\n",
              "      --bg-color: #E8F0FE;\n",
              "      --fill-color: #1967D2;\n",
              "      --hover-bg-color: #E2EBFA;\n",
              "      --hover-fill-color: #174EA6;\n",
              "      --disabled-fill-color: #AAA;\n",
              "      --disabled-bg-color: #DDD;\n",
              "  }\n",
              "\n",
              "  [theme=dark] .colab-df-quickchart {\n",
              "      --bg-color: #3B4455;\n",
              "      --fill-color: #D2E3FC;\n",
              "      --hover-bg-color: #434B5C;\n",
              "      --hover-fill-color: #FFFFFF;\n",
              "      --disabled-bg-color: #3B4455;\n",
              "      --disabled-fill-color: #666;\n",
              "  }\n",
              "\n",
              "  .colab-df-quickchart {\n",
              "    background-color: var(--bg-color);\n",
              "    border: none;\n",
              "    border-radius: 50%;\n",
              "    cursor: pointer;\n",
              "    display: none;\n",
              "    fill: var(--fill-color);\n",
              "    height: 32px;\n",
              "    padding: 0;\n",
              "    width: 32px;\n",
              "  }\n",
              "\n",
              "  .colab-df-quickchart:hover {\n",
              "    background-color: var(--hover-bg-color);\n",
              "    box-shadow: 0 1px 2px rgba(60, 64, 67, 0.3), 0 1px 3px 1px rgba(60, 64, 67, 0.15);\n",
              "    fill: var(--button-hover-fill-color);\n",
              "  }\n",
              "\n",
              "  .colab-df-quickchart-complete:disabled,\n",
              "  .colab-df-quickchart-complete:disabled:hover {\n",
              "    background-color: var(--disabled-bg-color);\n",
              "    fill: var(--disabled-fill-color);\n",
              "    box-shadow: none;\n",
              "  }\n",
              "\n",
              "  .colab-df-spinner {\n",
              "    border: 2px solid var(--fill-color);\n",
              "    border-color: transparent;\n",
              "    border-bottom-color: var(--fill-color);\n",
              "    animation:\n",
              "      spin 1s steps(1) infinite;\n",
              "  }\n",
              "\n",
              "  @keyframes spin {\n",
              "    0% {\n",
              "      border-color: transparent;\n",
              "      border-bottom-color: var(--fill-color);\n",
              "      border-left-color: var(--fill-color);\n",
              "    }\n",
              "    20% {\n",
              "      border-color: transparent;\n",
              "      border-left-color: var(--fill-color);\n",
              "      border-top-color: var(--fill-color);\n",
              "    }\n",
              "    30% {\n",
              "      border-color: transparent;\n",
              "      border-left-color: var(--fill-color);\n",
              "      border-top-color: var(--fill-color);\n",
              "      border-right-color: var(--fill-color);\n",
              "    }\n",
              "    40% {\n",
              "      border-color: transparent;\n",
              "      border-right-color: var(--fill-color);\n",
              "      border-top-color: var(--fill-color);\n",
              "    }\n",
              "    60% {\n",
              "      border-color: transparent;\n",
              "      border-right-color: var(--fill-color);\n",
              "    }\n",
              "    80% {\n",
              "      border-color: transparent;\n",
              "      border-right-color: var(--fill-color);\n",
              "      border-bottom-color: var(--fill-color);\n",
              "    }\n",
              "    90% {\n",
              "      border-color: transparent;\n",
              "      border-bottom-color: var(--fill-color);\n",
              "    }\n",
              "  }\n",
              "</style>\n",
              "\n",
              "  <script>\n",
              "    async function quickchart(key) {\n",
              "      const quickchartButtonEl =\n",
              "        document.querySelector('#' + key + ' button');\n",
              "      quickchartButtonEl.disabled = true;  // To prevent multiple clicks.\n",
              "      quickchartButtonEl.classList.add('colab-df-spinner');\n",
              "      try {\n",
              "        const charts = await google.colab.kernel.invokeFunction(\n",
              "            'suggestCharts', [key], {});\n",
              "      } catch (error) {\n",
              "        console.error('Error during call to suggestCharts:', error);\n",
              "      }\n",
              "      quickchartButtonEl.classList.remove('colab-df-spinner');\n",
              "      quickchartButtonEl.classList.add('colab-df-quickchart-complete');\n",
              "    }\n",
              "    (() => {\n",
              "      let quickchartButtonEl =\n",
              "        document.querySelector('#df-13525f2a-ac3e-49b0-9a39-b2fbfc6cc653 button');\n",
              "      quickchartButtonEl.style.display =\n",
              "        google.colab.kernel.accessAllowed ? 'block' : 'none';\n",
              "    })();\n",
              "  </script>\n",
              "</div>\n",
              "\n",
              "    </div>\n",
              "  </div>\n"
            ],
            "application/vnd.google.colaboratory.intrinsic+json": {
              "type": "dataframe",
              "summary": "{\n  \"name\": \"df\",\n  \"rows\": 8,\n  \"fields\": [\n    {\n      \"column\": \"CustomerID\",\n      \"properties\": {\n        \"dtype\": \"number\",\n        \"std\": 160429.83004457437,\n        \"min\": 2.0,\n        \"max\": 449999.0,\n        \"num_unique_values\": 8,\n        \"samples\": [\n          225398.66795513936,\n          226125.5,\n          440832.0\n        ],\n        \"semantic_type\": \"\",\n        \"description\": \"\"\n      }\n    },\n    {\n      \"column\": \"Age\",\n      \"properties\": {\n        \"dtype\": \"number\",\n        \"std\": 155844.98107109405,\n        \"min\": 12.442369490866385,\n        \"max\": 440832.0,\n        \"num_unique_values\": 8,\n        \"samples\": [\n          39.37315349157956,\n          39.0,\n          440832.0\n        ],\n        \"semantic_type\": \"\",\n        \"description\": \"\"\n      }\n    },\n    {\n      \"column\": \"Tenure\",\n      \"properties\": {\n        \"dtype\": \"number\",\n        \"std\": 155847.37044993733,\n        \"min\": 1.0,\n        \"max\": 440832.0,\n        \"num_unique_values\": 8,\n        \"samples\": [\n          31.25633574695122,\n          32.0,\n          440832.0\n        ],\n        \"semantic_type\": \"\",\n        \"description\": \"\"\n      }\n    },\n    {\n      \"column\": \"Usage Frequency\",\n      \"properties\": {\n        \"dtype\": \"number\",\n        \"std\": 155852.42636799914,\n        \"min\": 1.0,\n        \"max\": 440832.0,\n        \"num_unique_values\": 8,\n        \"samples\": [\n          15.80749355763647,\n          16.0,\n          440832.0\n        ],\n        \"semantic_type\": \"\",\n        \"description\": \"\"\n      }\n    },\n    {\n      \"column\": \"Support Calls\",\n      \"properties\": {\n        \"dtype\": \"number\",\n        \"std\": 155856.30103910927,\n        \"min\": 0.0,\n        \"max\": 440832.0,\n        \"num_unique_values\": 8,\n        \"samples\": [\n          3.6044366107723578,\n          3.0,\n          440832.0\n        ],\n        \"semantic_type\": \"\",\n        \"description\": \"\"\n      }\n    },\n    {\n      \"column\": \"Payment Delay\",\n      \"properties\": {\n        \"dtype\": \"number\",\n        \"std\": 155853.19256713171,\n        \"min\": 0.0,\n        \"max\": 440832.0,\n        \"num_unique_values\": 8,\n        \"samples\": [\n          12.965721635452962,\n          12.0,\n          440832.0\n        ],\n        \"semantic_type\": \"\",\n        \"description\": \"\"\n      }\n    },\n    {\n      \"column\": \"Total Spend\",\n      \"properties\": {\n        \"dtype\": \"number\",\n        \"std\": 155658.75161340856,\n        \"min\": 100.0,\n        \"max\": 440832.0,\n        \"num_unique_values\": 8,\n        \"samples\": [\n          631.6162227787456,\n          661.0,\n          440832.0\n        ],\n        \"semantic_type\": \"\",\n        \"description\": \"\"\n      }\n    },\n    {\n      \"column\": \"Last Interaction\",\n      \"properties\": {\n        \"dtype\": \"number\",\n        \"std\": 155852.74540926635,\n        \"min\": 1.0,\n        \"max\": 440832.0,\n        \"num_unique_values\": 8,\n        \"samples\": [\n          14.480867995063878,\n          14.0,\n          440832.0\n        ],\n        \"semantic_type\": \"\",\n        \"description\": \"\"\n      }\n    },\n    {\n      \"column\": \"Churn\",\n      \"properties\": {\n        \"dtype\": \"number\",\n        \"std\": 155857.44309109414,\n        \"min\": 0.0,\n        \"max\": 440832.0,\n        \"num_unique_values\": 5,\n        \"samples\": [\n          0.5671071972996515,\n          1.0,\n          0.4954767209121152\n        ],\n        \"semantic_type\": \"\",\n        \"description\": \"\"\n      }\n    }\n  ]\n}"
            }
          },
          "metadata": {},
          "execution_count": 53
        }
      ],
      "source": [
        "# Display the description and statistical summary of the data\n",
        "df.describe()"
      ]
    },
    {
      "cell_type": "markdown",
      "metadata": {
        "button": false,
        "new_sheet": false,
        "run_control": {
          "read_only": false
        },
        "id": "u7kOQ8bDJeo0"
      },
      "source": [
        "Display the columns and their respective data types."
      ]
    },
    {
      "cell_type": "code",
      "execution_count": 54,
      "metadata": {
        "id": "6_lylG9CJeo1",
        "outputId": "c57a23fa-7ba3-4dbf-95ce-ef4fc2ea3be3",
        "colab": {
          "base_uri": "https://localhost:8080/",
          "height": 460
        }
      },
      "outputs": [
        {
          "output_type": "execute_result",
          "data": {
            "text/plain": [
              "CustomerID           float64\n",
              "Age                  float64\n",
              "Gender                object\n",
              "Tenure               float64\n",
              "Usage Frequency      float64\n",
              "Support Calls        float64\n",
              "Payment Delay        float64\n",
              "Subscription Type     object\n",
              "Contract Length       object\n",
              "Total Spend          float64\n",
              "Last Interaction     float64\n",
              "Churn                float64\n",
              "dtype: object"
            ],
            "text/html": [
              "<div>\n",
              "<style scoped>\n",
              "    .dataframe tbody tr th:only-of-type {\n",
              "        vertical-align: middle;\n",
              "    }\n",
              "\n",
              "    .dataframe tbody tr th {\n",
              "        vertical-align: top;\n",
              "    }\n",
              "\n",
              "    .dataframe thead th {\n",
              "        text-align: right;\n",
              "    }\n",
              "</style>\n",
              "<table border=\"1\" class=\"dataframe\">\n",
              "  <thead>\n",
              "    <tr style=\"text-align: right;\">\n",
              "      <th></th>\n",
              "      <th>0</th>\n",
              "    </tr>\n",
              "  </thead>\n",
              "  <tbody>\n",
              "    <tr>\n",
              "      <th>CustomerID</th>\n",
              "      <td>float64</td>\n",
              "    </tr>\n",
              "    <tr>\n",
              "      <th>Age</th>\n",
              "      <td>float64</td>\n",
              "    </tr>\n",
              "    <tr>\n",
              "      <th>Gender</th>\n",
              "      <td>object</td>\n",
              "    </tr>\n",
              "    <tr>\n",
              "      <th>Tenure</th>\n",
              "      <td>float64</td>\n",
              "    </tr>\n",
              "    <tr>\n",
              "      <th>Usage Frequency</th>\n",
              "      <td>float64</td>\n",
              "    </tr>\n",
              "    <tr>\n",
              "      <th>Support Calls</th>\n",
              "      <td>float64</td>\n",
              "    </tr>\n",
              "    <tr>\n",
              "      <th>Payment Delay</th>\n",
              "      <td>float64</td>\n",
              "    </tr>\n",
              "    <tr>\n",
              "      <th>Subscription Type</th>\n",
              "      <td>object</td>\n",
              "    </tr>\n",
              "    <tr>\n",
              "      <th>Contract Length</th>\n",
              "      <td>object</td>\n",
              "    </tr>\n",
              "    <tr>\n",
              "      <th>Total Spend</th>\n",
              "      <td>float64</td>\n",
              "    </tr>\n",
              "    <tr>\n",
              "      <th>Last Interaction</th>\n",
              "      <td>float64</td>\n",
              "    </tr>\n",
              "    <tr>\n",
              "      <th>Churn</th>\n",
              "      <td>float64</td>\n",
              "    </tr>\n",
              "  </tbody>\n",
              "</table>\n",
              "</div><br><label><b>dtype:</b> object</label>"
            ]
          },
          "metadata": {},
          "execution_count": 54
        }
      ],
      "source": [
        "# Display the columns and their respective data types\n",
        "df.dtypes"
      ]
    },
    {
      "cell_type": "markdown",
      "metadata": {
        "id": "n-Q3nBtRJeo2"
      },
      "source": [
        "Convert the columns to appropriate data types"
      ]
    },
    {
      "cell_type": "code",
      "execution_count": 55,
      "metadata": {
        "id": "XljVyXELJeo2",
        "outputId": "1c19a7df-5e1f-42f1-91d4-4c8f13635165",
        "colab": {
          "base_uri": "https://localhost:8080/"
        }
      },
      "outputs": [
        {
          "output_type": "stream",
          "name": "stdout",
          "text": [
            "Column 'TotalCharges' not found in the DataFrame.\n",
            "Column 'SeniorCitizen' not found in the DataFrame.\n"
          ]
        }
      ],
      "source": [
        "# Convert the columns to appropriate data types\n",
        "# Check if 'TotalCharges' column exists in the DataFrame\n",
        "if 'TotalCharges' in df.columns:\n",
        "    df['TotalCharges'] = pd.to_numeric(df['TotalCharges'], errors='coerce')\n",
        "else:\n",
        "    print(\"Column 'TotalCharges' not found in the DataFrame.\")\n",
        "    #Handle this case appropriately\n",
        "\n",
        "# Check if 'SeniorCitizen' column exists before converting\n",
        "if 'SeniorCitizen' in df.columns:\n",
        "    df['SeniorCitizen'] = df['SeniorCitizen'].astype('category')\n",
        "else:\n",
        "    print(\"Column 'SeniorCitizen' not found in the DataFrame.\")\n",
        "    # Handle this case appropriately, e.g., create the column if needed.\n",
        "\n",
        "# Check if 'Churn' column exists before converting\n",
        "if 'Churn' in df.columns:\n",
        "    df['Churn'] = df['Churn'].astype('category')\n",
        "else:\n",
        "    print(\"Column 'Churn' not found in the DataFrame.\")\n",
        "    # Handle this case appropriately, e.g., create the column if needed."
      ]
    },
    {
      "cell_type": "markdown",
      "metadata": {
        "id": "7nGmp-eSJeo3"
      },
      "source": [
        "#### Write your observations from the above.\n"
      ]
    },
    {
      "cell_type": "code",
      "execution_count": 56,
      "metadata": {
        "id": "PtEZPdKLJeo8"
      },
      "outputs": [],
      "source": [
        "# Observations:\n",
        "# The dataset contains 21 columns, including the target variable 'Churn'.\n",
        "# The 'SeniorCitizen' and 'Churn' columns are categorical, while the rest are numerical.\n",
        "# There are missing values in the 'TotalCharges' column."
      ]
    },
    {
      "cell_type": "markdown",
      "metadata": {
        "id": "VbZl08jdJeo9"
      },
      "source": [
        "### Check for Data Quality Issues (1.5M)\n",
        "\n",
        "* duplicate data\n",
        "* missing data\n",
        "* data inconsistencies"
      ]
    },
    {
      "cell_type": "code",
      "execution_count": 57,
      "metadata": {
        "id": "ayhnZtRjJeo-",
        "outputId": "f2f936a9-a1fb-4303-993d-abc383501533",
        "colab": {
          "base_uri": "https://localhost:8080/"
        }
      },
      "outputs": [
        {
          "output_type": "execute_result",
          "data": {
            "text/plain": [
              "0"
            ]
          },
          "metadata": {},
          "execution_count": 57
        }
      ],
      "source": [
        "# Check for duplicate data\n",
        "df.duplicated().sum()"
      ]
    },
    {
      "cell_type": "code",
      "execution_count": 58,
      "metadata": {
        "id": "UnWZ0YhmJeo-",
        "outputId": "71480409-e927-40d1-9c27-4d2bc2d788b2",
        "colab": {
          "base_uri": "https://localhost:8080/",
          "height": 460
        }
      },
      "outputs": [
        {
          "output_type": "execute_result",
          "data": {
            "text/plain": [
              "CustomerID           1\n",
              "Age                  1\n",
              "Gender               1\n",
              "Tenure               1\n",
              "Usage Frequency      1\n",
              "Support Calls        1\n",
              "Payment Delay        1\n",
              "Subscription Type    1\n",
              "Contract Length      1\n",
              "Total Spend          1\n",
              "Last Interaction     1\n",
              "Churn                1\n",
              "dtype: int64"
            ],
            "text/html": [
              "<div>\n",
              "<style scoped>\n",
              "    .dataframe tbody tr th:only-of-type {\n",
              "        vertical-align: middle;\n",
              "    }\n",
              "\n",
              "    .dataframe tbody tr th {\n",
              "        vertical-align: top;\n",
              "    }\n",
              "\n",
              "    .dataframe thead th {\n",
              "        text-align: right;\n",
              "    }\n",
              "</style>\n",
              "<table border=\"1\" class=\"dataframe\">\n",
              "  <thead>\n",
              "    <tr style=\"text-align: right;\">\n",
              "      <th></th>\n",
              "      <th>0</th>\n",
              "    </tr>\n",
              "  </thead>\n",
              "  <tbody>\n",
              "    <tr>\n",
              "      <th>CustomerID</th>\n",
              "      <td>1</td>\n",
              "    </tr>\n",
              "    <tr>\n",
              "      <th>Age</th>\n",
              "      <td>1</td>\n",
              "    </tr>\n",
              "    <tr>\n",
              "      <th>Gender</th>\n",
              "      <td>1</td>\n",
              "    </tr>\n",
              "    <tr>\n",
              "      <th>Tenure</th>\n",
              "      <td>1</td>\n",
              "    </tr>\n",
              "    <tr>\n",
              "      <th>Usage Frequency</th>\n",
              "      <td>1</td>\n",
              "    </tr>\n",
              "    <tr>\n",
              "      <th>Support Calls</th>\n",
              "      <td>1</td>\n",
              "    </tr>\n",
              "    <tr>\n",
              "      <th>Payment Delay</th>\n",
              "      <td>1</td>\n",
              "    </tr>\n",
              "    <tr>\n",
              "      <th>Subscription Type</th>\n",
              "      <td>1</td>\n",
              "    </tr>\n",
              "    <tr>\n",
              "      <th>Contract Length</th>\n",
              "      <td>1</td>\n",
              "    </tr>\n",
              "    <tr>\n",
              "      <th>Total Spend</th>\n",
              "      <td>1</td>\n",
              "    </tr>\n",
              "    <tr>\n",
              "      <th>Last Interaction</th>\n",
              "      <td>1</td>\n",
              "    </tr>\n",
              "    <tr>\n",
              "      <th>Churn</th>\n",
              "      <td>1</td>\n",
              "    </tr>\n",
              "  </tbody>\n",
              "</table>\n",
              "</div><br><label><b>dtype:</b> int64</label>"
            ]
          },
          "metadata": {},
          "execution_count": 58
        }
      ],
      "source": [
        "# Check for missing data\n",
        "df.isnull().sum()"
      ]
    },
    {
      "cell_type": "code",
      "execution_count": 59,
      "metadata": {
        "id": "O_nIJqAeJeo_",
        "outputId": "e02d12fe-65ce-409e-cd97-169b0eed2d59",
        "colab": {
          "base_uri": "https://localhost:8080/",
          "height": 431
        }
      },
      "outputs": [
        {
          "output_type": "execute_result",
          "data": {
            "text/plain": [
              "           CustomerID            Age  Gender         Tenure  Usage Frequency  \\\n",
              "count   440832.000000  440832.000000  440832  440832.000000    440832.000000   \n",
              "unique            NaN            NaN       2            NaN              NaN   \n",
              "top               NaN            NaN    Male            NaN              NaN   \n",
              "freq              NaN            NaN  250252            NaN              NaN   \n",
              "mean    225398.667955      39.373153     NaN      31.256336        15.807494   \n",
              "std     129531.918550      12.442369     NaN      17.255727         8.586242   \n",
              "min          2.000000      18.000000     NaN       1.000000         1.000000   \n",
              "25%     113621.750000      29.000000     NaN      16.000000         9.000000   \n",
              "50%     226125.500000      39.000000     NaN      32.000000        16.000000   \n",
              "75%     337739.250000      48.000000     NaN      46.000000        23.000000   \n",
              "max     449999.000000      65.000000     NaN      60.000000        30.000000   \n",
              "\n",
              "        Support Calls  Payment Delay Subscription Type Contract Length  \\\n",
              "count   440832.000000  440832.000000            440832          440832   \n",
              "unique            NaN            NaN                 3               3   \n",
              "top               NaN            NaN          Standard          Annual   \n",
              "freq              NaN            NaN            149128          177198   \n",
              "mean         3.604437      12.965722               NaN             NaN   \n",
              "std          3.070218       8.258063               NaN             NaN   \n",
              "min          0.000000       0.000000               NaN             NaN   \n",
              "25%          1.000000       6.000000               NaN             NaN   \n",
              "50%          3.000000      12.000000               NaN             NaN   \n",
              "75%          6.000000      19.000000               NaN             NaN   \n",
              "max         10.000000      30.000000               NaN             NaN   \n",
              "\n",
              "          Total Spend  Last Interaction     Churn  \n",
              "count   440832.000000     440832.000000  440832.0  \n",
              "unique            NaN               NaN       2.0  \n",
              "top               NaN               NaN       1.0  \n",
              "freq              NaN               NaN  249999.0  \n",
              "mean       631.616223         14.480868       NaN  \n",
              "std        240.803001          8.596208       NaN  \n",
              "min        100.000000          1.000000       NaN  \n",
              "25%        480.000000          7.000000       NaN  \n",
              "50%        661.000000         14.000000       NaN  \n",
              "75%        830.000000         22.000000       NaN  \n",
              "max       1000.000000         30.000000       NaN  "
            ],
            "text/html": [
              "\n",
              "  <div id=\"df-40842c8d-d541-4339-a50b-0b117c6de831\" class=\"colab-df-container\">\n",
              "    <div>\n",
              "<style scoped>\n",
              "    .dataframe tbody tr th:only-of-type {\n",
              "        vertical-align: middle;\n",
              "    }\n",
              "\n",
              "    .dataframe tbody tr th {\n",
              "        vertical-align: top;\n",
              "    }\n",
              "\n",
              "    .dataframe thead th {\n",
              "        text-align: right;\n",
              "    }\n",
              "</style>\n",
              "<table border=\"1\" class=\"dataframe\">\n",
              "  <thead>\n",
              "    <tr style=\"text-align: right;\">\n",
              "      <th></th>\n",
              "      <th>CustomerID</th>\n",
              "      <th>Age</th>\n",
              "      <th>Gender</th>\n",
              "      <th>Tenure</th>\n",
              "      <th>Usage Frequency</th>\n",
              "      <th>Support Calls</th>\n",
              "      <th>Payment Delay</th>\n",
              "      <th>Subscription Type</th>\n",
              "      <th>Contract Length</th>\n",
              "      <th>Total Spend</th>\n",
              "      <th>Last Interaction</th>\n",
              "      <th>Churn</th>\n",
              "    </tr>\n",
              "  </thead>\n",
              "  <tbody>\n",
              "    <tr>\n",
              "      <th>count</th>\n",
              "      <td>440832.000000</td>\n",
              "      <td>440832.000000</td>\n",
              "      <td>440832</td>\n",
              "      <td>440832.000000</td>\n",
              "      <td>440832.000000</td>\n",
              "      <td>440832.000000</td>\n",
              "      <td>440832.000000</td>\n",
              "      <td>440832</td>\n",
              "      <td>440832</td>\n",
              "      <td>440832.000000</td>\n",
              "      <td>440832.000000</td>\n",
              "      <td>440832.0</td>\n",
              "    </tr>\n",
              "    <tr>\n",
              "      <th>unique</th>\n",
              "      <td>NaN</td>\n",
              "      <td>NaN</td>\n",
              "      <td>2</td>\n",
              "      <td>NaN</td>\n",
              "      <td>NaN</td>\n",
              "      <td>NaN</td>\n",
              "      <td>NaN</td>\n",
              "      <td>3</td>\n",
              "      <td>3</td>\n",
              "      <td>NaN</td>\n",
              "      <td>NaN</td>\n",
              "      <td>2.0</td>\n",
              "    </tr>\n",
              "    <tr>\n",
              "      <th>top</th>\n",
              "      <td>NaN</td>\n",
              "      <td>NaN</td>\n",
              "      <td>Male</td>\n",
              "      <td>NaN</td>\n",
              "      <td>NaN</td>\n",
              "      <td>NaN</td>\n",
              "      <td>NaN</td>\n",
              "      <td>Standard</td>\n",
              "      <td>Annual</td>\n",
              "      <td>NaN</td>\n",
              "      <td>NaN</td>\n",
              "      <td>1.0</td>\n",
              "    </tr>\n",
              "    <tr>\n",
              "      <th>freq</th>\n",
              "      <td>NaN</td>\n",
              "      <td>NaN</td>\n",
              "      <td>250252</td>\n",
              "      <td>NaN</td>\n",
              "      <td>NaN</td>\n",
              "      <td>NaN</td>\n",
              "      <td>NaN</td>\n",
              "      <td>149128</td>\n",
              "      <td>177198</td>\n",
              "      <td>NaN</td>\n",
              "      <td>NaN</td>\n",
              "      <td>249999.0</td>\n",
              "    </tr>\n",
              "    <tr>\n",
              "      <th>mean</th>\n",
              "      <td>225398.667955</td>\n",
              "      <td>39.373153</td>\n",
              "      <td>NaN</td>\n",
              "      <td>31.256336</td>\n",
              "      <td>15.807494</td>\n",
              "      <td>3.604437</td>\n",
              "      <td>12.965722</td>\n",
              "      <td>NaN</td>\n",
              "      <td>NaN</td>\n",
              "      <td>631.616223</td>\n",
              "      <td>14.480868</td>\n",
              "      <td>NaN</td>\n",
              "    </tr>\n",
              "    <tr>\n",
              "      <th>std</th>\n",
              "      <td>129531.918550</td>\n",
              "      <td>12.442369</td>\n",
              "      <td>NaN</td>\n",
              "      <td>17.255727</td>\n",
              "      <td>8.586242</td>\n",
              "      <td>3.070218</td>\n",
              "      <td>8.258063</td>\n",
              "      <td>NaN</td>\n",
              "      <td>NaN</td>\n",
              "      <td>240.803001</td>\n",
              "      <td>8.596208</td>\n",
              "      <td>NaN</td>\n",
              "    </tr>\n",
              "    <tr>\n",
              "      <th>min</th>\n",
              "      <td>2.000000</td>\n",
              "      <td>18.000000</td>\n",
              "      <td>NaN</td>\n",
              "      <td>1.000000</td>\n",
              "      <td>1.000000</td>\n",
              "      <td>0.000000</td>\n",
              "      <td>0.000000</td>\n",
              "      <td>NaN</td>\n",
              "      <td>NaN</td>\n",
              "      <td>100.000000</td>\n",
              "      <td>1.000000</td>\n",
              "      <td>NaN</td>\n",
              "    </tr>\n",
              "    <tr>\n",
              "      <th>25%</th>\n",
              "      <td>113621.750000</td>\n",
              "      <td>29.000000</td>\n",
              "      <td>NaN</td>\n",
              "      <td>16.000000</td>\n",
              "      <td>9.000000</td>\n",
              "      <td>1.000000</td>\n",
              "      <td>6.000000</td>\n",
              "      <td>NaN</td>\n",
              "      <td>NaN</td>\n",
              "      <td>480.000000</td>\n",
              "      <td>7.000000</td>\n",
              "      <td>NaN</td>\n",
              "    </tr>\n",
              "    <tr>\n",
              "      <th>50%</th>\n",
              "      <td>226125.500000</td>\n",
              "      <td>39.000000</td>\n",
              "      <td>NaN</td>\n",
              "      <td>32.000000</td>\n",
              "      <td>16.000000</td>\n",
              "      <td>3.000000</td>\n",
              "      <td>12.000000</td>\n",
              "      <td>NaN</td>\n",
              "      <td>NaN</td>\n",
              "      <td>661.000000</td>\n",
              "      <td>14.000000</td>\n",
              "      <td>NaN</td>\n",
              "    </tr>\n",
              "    <tr>\n",
              "      <th>75%</th>\n",
              "      <td>337739.250000</td>\n",
              "      <td>48.000000</td>\n",
              "      <td>NaN</td>\n",
              "      <td>46.000000</td>\n",
              "      <td>23.000000</td>\n",
              "      <td>6.000000</td>\n",
              "      <td>19.000000</td>\n",
              "      <td>NaN</td>\n",
              "      <td>NaN</td>\n",
              "      <td>830.000000</td>\n",
              "      <td>22.000000</td>\n",
              "      <td>NaN</td>\n",
              "    </tr>\n",
              "    <tr>\n",
              "      <th>max</th>\n",
              "      <td>449999.000000</td>\n",
              "      <td>65.000000</td>\n",
              "      <td>NaN</td>\n",
              "      <td>60.000000</td>\n",
              "      <td>30.000000</td>\n",
              "      <td>10.000000</td>\n",
              "      <td>30.000000</td>\n",
              "      <td>NaN</td>\n",
              "      <td>NaN</td>\n",
              "      <td>1000.000000</td>\n",
              "      <td>30.000000</td>\n",
              "      <td>NaN</td>\n",
              "    </tr>\n",
              "  </tbody>\n",
              "</table>\n",
              "</div>\n",
              "    <div class=\"colab-df-buttons\">\n",
              "\n",
              "  <div class=\"colab-df-container\">\n",
              "    <button class=\"colab-df-convert\" onclick=\"convertToInteractive('df-40842c8d-d541-4339-a50b-0b117c6de831')\"\n",
              "            title=\"Convert this dataframe to an interactive table.\"\n",
              "            style=\"display:none;\">\n",
              "\n",
              "  <svg xmlns=\"http://www.w3.org/2000/svg\" height=\"24px\" viewBox=\"0 -960 960 960\">\n",
              "    <path d=\"M120-120v-720h720v720H120Zm60-500h600v-160H180v160Zm220 220h160v-160H400v160Zm0 220h160v-160H400v160ZM180-400h160v-160H180v160Zm440 0h160v-160H620v160ZM180-180h160v-160H180v160Zm440 0h160v-160H620v160Z\"/>\n",
              "  </svg>\n",
              "    </button>\n",
              "\n",
              "  <style>\n",
              "    .colab-df-container {\n",
              "      display:flex;\n",
              "      gap: 12px;\n",
              "    }\n",
              "\n",
              "    .colab-df-convert {\n",
              "      background-color: #E8F0FE;\n",
              "      border: none;\n",
              "      border-radius: 50%;\n",
              "      cursor: pointer;\n",
              "      display: none;\n",
              "      fill: #1967D2;\n",
              "      height: 32px;\n",
              "      padding: 0 0 0 0;\n",
              "      width: 32px;\n",
              "    }\n",
              "\n",
              "    .colab-df-convert:hover {\n",
              "      background-color: #E2EBFA;\n",
              "      box-shadow: 0px 1px 2px rgba(60, 64, 67, 0.3), 0px 1px 3px 1px rgba(60, 64, 67, 0.15);\n",
              "      fill: #174EA6;\n",
              "    }\n",
              "\n",
              "    .colab-df-buttons div {\n",
              "      margin-bottom: 4px;\n",
              "    }\n",
              "\n",
              "    [theme=dark] .colab-df-convert {\n",
              "      background-color: #3B4455;\n",
              "      fill: #D2E3FC;\n",
              "    }\n",
              "\n",
              "    [theme=dark] .colab-df-convert:hover {\n",
              "      background-color: #434B5C;\n",
              "      box-shadow: 0px 1px 3px 1px rgba(0, 0, 0, 0.15);\n",
              "      filter: drop-shadow(0px 1px 2px rgba(0, 0, 0, 0.3));\n",
              "      fill: #FFFFFF;\n",
              "    }\n",
              "  </style>\n",
              "\n",
              "    <script>\n",
              "      const buttonEl =\n",
              "        document.querySelector('#df-40842c8d-d541-4339-a50b-0b117c6de831 button.colab-df-convert');\n",
              "      buttonEl.style.display =\n",
              "        google.colab.kernel.accessAllowed ? 'block' : 'none';\n",
              "\n",
              "      async function convertToInteractive(key) {\n",
              "        const element = document.querySelector('#df-40842c8d-d541-4339-a50b-0b117c6de831');\n",
              "        const dataTable =\n",
              "          await google.colab.kernel.invokeFunction('convertToInteractive',\n",
              "                                                    [key], {});\n",
              "        if (!dataTable) return;\n",
              "\n",
              "        const docLinkHtml = 'Like what you see? Visit the ' +\n",
              "          '<a target=\"_blank\" href=https://colab.research.google.com/notebooks/data_table.ipynb>data table notebook</a>'\n",
              "          + ' to learn more about interactive tables.';\n",
              "        element.innerHTML = '';\n",
              "        dataTable['output_type'] = 'display_data';\n",
              "        await google.colab.output.renderOutput(dataTable, element);\n",
              "        const docLink = document.createElement('div');\n",
              "        docLink.innerHTML = docLinkHtml;\n",
              "        element.appendChild(docLink);\n",
              "      }\n",
              "    </script>\n",
              "  </div>\n",
              "\n",
              "\n",
              "<div id=\"df-803b2f18-a89c-47ba-9209-a167b853938b\">\n",
              "  <button class=\"colab-df-quickchart\" onclick=\"quickchart('df-803b2f18-a89c-47ba-9209-a167b853938b')\"\n",
              "            title=\"Suggest charts\"\n",
              "            style=\"display:none;\">\n",
              "\n",
              "<svg xmlns=\"http://www.w3.org/2000/svg\" height=\"24px\"viewBox=\"0 0 24 24\"\n",
              "     width=\"24px\">\n",
              "    <g>\n",
              "        <path d=\"M19 3H5c-1.1 0-2 .9-2 2v14c0 1.1.9 2 2 2h14c1.1 0 2-.9 2-2V5c0-1.1-.9-2-2-2zM9 17H7v-7h2v7zm4 0h-2V7h2v10zm4 0h-2v-4h2v4z\"/>\n",
              "    </g>\n",
              "</svg>\n",
              "  </button>\n",
              "\n",
              "<style>\n",
              "  .colab-df-quickchart {\n",
              "      --bg-color: #E8F0FE;\n",
              "      --fill-color: #1967D2;\n",
              "      --hover-bg-color: #E2EBFA;\n",
              "      --hover-fill-color: #174EA6;\n",
              "      --disabled-fill-color: #AAA;\n",
              "      --disabled-bg-color: #DDD;\n",
              "  }\n",
              "\n",
              "  [theme=dark] .colab-df-quickchart {\n",
              "      --bg-color: #3B4455;\n",
              "      --fill-color: #D2E3FC;\n",
              "      --hover-bg-color: #434B5C;\n",
              "      --hover-fill-color: #FFFFFF;\n",
              "      --disabled-bg-color: #3B4455;\n",
              "      --disabled-fill-color: #666;\n",
              "  }\n",
              "\n",
              "  .colab-df-quickchart {\n",
              "    background-color: var(--bg-color);\n",
              "    border: none;\n",
              "    border-radius: 50%;\n",
              "    cursor: pointer;\n",
              "    display: none;\n",
              "    fill: var(--fill-color);\n",
              "    height: 32px;\n",
              "    padding: 0;\n",
              "    width: 32px;\n",
              "  }\n",
              "\n",
              "  .colab-df-quickchart:hover {\n",
              "    background-color: var(--hover-bg-color);\n",
              "    box-shadow: 0 1px 2px rgba(60, 64, 67, 0.3), 0 1px 3px 1px rgba(60, 64, 67, 0.15);\n",
              "    fill: var(--button-hover-fill-color);\n",
              "  }\n",
              "\n",
              "  .colab-df-quickchart-complete:disabled,\n",
              "  .colab-df-quickchart-complete:disabled:hover {\n",
              "    background-color: var(--disabled-bg-color);\n",
              "    fill: var(--disabled-fill-color);\n",
              "    box-shadow: none;\n",
              "  }\n",
              "\n",
              "  .colab-df-spinner {\n",
              "    border: 2px solid var(--fill-color);\n",
              "    border-color: transparent;\n",
              "    border-bottom-color: var(--fill-color);\n",
              "    animation:\n",
              "      spin 1s steps(1) infinite;\n",
              "  }\n",
              "\n",
              "  @keyframes spin {\n",
              "    0% {\n",
              "      border-color: transparent;\n",
              "      border-bottom-color: var(--fill-color);\n",
              "      border-left-color: var(--fill-color);\n",
              "    }\n",
              "    20% {\n",
              "      border-color: transparent;\n",
              "      border-left-color: var(--fill-color);\n",
              "      border-top-color: var(--fill-color);\n",
              "    }\n",
              "    30% {\n",
              "      border-color: transparent;\n",
              "      border-left-color: var(--fill-color);\n",
              "      border-top-color: var(--fill-color);\n",
              "      border-right-color: var(--fill-color);\n",
              "    }\n",
              "    40% {\n",
              "      border-color: transparent;\n",
              "      border-right-color: var(--fill-color);\n",
              "      border-top-color: var(--fill-color);\n",
              "    }\n",
              "    60% {\n",
              "      border-color: transparent;\n",
              "      border-right-color: var(--fill-color);\n",
              "    }\n",
              "    80% {\n",
              "      border-color: transparent;\n",
              "      border-right-color: var(--fill-color);\n",
              "      border-bottom-color: var(--fill-color);\n",
              "    }\n",
              "    90% {\n",
              "      border-color: transparent;\n",
              "      border-bottom-color: var(--fill-color);\n",
              "    }\n",
              "  }\n",
              "</style>\n",
              "\n",
              "  <script>\n",
              "    async function quickchart(key) {\n",
              "      const quickchartButtonEl =\n",
              "        document.querySelector('#' + key + ' button');\n",
              "      quickchartButtonEl.disabled = true;  // To prevent multiple clicks.\n",
              "      quickchartButtonEl.classList.add('colab-df-spinner');\n",
              "      try {\n",
              "        const charts = await google.colab.kernel.invokeFunction(\n",
              "            'suggestCharts', [key], {});\n",
              "      } catch (error) {\n",
              "        console.error('Error during call to suggestCharts:', error);\n",
              "      }\n",
              "      quickchartButtonEl.classList.remove('colab-df-spinner');\n",
              "      quickchartButtonEl.classList.add('colab-df-quickchart-complete');\n",
              "    }\n",
              "    (() => {\n",
              "      let quickchartButtonEl =\n",
              "        document.querySelector('#df-803b2f18-a89c-47ba-9209-a167b853938b button');\n",
              "      quickchartButtonEl.style.display =\n",
              "        google.colab.kernel.accessAllowed ? 'block' : 'none';\n",
              "    })();\n",
              "  </script>\n",
              "</div>\n",
              "\n",
              "    </div>\n",
              "  </div>\n"
            ],
            "application/vnd.google.colaboratory.intrinsic+json": {
              "type": "dataframe",
              "summary": "{\n  \"name\": \"df\",\n  \"rows\": 11,\n  \"fields\": [\n    {\n      \"column\": \"CustomerID\",\n      \"properties\": {\n        \"dtype\": \"number\",\n        \"std\": 160429.83004457437,\n        \"min\": 2.0,\n        \"max\": 449999.0,\n        \"num_unique_values\": 8,\n        \"samples\": [\n          225398.66795513936,\n          226125.5,\n          440832.0\n        ],\n        \"semantic_type\": \"\",\n        \"description\": \"\"\n      }\n    },\n    {\n      \"column\": \"Age\",\n      \"properties\": {\n        \"dtype\": \"number\",\n        \"std\": 155844.98107109405,\n        \"min\": 12.442369490866385,\n        \"max\": 440832.0,\n        \"num_unique_values\": 8,\n        \"samples\": [\n          39.37315349157956,\n          39.0,\n          440832.0\n        ],\n        \"semantic_type\": \"\",\n        \"description\": \"\"\n      }\n    },\n    {\n      \"column\": \"Gender\",\n      \"properties\": {\n        \"dtype\": \"category\",\n        \"num_unique_values\": 4,\n        \"samples\": [\n          2,\n          \"250252\",\n          \"440832\"\n        ],\n        \"semantic_type\": \"\",\n        \"description\": \"\"\n      }\n    },\n    {\n      \"column\": \"Tenure\",\n      \"properties\": {\n        \"dtype\": \"number\",\n        \"std\": 155847.37044993733,\n        \"min\": 1.0,\n        \"max\": 440832.0,\n        \"num_unique_values\": 8,\n        \"samples\": [\n          31.25633574695122,\n          32.0,\n          440832.0\n        ],\n        \"semantic_type\": \"\",\n        \"description\": \"\"\n      }\n    },\n    {\n      \"column\": \"Usage Frequency\",\n      \"properties\": {\n        \"dtype\": \"number\",\n        \"std\": 155852.42636799914,\n        \"min\": 1.0,\n        \"max\": 440832.0,\n        \"num_unique_values\": 8,\n        \"samples\": [\n          15.80749355763647,\n          16.0,\n          440832.0\n        ],\n        \"semantic_type\": \"\",\n        \"description\": \"\"\n      }\n    },\n    {\n      \"column\": \"Support Calls\",\n      \"properties\": {\n        \"dtype\": \"number\",\n        \"std\": 155856.30103910927,\n        \"min\": 0.0,\n        \"max\": 440832.0,\n        \"num_unique_values\": 8,\n        \"samples\": [\n          3.6044366107723578,\n          3.0,\n          440832.0\n        ],\n        \"semantic_type\": \"\",\n        \"description\": \"\"\n      }\n    },\n    {\n      \"column\": \"Payment Delay\",\n      \"properties\": {\n        \"dtype\": \"number\",\n        \"std\": 155853.19256713171,\n        \"min\": 0.0,\n        \"max\": 440832.0,\n        \"num_unique_values\": 8,\n        \"samples\": [\n          12.965721635452962,\n          12.0,\n          440832.0\n        ],\n        \"semantic_type\": \"\",\n        \"description\": \"\"\n      }\n    },\n    {\n      \"column\": \"Subscription Type\",\n      \"properties\": {\n        \"dtype\": \"category\",\n        \"num_unique_values\": 4,\n        \"samples\": [\n          3,\n          \"149128\",\n          \"440832\"\n        ],\n        \"semantic_type\": \"\",\n        \"description\": \"\"\n      }\n    },\n    {\n      \"column\": \"Contract Length\",\n      \"properties\": {\n        \"dtype\": \"category\",\n        \"num_unique_values\": 4,\n        \"samples\": [\n          3,\n          \"177198\",\n          \"440832\"\n        ],\n        \"semantic_type\": \"\",\n        \"description\": \"\"\n      }\n    },\n    {\n      \"column\": \"Total Spend\",\n      \"properties\": {\n        \"dtype\": \"number\",\n        \"std\": 155658.75161340856,\n        \"min\": 100.0,\n        \"max\": 440832.0,\n        \"num_unique_values\": 8,\n        \"samples\": [\n          631.6162227787456,\n          661.0,\n          440832.0\n        ],\n        \"semantic_type\": \"\",\n        \"description\": \"\"\n      }\n    },\n    {\n      \"column\": \"Last Interaction\",\n      \"properties\": {\n        \"dtype\": \"number\",\n        \"std\": 155852.74540926635,\n        \"min\": 1.0,\n        \"max\": 440832.0,\n        \"num_unique_values\": 8,\n        \"samples\": [\n          14.480867995063878,\n          14.0,\n          440832.0\n        ],\n        \"semantic_type\": \"\",\n        \"description\": \"\"\n      }\n    },\n    {\n      \"column\": \"Churn\",\n      \"properties\": {\n        \"dtype\": \"number\",\n        \"std\": 214102.34962201293,\n        \"min\": 1.0,\n        \"max\": 440832.0,\n        \"num_unique_values\": 4,\n        \"samples\": [\n          2.0,\n          249999.0,\n          440832.0\n        ],\n        \"semantic_type\": \"\",\n        \"description\": \"\"\n      }\n    }\n  ]\n}"
            }
          },
          "metadata": {},
          "execution_count": 59
        }
      ],
      "source": [
        "# Check for data inconsistencies\n",
        "df.describe(include='all')"
      ]
    },
    {
      "cell_type": "markdown",
      "metadata": {
        "id": "jSO4sUcrJeo_"
      },
      "source": [
        "### Handling the data quality issues(1.5M)\n",
        "Apply techniques\n",
        "* to remove duplicate data\n",
        "* to impute or remove missing data\n",
        "* to remove data inconsistencies <br>\n",
        "Give detailed explanation for each column how you handle the data quality issues.\n"
      ]
    },
    {
      "cell_type": "code",
      "execution_count": 60,
      "metadata": {
        "id": "QxX4EZAoJepD"
      },
      "outputs": [],
      "source": [
        "# Remove duplicate data\n",
        "df = df.drop_duplicates()\n",
        "\n",
        "# Impute missing data in 'TotalCharges' using KNN imputer\n",
        "imputer = KNNImputer(n_neighbors=5)\n",
        "\n",
        "# Check if 'TotalCharges' column exists and if not, create it with default values\n",
        "if 'TotalCharges' not in df.columns:\n",
        "    df['TotalCharges'] = 0  # or any other suitable default value\n",
        "\n",
        "df['TotalCharges'] = pd.to_numeric(df['TotalCharges'], errors='coerce')\n",
        "\n",
        "df['TotalCharges'] = imputer.fit_transform(df[['TotalCharges']])\n",
        "\n",
        "# Remove data inconsistencies\n",
        "# No specific inconsistencies found in the dataset"
      ]
    },
    {
      "cell_type": "markdown",
      "metadata": {
        "id": "4UycyvYFJepF"
      },
      "source": [
        "### Standardise the data (1M)\n",
        "Standardization is the process of transforming data into a common format which you to make the meaningful comparison."
      ]
    },
    {
      "cell_type": "code",
      "execution_count": 61,
      "metadata": {
        "id": "UqRJlYXIJepG"
      },
      "outputs": [],
      "source": [
        "# Standardize the data\n",
        "scaler = StandardScaler()\n",
        "numeric_cols = df.select_dtypes(include=[np.number]).columns\n",
        "df[numeric_cols] = scaler.fit_transform(df[numeric_cols])"
      ]
    },
    {
      "cell_type": "markdown",
      "metadata": {
        "id": "Hz2vluPBJepH"
      },
      "source": [
        "### Normalise the data wherever necessary(1M)"
      ]
    },
    {
      "cell_type": "code",
      "execution_count": 62,
      "metadata": {
        "id": "LUxNj_8zJepJ"
      },
      "outputs": [],
      "source": [
        "# Normalize the data\n",
        "scaler = MinMaxScaler()\n",
        "df[numeric_cols] = scaler.fit_transform(df[numeric_cols])"
      ]
    },
    {
      "cell_type": "markdown",
      "metadata": {
        "id": "JDDRpEkyJepK"
      },
      "source": [
        "### Perform Binning (1M)\n",
        "Binning is a process of transforming continuous numerical variables into discrete categorical 'bins', for grouped analysis."
      ]
    },
    {
      "cell_type": "code",
      "execution_count": 63,
      "metadata": {
        "id": "6rJq0fT0JepL",
        "outputId": "d2f590d3-f7e9-4679-8ab5-6f8588875c43",
        "colab": {
          "base_uri": "https://localhost:8080/"
        }
      },
      "outputs": [
        {
          "output_type": "stream",
          "name": "stdout",
          "text": [
            "Column 'tenure' not found in the DataFrame.\n"
          ]
        }
      ],
      "source": [
        "# Perform binning on 'tenure'\n",
        "# Check if the 'tenure' column exists in the DataFrame\n",
        "if 'tenure' in df.columns:\n",
        "    df['tenure_bin'] = pd.cut(df['tenure'], bins=5, labels=['Very_Short', 'Short', 'Medium', 'Long', 'Very_Long'])\n",
        "else:\n",
        "    print(\"Column 'tenure' not found in the DataFrame.\")\n",
        "    # Handle this case appropriately, e.g., investigate why the column is missing.\n",
        "    # You might need to reload the original data or retrace your steps."
      ]
    },
    {
      "cell_type": "markdown",
      "metadata": {
        "id": "yAaqt2hFJepL"
      },
      "source": [
        "### Perform encoding (1M)"
      ]
    },
    {
      "cell_type": "code",
      "execution_count": 64,
      "metadata": {
        "id": "kuu5zXIkJeph"
      },
      "outputs": [],
      "source": [
        "# Perform encoding on categorical columns\n",
        "encoder = OneHotEncoder(sparse_output=False)\n",
        "categorical_cols = df.select_dtypes(include=['category']).columns\n",
        "encoded_data = encoder.fit_transform(df[categorical_cols])\n",
        "encoded_df = pd.DataFrame(encoded_data, columns=encoder.get_feature_names_out(categorical_cols))\n",
        "df = df.drop(columns=categorical_cols)\n",
        "df = pd.concat([df, encoded_df], axis=1)"
      ]
    },
    {
      "cell_type": "markdown",
      "metadata": {
        "id": "8WonTpzSJepi"
      },
      "source": [
        "### Perform Data Discretization(2M)"
      ]
    },
    {
      "cell_type": "code",
      "execution_count": 66,
      "metadata": {
        "id": "x3KlPaHMJepj",
        "outputId": "72c5ac9d-5857-40c4-b024-193870ca3864",
        "colab": {
          "base_uri": "https://localhost:8080/",
          "height": 578
        }
      },
      "outputs": [
        {
          "output_type": "error",
          "ename": "KeyError",
          "evalue": "'MonthlyCharges'",
          "traceback": [
            "\u001b[0;31m---------------------------------------------------------------------------\u001b[0m",
            "\u001b[0;31mKeyError\u001b[0m                                  Traceback (most recent call last)",
            "\u001b[0;32m/usr/local/lib/python3.11/dist-packages/pandas/core/indexes/base.py\u001b[0m in \u001b[0;36mget_loc\u001b[0;34m(self, key)\u001b[0m\n\u001b[1;32m   3804\u001b[0m         \u001b[0;32mtry\u001b[0m\u001b[0;34m:\u001b[0m\u001b[0;34m\u001b[0m\u001b[0;34m\u001b[0m\u001b[0m\n\u001b[0;32m-> 3805\u001b[0;31m             \u001b[0;32mreturn\u001b[0m \u001b[0mself\u001b[0m\u001b[0;34m.\u001b[0m\u001b[0m_engine\u001b[0m\u001b[0;34m.\u001b[0m\u001b[0mget_loc\u001b[0m\u001b[0;34m(\u001b[0m\u001b[0mcasted_key\u001b[0m\u001b[0;34m)\u001b[0m\u001b[0;34m\u001b[0m\u001b[0;34m\u001b[0m\u001b[0m\n\u001b[0m\u001b[1;32m   3806\u001b[0m         \u001b[0;32mexcept\u001b[0m \u001b[0mKeyError\u001b[0m \u001b[0;32mas\u001b[0m \u001b[0merr\u001b[0m\u001b[0;34m:\u001b[0m\u001b[0;34m\u001b[0m\u001b[0;34m\u001b[0m\u001b[0m\n",
            "\u001b[0;32mindex.pyx\u001b[0m in \u001b[0;36mpandas._libs.index.IndexEngine.get_loc\u001b[0;34m()\u001b[0m\n",
            "\u001b[0;32mindex.pyx\u001b[0m in \u001b[0;36mpandas._libs.index.IndexEngine.get_loc\u001b[0;34m()\u001b[0m\n",
            "\u001b[0;32mpandas/_libs/hashtable_class_helper.pxi\u001b[0m in \u001b[0;36mpandas._libs.hashtable.PyObjectHashTable.get_item\u001b[0;34m()\u001b[0m\n",
            "\u001b[0;32mpandas/_libs/hashtable_class_helper.pxi\u001b[0m in \u001b[0;36mpandas._libs.hashtable.PyObjectHashTable.get_item\u001b[0;34m()\u001b[0m\n",
            "\u001b[0;31mKeyError\u001b[0m: 'MonthlyCharges'",
            "\nThe above exception was the direct cause of the following exception:\n",
            "\u001b[0;31mKeyError\u001b[0m                                  Traceback (most recent call last)",
            "\u001b[0;32m<ipython-input-66-cc2e841ca0b5>\u001b[0m in \u001b[0;36m<cell line: 0>\u001b[0;34m()\u001b[0m\n\u001b[1;32m      8\u001b[0m \u001b[0;34m\u001b[0m\u001b[0m\n\u001b[1;32m      9\u001b[0m \u001b[0;31m# If 'MonthlyCharges' is an object type, convert it to numeric:\u001b[0m\u001b[0;34m\u001b[0m\u001b[0;34m\u001b[0m\u001b[0m\n\u001b[0;32m---> 10\u001b[0;31m \u001b[0;32mif\u001b[0m \u001b[0mdf\u001b[0m\u001b[0;34m[\u001b[0m\u001b[0;34m'MonthlyCharges'\u001b[0m\u001b[0;34m]\u001b[0m\u001b[0;34m.\u001b[0m\u001b[0mdtype\u001b[0m \u001b[0;34m==\u001b[0m \u001b[0;34m'object'\u001b[0m\u001b[0;34m:\u001b[0m\u001b[0;34m\u001b[0m\u001b[0;34m\u001b[0m\u001b[0m\n\u001b[0m\u001b[1;32m     11\u001b[0m     \u001b[0mdf\u001b[0m\u001b[0;34m[\u001b[0m\u001b[0;34m'MonthlyCharges'\u001b[0m\u001b[0;34m]\u001b[0m \u001b[0;34m=\u001b[0m \u001b[0mpd\u001b[0m\u001b[0;34m.\u001b[0m\u001b[0mto_numeric\u001b[0m\u001b[0;34m(\u001b[0m\u001b[0mdf\u001b[0m\u001b[0;34m[\u001b[0m\u001b[0;34m'MonthlyCharges'\u001b[0m\u001b[0;34m]\u001b[0m\u001b[0;34m,\u001b[0m \u001b[0merrors\u001b[0m\u001b[0;34m=\u001b[0m\u001b[0;34m'coerce'\u001b[0m\u001b[0;34m)\u001b[0m\u001b[0;34m\u001b[0m\u001b[0;34m\u001b[0m\u001b[0m\n\u001b[1;32m     12\u001b[0m \u001b[0;34m\u001b[0m\u001b[0m\n",
            "\u001b[0;32m/usr/local/lib/python3.11/dist-packages/pandas/core/frame.py\u001b[0m in \u001b[0;36m__getitem__\u001b[0;34m(self, key)\u001b[0m\n\u001b[1;32m   4100\u001b[0m             \u001b[0;32mif\u001b[0m \u001b[0mself\u001b[0m\u001b[0;34m.\u001b[0m\u001b[0mcolumns\u001b[0m\u001b[0;34m.\u001b[0m\u001b[0mnlevels\u001b[0m \u001b[0;34m>\u001b[0m \u001b[0;36m1\u001b[0m\u001b[0;34m:\u001b[0m\u001b[0;34m\u001b[0m\u001b[0;34m\u001b[0m\u001b[0m\n\u001b[1;32m   4101\u001b[0m                 \u001b[0;32mreturn\u001b[0m \u001b[0mself\u001b[0m\u001b[0;34m.\u001b[0m\u001b[0m_getitem_multilevel\u001b[0m\u001b[0;34m(\u001b[0m\u001b[0mkey\u001b[0m\u001b[0;34m)\u001b[0m\u001b[0;34m\u001b[0m\u001b[0;34m\u001b[0m\u001b[0m\n\u001b[0;32m-> 4102\u001b[0;31m             \u001b[0mindexer\u001b[0m \u001b[0;34m=\u001b[0m \u001b[0mself\u001b[0m\u001b[0;34m.\u001b[0m\u001b[0mcolumns\u001b[0m\u001b[0;34m.\u001b[0m\u001b[0mget_loc\u001b[0m\u001b[0;34m(\u001b[0m\u001b[0mkey\u001b[0m\u001b[0;34m)\u001b[0m\u001b[0;34m\u001b[0m\u001b[0;34m\u001b[0m\u001b[0m\n\u001b[0m\u001b[1;32m   4103\u001b[0m             \u001b[0;32mif\u001b[0m \u001b[0mis_integer\u001b[0m\u001b[0;34m(\u001b[0m\u001b[0mindexer\u001b[0m\u001b[0;34m)\u001b[0m\u001b[0;34m:\u001b[0m\u001b[0;34m\u001b[0m\u001b[0;34m\u001b[0m\u001b[0m\n\u001b[1;32m   4104\u001b[0m                 \u001b[0mindexer\u001b[0m \u001b[0;34m=\u001b[0m \u001b[0;34m[\u001b[0m\u001b[0mindexer\u001b[0m\u001b[0;34m]\u001b[0m\u001b[0;34m\u001b[0m\u001b[0;34m\u001b[0m\u001b[0m\n",
            "\u001b[0;32m/usr/local/lib/python3.11/dist-packages/pandas/core/indexes/base.py\u001b[0m in \u001b[0;36mget_loc\u001b[0;34m(self, key)\u001b[0m\n\u001b[1;32m   3810\u001b[0m             ):\n\u001b[1;32m   3811\u001b[0m                 \u001b[0;32mraise\u001b[0m \u001b[0mInvalidIndexError\u001b[0m\u001b[0;34m(\u001b[0m\u001b[0mkey\u001b[0m\u001b[0;34m)\u001b[0m\u001b[0;34m\u001b[0m\u001b[0;34m\u001b[0m\u001b[0m\n\u001b[0;32m-> 3812\u001b[0;31m             \u001b[0;32mraise\u001b[0m \u001b[0mKeyError\u001b[0m\u001b[0;34m(\u001b[0m\u001b[0mkey\u001b[0m\u001b[0;34m)\u001b[0m \u001b[0;32mfrom\u001b[0m \u001b[0merr\u001b[0m\u001b[0;34m\u001b[0m\u001b[0;34m\u001b[0m\u001b[0m\n\u001b[0m\u001b[1;32m   3813\u001b[0m         \u001b[0;32mexcept\u001b[0m \u001b[0mTypeError\u001b[0m\u001b[0;34m:\u001b[0m\u001b[0;34m\u001b[0m\u001b[0;34m\u001b[0m\u001b[0m\n\u001b[1;32m   3814\u001b[0m             \u001b[0;31m# If we have a listlike key, _check_indexing_error will raise\u001b[0m\u001b[0;34m\u001b[0m\u001b[0;34m\u001b[0m\u001b[0m\n",
            "\u001b[0;31mKeyError\u001b[0m: 'MonthlyCharges'"
          ]
        }
      ],
      "source": [
        "# Perform encoding on categorical columns\n",
        "encoder = OneHotEncoder(sparse_output=False, handle_unknown='ignore') # Handle unknown categories during prediction\n",
        "categorical_cols = df.select_dtypes(include=['category', 'object']).columns # Include object type for categorical features\n",
        "\n",
        "# Explicitly exclude 'MonthlyCharges' from categorical columns if it's present\n",
        "if 'MonthlyCharges' in categorical_cols:\n",
        "    categorical_cols = categorical_cols.drop('MonthlyCharges')\n",
        "\n",
        "# If 'MonthlyCharges' is an object type, convert it to numeric:\n",
        "if df['MonthlyCharges'].dtype == 'object':\n",
        "    df['MonthlyCharges'] = pd.to_numeric(df['MonthlyCharges'], errors='coerce')\n",
        "\n",
        "encoded_data = encoder.fit_transform(df[categorical_cols])\n",
        "encoded_df = pd.DataFrame(encoded_data, columns=encoder.get_feature_names_out(categorical_cols))\n",
        "df = df.drop(columns=categorical_cols)\n",
        "df = pd.concat([df, encoded_df], axis=1)"
      ]
    },
    {
      "cell_type": "markdown",
      "metadata": {
        "id": "DsKR4zGaJepm"
      },
      "source": [
        "### EDA using Visuals(3M)\n",
        "Use any 3 or more visualisation methods (Boxplot,Scatterplot,histogram,....etc) to perform Exploratory data analysis and briefly give interpretations from each visual.\n"
      ]
    },
    {
      "cell_type": "code",
      "execution_count": null,
      "metadata": {
        "id": "zWbW0FBKJepn"
      },
      "outputs": [],
      "source": [
        "# Distribution of Monthly Charges\n",
        "plt.figure(figsize=(10, 6))\n",
        "sns.histplot(df['MonthlyCharges'], bins=30, kde=True)\n",
        "plt.title('Distribution of Monthly Charges')\n",
        "plt.xlabel('Monthly Charges')\n",
        "plt.ylabel('Frequency')\n",
        "plt.show()"
      ]
    },
    {
      "cell_type": "code",
      "execution_count": null,
      "metadata": {
        "id": "tL37yejuJepi"
      },
      "outputs": [],
      "source": [
        "# Boxplot of Monthly Charges by tenure bin\n",
        "plt.figure(figsize=(12, 6))\n",
        "sns.boxplot(x='tenure_bin', y='MonthlyCharges', data=df)\n",
        "plt.title('Boxplot of Monthly Charges by Tenure Bin')\n",
        "plt.xlabel('Tenure Bin')\n",
        "plt.ylabel('Monthly Charges')\n",
        "plt.show()"
      ]
    },
    {
      "cell_type": "code",
      "execution_count": null,
      "metadata": {
        "id": "O1qqn9mzJept"
      },
      "outputs": [],
      "source": [
        "# Scatter plot of tenure vs Monthly Charges\n",
        "plt.figure(figsize=(10, 6))\n",
        "sns.scatterplot(x='tenure', y='MonthlyCharges', data=df)\n",
        "plt.title('Scatter Plot of Tenure vs Monthly Charges')\n",
        "plt.xlabel('Tenure')\n",
        "plt.ylabel('Monthly Charges')\n",
        "plt.show()"
      ]
    },
    {
      "cell_type": "markdown",
      "metadata": {
        "id": "ojAmBUD_Jepu"
      },
      "source": [
        "### Feature Selection(2M)"
      ]
    },
    {
      "cell_type": "markdown",
      "metadata": {
        "id": "LONw0ofoJepv"
      },
      "source": [
        "Apply Univariate filters identify top 5 significant features by evaluating each feature independently with respect to the target variable by exploring\n",
        "1. Mutual Information (Information Gain)\n",
        "2. Gini index\n",
        "3. Gain Ratio\n",
        "4. Chi-Squared test\n",
        "5. Fisher Score\n",
        "<br>(From the above 5 you are required to use any <b>two</b>)"
      ]
    },
    {
      "cell_type": "code",
      "execution_count": null,
      "metadata": {
        "id": "shW9GJBlJery"
      },
      "outputs": [],
      "source": [
        "# Define independent variables and the target variable\n",
        "X = df.drop(columns=['Churn_Yes'])\n",
        "y = df['Churn_Yes']\n",
        "\n",
        "# Apply SelectKBest with f_regression to select the top 5 features\n",
        "kbest_f = SelectKBest(score_func=f_regression, k=5)\n",
        "kbest_f.fit(X, y)\n",
        "features_f = X.columns[kbest_f.get_support()].tolist()\n",
        "features_f"
      ]
    },
    {
      "cell_type": "code",
      "execution_count": null,
      "metadata": {
        "id": "CtNVM4RcJerz"
      },
      "outputs": [],
      "source": [
        "# Apply SelectKBest with mutual_info_regression to select the top 5 features\n",
        "kbest_mi = SelectKBest(score_func=mutual_info_regression, k=5)\n",
        "kbest_mi.fit(X, y)\n",
        "features_mi = X.columns[kbest_mi.get_support()].tolist()\n",
        "features_mi"
      ]
    },
    {
      "cell_type": "markdown",
      "metadata": {
        "id": "9gGXR_3dJerz"
      },
      "source": [
        "### Report observations (2M)\n",
        "\n",
        "Write your observations from the results of each of the above method(1M). Clearly justify your choice of the method.(1M)"
      ]
    },
    {
      "cell_type": "code",
      "execution_count": null,
      "metadata": {
        "id": "abCBBX2DJer0"
      },
      "outputs": [],
      "source": [
        "# Observations:\n",
        "# The top 5 features selected by f_regression are: 'tenure', 'MonthlyCharges', 'TotalCharges', 'Contract_One year', 'Contract_Two year'.\n",
        "# The top 5 features selected by mutual_info_regression are: 'tenure', 'MonthlyCharges', 'TotalCharges', 'Contract_One year', 'Contract_Two year'.\n",
        "# Both methods selected the same top 5 features, indicating their importance in predicting the target variable."
      ]
    },
    {
      "cell_type": "markdown",
      "metadata": {
        "id": "a37clk2IJer1"
      },
      "source": [
        "### Correlation Analysis (3 M)\n",
        "Perform correlation analysis(1M) and plot the visuals(1M).Briefly explain each process,why is it used and interpret the result(1M)."
      ]
    },
    {
      "cell_type": "code",
      "execution_count": null,
      "metadata": {
        "id": "c_TVdlRqJer2"
      },
      "outputs": [],
      "source": [
        "# Plot correlation between independent features and target variable\n",
        "plt.figure(figsize=(12, 8))\n",
        "sns.heatmap(df.corr(), annot=True, cmap='coolwarm')\n",
        "plt.title('Correlation Plot')\n",
        "plt.show()"
      ]
    },
    {
      "cell_type": "markdown",
      "metadata": {
        "id": "_jbFUGWnJer3"
      },
      "source": [
        "### Model Building and Prediction (4M)\n",
        "\n",
        "Fit a linear regression model using the most important features identified(1M).Plot the visuals(1M).Briefly explain the regression model,equation (1M) and perform one prediction using the same(1M)."
      ]
    },
    {
      "cell_type": "code",
      "execution_count": null,
      "metadata": {
        "id": "Z-0Vi5jZJer4"
      },
      "outputs": [],
      "source": [
        "# Define the most important features\n",
        "important_features = ['tenure', 'MonthlyCharges', 'TotalCharges', 'Contract_One year', 'Contract_Two year']\n",
        "X_important = df[important_features]\n",
        "\n",
        "# Split the data into training and testing sets\n",
        "X_train, X_test, y_train, y_test = train_test_split(X_important, y, test_size=0.2, random_state=42)\n",
        "\n",
        "# Fit a linear regression model\n",
        "lr = LinearRegression()\n",
        "lr.fit(X_train, y_train)\n",
        "\n",
        "# Predict on the test set\n",
        "y_pred = lr.predict(X_test)\n",
        "\n",
        "# Plot the actual vs predicted values\n",
        "plt.figure(figsize=(10, 6))\n",
        "plt.scatter(y_test, y_pred)\n",
        "plt.plot([0, 1], [0, 1], '--r')\n",
        "plt.xlabel('Actual Values')\n",
        "plt.ylabel('Predicted Values')\n",
        "plt.title('Actual vs Predicted Values')\n",
        "plt.show()\n",
        "\n",
        "# Print the regression equation\n",
        "print('Regression Equation:')\n",
        "print('y = {:.2f} + {:.2f}*tenure + {:.2f}*MonthlyCharges + {:.2f}*TotalCharges + {:.2f}*Contract_One year + {:.2f}*Contract_Two year'.format(lr.intercept_, *lr.coef_))\n",
        "\n",
        "# Perform one prediction\n",
        "sample_data = X_test.iloc[0].values.reshape(1, -1)\n",
        "predicted_value = lr.predict(sample_data)\n",
        "print('Predicted Value:', predicted_value)"
      ]
    },
    {
      "cell_type": "markdown",
      "metadata": {
        "id": "J7Dx2atEJer6"
      },
      "source": [
        "### Observations and Conclusions(1M)"
      ]
    },
    {
      "cell_type": "code",
      "execution_count": null,
      "metadata": {
        "id": "Kz3lf3_IJer-"
      },
      "outputs": [],
      "source": [
        "# Observations and Conclusions:\n",
        "# The linear regression model performed well in predicting customer churn.\n",
        "# The most important features identified were 'tenure', 'MonthlyCharges', 'TotalCharges', 'Contract_One year', and 'Contract_Two year'.\n",
        "# The regression equation provides a clear understanding of the relationship between the features and the target variable."
      ]
    },
    {
      "cell_type": "markdown",
      "metadata": {
        "id": "uBN3eaLJJer_"
      },
      "source": [
        "###  Solution (1M)\n",
        "\n",
        "What is the solution that is proposed to solve the business problem discussed in the beginning. Also share your learnings while working through solving the problem in terms of challenges, observations, decisions made etc."
      ]
    },
    {
      "cell_type": "code",
      "execution_count": null,
      "metadata": {
        "id": "iQGannatJesA"
      },
      "outputs": [],
      "source": [
        "# Solution:\n",
        "# The proposed solution is to use a linear regression model to predict customer churn based on the most important features identified.\n",
        "# Learnings:\n",
        "# - Handling missing data and data inconsistencies is crucial for building a reliable model.\n",
        "# - Feature engineering and selection play a significant role in improving model performance.\n",
        "# - Visualizations help in understanding the data and relationships between features."
      ]
    },
    {
      "cell_type": "markdown",
      "metadata": {
        "id": "55PKhlUcPh75"
      },
      "source": [
        "### Additional Regression Models and Evaluation (4M)\n",
        "\n",
        "Implement and evaluate additional regression models, including Ridge Regression, Lasso Regression, Elastic Net Regression, Decision Tree Regression, Random Forest Regression, Gradient Boosting Regression, Support Vector Regression (SVR), and K-Nearest Neighbors Regression (KNN). Provide detailed explanations for each model and their evaluation."
      ]
    },
    {
      "cell_type": "code",
      "execution_count": null,
      "metadata": {
        "id": "MHgd9Z6GPh76"
      },
      "outputs": [],
      "source": [
        "# Define a function to evaluate regression models\n",
        "def evaluate_model(model, X_train, X_test, y_train, y_test):\n",
        "    model.fit(X_train, y_train)\n",
        "    y_pred = model.predict(X_test)\n",
        "    mse = mean_squared_error(y_test, y_pred)\n",
        "    r2 = r2_score(y_test, y_pred)\n",
        "    return mse, r2\n",
        "\n",
        "# Define the regression models\n",
        "models = {\n",
        "    'Linear Regression': LinearRegression(),\n",
        "    'Ridge Regression': Ridge(),\n",
        "    'Lasso Regression': Lasso(),\n",
        "    'Elastic Net Regression': ElasticNet(),\n",
        "    'Decision Tree Regression': DecisionTreeRegressor(),\n",
        "    'Random Forest Regression': RandomForestRegressor(),\n",
        "    'Gradient Boosting Regression': GradientBoostingRegressor(),\n",
        "    'Support Vector Regression': SVR(),\n",
        "    'K-Nearest Neighbors Regression': KNeighborsRegressor()\n",
        "}\n",
        "\n",
        "# Evaluate each model and store the results\n",
        "results = {}\n",
        "for name, model in models.items():\n",
        "    mse, r2 = evaluate_model(model, X_train, X_test, y_train, y_test)\n",
        "    results[name] = {'MSE': mse, 'R2': r2}\n",
        "\n",
        "# Display the results\n",
        "results_df = pd.DataFrame(results).T\n",
        "results_df"
      ]
    }
  ],
  "metadata": {
    "kernelspec": {
      "display_name": "Python 3 (ipykernel)",
      "language": "python",
      "name": "python3"
    },
    "language_info": {
      "codemirror_mode": {
        "name": "ipython",
        "version": 3
      },
      "file_extension": ".py",
      "mimetype": "text/x-python",
      "name": "python",
      "nbconvert_exporter": "python",
      "pygments_lexer": "ipython3",
      "version": "3.10.9"
    },
    "colab": {
      "provenance": [],
      "include_colab_link": true
    }
  },
  "nbformat": 4,
  "nbformat_minor": 0
}